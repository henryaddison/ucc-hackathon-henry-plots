{
 "cells": [
  {
   "cell_type": "markdown",
   "id": "345a1b27-1df4-40e8-a2f9-0ff817ad8241",
   "metadata": {
    "tags": []
   },
   "source": [
    "# Evaluation of a selection of models on 60km -> 2.2km-4x over Birmingham"
   ]
  },
  {
   "cell_type": "code",
   "execution_count": null,
   "id": "48718f5d-f1f8-4ccc-8089-a90b8e505b7c",
   "metadata": {
    "tags": []
   },
   "outputs": [],
   "source": [
    "%reload_ext autoreload\n",
    "\n",
    "%autoreload 2\n",
    "\n",
    "%reload_ext dotenv\n",
    "%dotenv\n",
    "    \n",
    "import IPython\n",
    "import matplotlib.pyplot as plt\n",
    "\n",
    "from mlde_utils.utils import prep_eval_data\n",
    "from mlde_notebooks import plot_spread_skill"
   ]
  },
  {
   "cell_type": "code",
   "execution_count": null,
   "id": "361fe73f-2d52-4862-8b8c-ab7604ad6c29",
   "metadata": {
    "tags": [
     "parameters"
    ]
   },
   "outputs": [],
   "source": [
    "split = \"val\"\n",
    "ensemble_members = [\n",
    "    \"01\",\n",
    "    \"04\",\n",
    "    \"05\",\n",
    "    \"06\",\n",
    "    \"07\",\n",
    "    \"08\",\n",
    "    \"09\",\n",
    "    \"10\",\n",
    "    \"11\",\n",
    "    \"12\",\n",
    "    \"13\",\n",
    "    \"15\",\n",
    "]\n",
    "samples_per_run = 3\n",
    "data_configs = {\n",
    "    \"CPM\": [\n",
    "        {\n",
    "            \"fq_model_id\": \"score-sde/subvpsde/xarray_cncsnpp_continuous/bham-4x_12em_PslT4V4_random-season-IstanTsqrturrecen\",\n",
    "            \"checkpoint\": \"epoch-20\",\n",
    "            \"input_xfm\": \"stan\",\n",
    "            \"label\": \"Diffusion 12em\",\n",
    "            \"dataset\": \"bham_gcmx-4x_12em_psl-temp4th-vort4th_eqvt_random-season\",\n",
    "            \"deterministic\": False,\n",
    "        },\n",
    "    ],\n",
    "}\n",
    "highlighted_cpm_models = [\"Diffusion 12em\"]\n",
    "# the datasets to use for comparisons like PSD which need default datasets with CPM-based hi-res precip and GCM-based lo-res precip respectively\n",
    "simulation_pr_datasets = {\n",
    "    \"GCM\": \"bham_60km-4x_linpr_random-season\",\n",
    "    \"CPM\": \"bham_60km-4x_linpr_random-season\"\n",
    "}\n",
    "gcm_lr_lin_pr_dataset = \"bham_60km-4x_12em_linpr_eqvt_random-season\"\n",
    "cpm_hr_pr_dataset = \"bham_gcmx-4x_12em_linpr_eqvt_random-season\"\n",
    "desc = \"\"\"\n",
    "Describe in more detail the models being compared\n",
    "\"\"\""
   ]
  },
  {
   "cell_type": "code",
   "execution_count": null,
   "id": "778a28b3-8483-4b83-895c-0253b499f36b",
   "metadata": {
    "tags": []
   },
   "outputs": [],
   "source": [
    "IPython.display.Markdown(desc)"
   ]
  },
  {
   "cell_type": "code",
   "execution_count": null,
   "id": "0c4f31ee-065b-4693-9c8e-51829a6051ef",
   "metadata": {
    "tags": []
   },
   "outputs": [],
   "source": [
    "data_configs = { source: [ config for config in configs if config[\"deterministic\"] is False ] for source, configs in data_configs.items() }"
   ]
  },
  {
   "cell_type": "code",
   "execution_count": null,
   "id": "4df16b68-4c4d-42fb-9134-72f81d23b70b",
   "metadata": {
    "tags": []
   },
   "outputs": [],
   "source": [
    "det_models = { source: [\n",
    "    run_config[\"label\"] for run_config in run_configs if run_config[\"deterministic\"]\n",
    "] for source, run_configs in data_configs.items() }\n",
    "stoch_models = { source: [\n",
    "    run_config[\"label\"]\n",
    "    for run_config in run_configs\n",
    "    if not run_config[\"deterministic\"]\n",
    "] for source, run_configs in data_configs.items() }\n",
    "merged_ds = { source: prep_eval_data(data_config, split, ensemble_members=ensemble_members, samples_per_run=samples_per_run) for source, data_config in data_configs.items() }\n",
    "merged_ds"
   ]
  },
  {
   "cell_type": "markdown",
   "id": "1066cb4a-8851-403e-816e-b3a25a7ecf7b",
   "metadata": {
    "tags": []
   },
   "source": [
    "## Spread-skill\n",
    "\n",
    "https://journals.ametsoc.org/view/journals/hydr/15/4/jhm-d-14-0008_1.xml?tab_body=fulltext-display\n",
    "\n",
    "https://journals.ametsoc.org/view/journals/aies/2/2/AIES-D-22-0061.1.xml\n",
    "\n",
    "https://www.sciencedirect.com/science/article/pii/S0021999107000812"
   ]
  },
  {
   "cell_type": "code",
   "execution_count": null,
   "id": "343d54f9-f4f1-4f25-a0da-307297e332a1",
   "metadata": {
    "tags": []
   },
   "outputs": [],
   "source": [
    "cpm_ds = merged_ds[\"CPM\"].sel(model=stoch_models[\"CPM\"])\n",
    "\n",
    "fig = plt.figure(figsize=(5.5, 5.5), layout=\"constrained\")\n",
    "axd = fig.subplot_mosaic([[\"Spread-Skill\"]])\n",
    "ax = axd[\"Spread-Skill\"]\n",
    "plot_spread_skill(cpm_ds, ax)\n",
    "\n",
    "plt.show()"
   ]
  },
  {
   "cell_type": "markdown",
   "id": "bd7242ab-5e61-4bd7-843f-0942ba6abd7a",
   "metadata": {
    "tags": []
   },
   "source": [
    "## CRPS"
   ]
  },
  {
   "cell_type": "raw",
   "id": "8d271158-460d-4d4f-ba8f-8b9c3538fe70",
   "metadata": {},
   "source": [
    "from properscoring import crps_ensemble\n",
    "ds = merged_ds[\"CPM\"]\n",
    "crps_scores = {}\n",
    "for model, model_ds in ds.groupby(\"model\"):\n",
    "    truth = model_ds[\"target_pr\"].transpose(\"time\", \"grid_latitude\", \"grid_longitude\")\n",
    "    forecasts = model_ds[\"pred_pr\"].transpose(\"time\", \"grid_latitude\", \"grid_longitude\", \"sample_id\")\n",
    "    crps_scores[model] = crps_ensemble(truth, forecasts).mean()\n",
    "    \n",
    "print(crps_scores)"
   ]
  },
  {
   "cell_type": "code",
   "execution_count": null,
   "id": "cfd20fe4-e06c-49f8-89d0-a790e7236d24",
   "metadata": {},
   "outputs": [],
   "source": []
  }
 ],
 "metadata": {
  "kernelspec": {
   "display_name": "Python 3 (ipykernel)",
   "language": "python",
   "name": "python3"
  }
 },
 "nbformat": 4,
 "nbformat_minor": 5
}

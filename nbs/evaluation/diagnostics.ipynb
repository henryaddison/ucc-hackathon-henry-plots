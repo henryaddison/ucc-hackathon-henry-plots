{
 "cells": [
  {
   "cell_type": "markdown",
   "id": "345a1b27-1df4-40e8-a2f9-0ff817ad8241",
   "metadata": {},
   "source": [
    "# Evaluation of a selection of models on 60km -> 2.2km-4x over Birmingham"
   ]
  },
  {
   "cell_type": "code",
   "execution_count": null,
   "id": "48718f5d-f1f8-4ccc-8089-a90b8e505b7c",
   "metadata": {},
   "outputs": [],
   "source": [
    "%reload_ext autoreload\n",
    "\n",
    "%autoreload 2\n",
    "\n",
    "%reload_ext dotenv\n",
    "%dotenv\n",
    "    \n",
    "import math\n",
    "import os\n",
    "\n",
    "import cftime\n",
    "import iris\n",
    "import iris.analysis.cartography\n",
    "import IPython\n",
    "import matplotlib\n",
    "import matplotlib.pyplot as plt\n",
    "import numpy as np\n",
    "import pysteps\n",
    "import scipy\n",
    "import xarray as xr\n",
    "\n",
    "from mlde_notebooks import plot_map, show_samples, distribution_figure, plot_mean_bias, plot_std_bias, scatter_plots, seasonal_distribution_figure, compute_gridspec, freq_density_plot\n",
    "from mlde_notebooks.psd import plot_psd\n",
    "from mlde_utils import cp_model_rotated_pole, TIME_PERIODS\n",
    "from mlde_notebooks.data import prep_eval_data\n",
    "from mlde_notebooks import create_map_fig, qq_plot, STYLES"
   ]
  },
  {
   "cell_type": "code",
   "execution_count": null,
   "id": "33f41588-12d6-413c-9969-017d91027b3c",
   "metadata": {},
   "outputs": [],
   "source": [
    "def reasonable_quantiles(da):\n",
    "    limit = int(np.log10(1/da.size))\n",
    "    print(limit)\n",
    "    return np.concatenate([np.linspace((1-10**(i+1))+(10**i), (1-10**i), 9) for i in range(-1, limit-1, -1)] + [[1.0]])"
   ]
  },
  {
   "cell_type": "code",
   "execution_count": null,
   "id": "361fe73f-2d52-4862-8b8c-ab7604ad6c29",
   "metadata": {
    "tags": [
     "parameters"
    ]
   },
   "outputs": [],
   "source": [
    "split = \"val\"\n",
    "ensemble_members = [\n",
    "    \"01\",\n",
    "    \"04\",\n",
    "    \"05\",\n",
    "    \"06\",\n",
    "    \"07\",\n",
    "    \"08\",\n",
    "    \"09\",\n",
    "    \"10\",\n",
    "    \"11\",\n",
    "    \"12\",\n",
    "    \"13\",\n",
    "    \"15\",\n",
    "]\n",
    "samples_per_run = 3\n",
    "data_configs = {\n",
    "    \"CPM\": [\n",
    "        {\n",
    "            \"fq_model_id\": \"id-linpr\",\n",
    "            \"checkpoint\": \"epoch-0\",\n",
    "            \"input_xfm\": \"none\",\n",
    "            \"label\": \"LR precip (interp)\",\n",
    "            \"deterministic\": True,\n",
    "            \"dataset\": \"bham_gcmx-4x_12em_linpr_eqvt_random-season\",\n",
    "        },\n",
    "        {\n",
    "            \"fq_model_id\": \"score-sde/subvpsde/xarray_cncsnpp_continuous/bham-4x_12em_PslT4V4_random-season-IstanTsqrturrecen\",\n",
    "            \"checkpoint\": \"epoch-20\",\n",
    "            \"input_xfm\": \"stan\",\n",
    "            \"label\": \"Diffusion 12em\",\n",
    "            \"dataset\": \"bham_gcmx-4x_12em_psl-temp4th-vort4th_eqvt_random-season\",\n",
    "            \"deterministic\": False,\n",
    "        },\n",
    "    ],\n",
    "    \"GCM\": [\n",
    "        {\n",
    "            \"fq_model_id\": \"id-linpr\",\n",
    "            \"checkpoint\": \"epoch-0\",\n",
    "            \"input_xfm\": \"none\",\n",
    "            \"label\": \"LR precip (interp)\",\n",
    "            \"deterministic\": True,\n",
    "            \"dataset\": \"bham_60km-4x_12em_linpr_eqvt_random-season\",\n",
    "        },\n",
    "        {\n",
    "            \"fq_model_id\": \"score-sde/subvpsde/xarray_cncsnpp_continuous/bham-4x_12em_PslT4V4_random-season-IstanTsqrturrecen\",\n",
    "            \"checkpoint\": \"epoch-20\",\n",
    "            \"input_xfm\": \"pixelmmsstan\",\n",
    "            \"label\": \"Diffusion bc 12em\",\n",
    "            \"dataset\": \"bham_60km-4x_12em_psl-temp4th-vort4th_eqvt_random-season\",\n",
    "            \"deterministic\": False,\n",
    "        },\n",
    "    ],\n",
    "}\n",
    "highlighted_cpm_models = [\"Diffusion 12em\"]\n",
    "# the datasets to use for comparisons like PSD which need default datasets with CPM-based hi-res precip and GCM-based lo-res precip respectively\n",
    "simulation_pr_datasets = {\n",
    "    \"GCM\": \"bham_60km-4x_linpr_random-season\",\n",
    "    \"CPM\": \"bham_60km-4x_linpr_random-season\"\n",
    "}\n",
    "gcm_lr_lin_pr_dataset = \"bham_60km-4x_12em_linpr_eqvt_random-season\"\n",
    "cpm_hr_pr_dataset = \"bham_gcmx-4x_12em_linpr_eqvt_random-season\"\n",
    "desc = \"\"\"\n",
    "Describe in more detail the models being compared\n",
    "\"\"\""
   ]
  },
  {
   "cell_type": "code",
   "execution_count": null,
   "id": "778a28b3-8483-4b83-895c-0253b499f36b",
   "metadata": {},
   "outputs": [],
   "source": [
    "IPython.display.Markdown(desc)"
   ]
  },
  {
   "cell_type": "code",
   "execution_count": null,
   "id": "4df16b68-4c4d-42fb-9134-72f81d23b70b",
   "metadata": {},
   "outputs": [],
   "source": [
    "merged_ds = { source: prep_eval_data(data_config, split, ensemble_members=ensemble_members, samples_per_run=samples_per_run) for source, data_config in data_configs.items() }\n",
    "cpm_pr = merged_ds[\"CPM\"][\"target_pr\"]\n",
    "merged_ds"
   ]
  },
  {
   "cell_type": "markdown",
   "id": "1104e57b-f3c0-4a56-831a-ba99d91f05a4",
   "metadata": {},
   "source": [
    "## Pixel distribution"
   ]
  },
  {
   "cell_type": "code",
   "execution_count": null,
   "id": "4c5b48a3-1412-4af2-b6ed-58bd6c836703",
   "metadata": {},
   "outputs": [],
   "source": [
    "quantiles = reasonable_quantiles(cpm_pr)"
   ]
  },
  {
   "cell_type": "markdown",
   "id": "f7c94de3-38a8-46ee-a341-43a8ec4b7bd6",
   "metadata": {},
   "source": [
    "### CPM"
   ]
  },
  {
   "cell_type": "code",
   "execution_count": null,
   "id": "67504a35-1ab2-40c8-b23d-2fee8ad6b272",
   "metadata": {},
   "outputs": [],
   "source": [
    "distribution_figure(merged_ds[\"CPM\"], cpm_pr, quantiles, quantile_dims=[\"ensemble_member\", \"time\", \"grid_latitude\", \"grid_longitude\"])"
   ]
  },
  {
   "cell_type": "markdown",
   "id": "56c8ca19-c662-49b5-b519-2904e1167b95",
   "metadata": {},
   "source": [
    "### GCM"
   ]
  },
  {
   "cell_type": "code",
   "execution_count": null,
   "id": "84ca804e-4c40-4853-a051-592439411232",
   "metadata": {},
   "outputs": [],
   "source": [
    "distribution_figure(merged_ds[\"GCM\"], cpm_pr, quantiles, quantile_dims=[\"ensemble_member\", \"time\", \"grid_latitude\", \"grid_longitude\"])"
   ]
  },
  {
   "cell_type": "markdown",
   "id": "d21b388b-a51e-41fe-b810-30293c6cd69e",
   "metadata": {},
   "source": [
    "### Seasonal"
   ]
  },
  {
   "cell_type": "code",
   "execution_count": null,
   "id": "a7e7d0d8-4600-457d-9c8a-f04a3d81c345",
   "metadata": {},
   "outputs": [],
   "source": [
    "for source in merged_ds.keys():\n",
    "    IPython.display.display_html(f\"<h4>{source}</h4>\", raw=True)\n",
    "    seasonal_distribution_figure(merged_ds[source], cpm_pr, quantiles, quantile_dims=[\"ensemble_member\", \"time\", \"grid_latitude\", \"grid_longitude\"])"
   ]
  },
  {
   "cell_type": "markdown",
   "id": "6f82be98-65cc-47da-bf50-2931839bbfce",
   "metadata": {},
   "source": [
    "### Subregions"
   ]
  },
  {
   "cell_type": "code",
   "execution_count": null,
   "id": "09315b2d-aaa2-4634-ba26-d4068489c765",
   "metadata": {},
   "outputs": [],
   "source": [
    "subregions = {\n",
    "    \"SE\": dict(grid_latitude=slice(10, 26), grid_longitude=slice(38, 54)),\n",
    "    \"NW\": dict(grid_latitude=slice(44, 60), grid_longitude=slice(18, 34)),\n",
    "}\n",
    "\n",
    "fig, axd = create_map_fig([[\"subregions\"]])\n",
    "\n",
    "plot_map(10*xr.ones_like(merged_ds[\"CPM\"][\"pred_pr\"].isel(ensemble_member=0, sample_id=0, model=0, time=0)).isel(**subregions[\"NW\"]), ax=axd[\"subregions\"], style=\"precip\")\n",
    "plot_map(1*xr.ones_like(merged_ds[\"CPM\"][\"pred_pr\"].isel(ensemble_member=0, sample_id=0, model=0, time=0)).isel(**subregions[\"SE\"]), ax=axd[\"subregions\"], style=\"precip\")\n",
    "    \n",
    "axd[\"subregions\"].set_extent([-2, 3, -2.5, 2.5], crs=cp_model_rotated_pole)"
   ]
  },
  {
   "cell_type": "markdown",
   "id": "14498b2f-956d-4d59-b708-4ded83c640ae",
   "metadata": {},
   "source": [
    "#### NW"
   ]
  },
  {
   "cell_type": "code",
   "execution_count": null,
   "id": "0ca10946-4d33-4e2b-81b9-7b5e19c5136f",
   "metadata": {},
   "outputs": [],
   "source": [
    "srname = \"NW\"\n",
    "srbnds = subregions[srname]\n",
    "\n",
    "for source in merged_ds.keys():\n",
    "    IPython.display.display_html(f\"<h5>{source}</h5>\", raw=True)\n",
    "    ds = merged_ds[source].isel(**srbnds)\n",
    "    if source == \"CPM\":\n",
    "        ds = ds.sel(model=highlighted_cpm_models)\n",
    "    sr_cpm_pr = cpm_pr.isel(**srbnds)\n",
    "    quantiles = reasonable_quantiles(sr_cpm_pr)\n",
    "    distribution_figure(ds, sr_cpm_pr, quantiles, quantile_dims=[\"ensemble_member\", \"time\", \"grid_latitude\", \"grid_longitude\"])"
   ]
  },
  {
   "cell_type": "markdown",
   "id": "52958150-c82c-4d98-a27c-c3ee405d78bd",
   "metadata": {},
   "source": [
    "##### NW Winter"
   ]
  },
  {
   "cell_type": "code",
   "execution_count": null,
   "id": "57f89031-7e10-45c0-ba29-92aecc7d9b89",
   "metadata": {},
   "outputs": [],
   "source": [
    "srname=\"NW\"\n",
    "srseason=\"DJF\"\n",
    "for source in merged_ds.keys():\n",
    "    IPython.display.display_html(f\"<h5>{source}</h5>\", raw=True)\n",
    "    srseason_mask = merged_ds[source].isel(**subregions[srname])[\"time.season\"] == srseason\n",
    "    srseason_mask_sample_ds = merged_ds[source].isel(**subregions[srname]).sel(time=srseason_mask)\n",
    "    if source == \"CPM\":\n",
    "        srseason_mask_sample_ds = srseason_mask_sample_ds.sel(model=highlighted_cpm_models)\n",
    "    srseason_mask_cpm_pr = cpm_pr.isel(srbnds).sel(time=srseason_mask)\n",
    "    quantiles = reasonable_quantiles(srseason_mask_cpm_pr)\n",
    "    distribution_figure(srseason_mask_sample_ds, srseason_mask_cpm_pr, quantiles, quantile_dims=[\"ensemble_member\", \"time\", \"grid_latitude\", \"grid_longitude\"])"
   ]
  },
  {
   "cell_type": "markdown",
   "id": "acacbced-ba0f-4103-be64-b71425e39ccb",
   "metadata": {},
   "source": [
    "#### SE"
   ]
  },
  {
   "cell_type": "code",
   "execution_count": null,
   "id": "b24f8bbd-1677-48de-938f-ca2a6aec2216",
   "metadata": {},
   "outputs": [],
   "source": [
    "srname = \"SE\"\n",
    "srbnds = subregions[srname]\n",
    "for source in merged_ds.keys():\n",
    "    IPython.display.display_html(f\"<h5>{source}</h5>\", raw=True)\n",
    "    ds = merged_ds[source].isel(**srbnds)\n",
    "    if source == \"CPM\":\n",
    "        ds = ds.sel(model=highlighted_cpm_models)\n",
    "    sr_cpm_pr = cpm_pr.isel(**srbnds)\n",
    "    quantiles = reasonable_quantiles(sr_cpm_pr)\n",
    "    distribution_figure(ds, cpm_pr.isel(**srbnds), quantiles, quantile_dims=[\"ensemble_member\", \"time\", \"grid_latitude\", \"grid_longitude\"])"
   ]
  },
  {
   "cell_type": "markdown",
   "id": "e6dc954d-5e2e-4389-adfb-347e70919be5",
   "metadata": {},
   "source": [
    "##### SE Summer"
   ]
  },
  {
   "cell_type": "code",
   "execution_count": null,
   "id": "9e2fbb43-26f1-4a40-b3bc-d99aefb3537f",
   "metadata": {},
   "outputs": [],
   "source": [
    "srname = \"SE\"\n",
    "srseason = \"JJA\"\n",
    "for source in merged_ds.keys():\n",
    "    IPython.display.display_html(f\"<h5>{source}</h5>\", raw=True)\n",
    "    srseason_mask = merged_ds[source].isel(**subregions[srname])[\"time.season\"] == srseason\n",
    "    srseason_mask_sample_ds = merged_ds[source].isel(**subregions[srname]).sel(time=srseason_mask)\n",
    "    if source == \"CPM\":\n",
    "        srseason_mask_sample_ds = srseason_mask_sample_ds.sel(model=highlighted_cpm_models)\n",
    "    srseason_mask_cpm_pr = cpm_pr.isel(srbnds).sel(time=srseason_mask)\n",
    "    quantiles = reasonable_quantiles(srseason_mask_cpm_pr)\n",
    "    distribution_figure(srseason_mask_sample_ds, srseason_mask_cpm_pr, quantiles, quantile_dims=[\"ensemble_member\", \"time\", \"grid_latitude\", \"grid_longitude\"])"
   ]
  },
  {
   "cell_type": "markdown",
   "id": "1756b60b-5bfd-4cef-8c09-618e71a49314",
   "metadata": {},
   "source": [
    "### Scatter plots"
   ]
  },
  {
   "cell_type": "code",
   "execution_count": null,
   "id": "f487c658-f084-497a-a11f-89799a05a15b",
   "metadata": {},
   "outputs": [],
   "source": [
    "# for source in ds[\"source\"].values:\n",
    "#     IPython.display.display_html(f\"<h5>{source}</h5>\", raw=True)\n",
    "#     scatter_plots(merged_ds.sel(source=source), cpm_pr)"
   ]
  },
  {
   "cell_type": "markdown",
   "id": "b958f3e2-e6bd-4aaf-a15e-6d57cdd369bb",
   "metadata": {},
   "source": [
    "## Mean distrubution"
   ]
  },
  {
   "cell_type": "code",
   "execution_count": null,
   "id": "f0bc8849-d68f-4e7c-8cfe-344c76b1447a",
   "metadata": {
    "tags": []
   },
   "outputs": [],
   "source": [
    "mean_ds = { source: ds[[\"target_pr\", \"pred_pr\"]].mean(dim=[\"grid_latitude\", \"grid_longitude\"]) for source, ds in merged_ds.items() }\n",
    "cpm_mean_pr = mean_ds[\"CPM\"][\"target_pr\"]\n",
    "quantiles = reasonable_quantiles(cpm_mean_pr)"
   ]
  },
  {
   "cell_type": "raw",
   "id": "53af8f0b-872f-46b7-b654-7b7d59c2ed9f",
   "metadata": {
    "tags": []
   },
   "source": [
    "for source in mean_ds.keys():\n",
    "    IPython.display.display_html(f\"<h3>{source}</h3>\", raw=True)\n",
    "    distribution_figure(mean_ds[source], cpm_mean_pr, quantiles, quantile_dims=[\"ensemble_member\", \"time\"])"
   ]
  },
  {
   "cell_type": "raw",
   "id": "6d9b92ae-9bbf-48e3-a5f4-f0a8835a8b8e",
   "metadata": {
    "tags": []
   },
   "source": [
    "for source in mean_ds.keys():\n",
    "    IPython.display.display_html(f\"<h3>{source}</h3>\", raw=True)\n",
    "    seasonal_distribution_figure(mean_ds[source], cpm_mean_pr, quantiles, quantile_dims=[\"ensemble_member\", \"time\"])"
   ]
  },
  {
   "cell_type": "markdown",
   "id": "dc859dfe-24d6-47e2-b80e-95b42b0a09d4",
   "metadata": {
    "tags": []
   },
   "source": [
    "### CPM Scatter plots"
   ]
  },
  {
   "cell_type": "code",
   "execution_count": null,
   "id": "eac87c47-8d0c-4600-a1b1-149e23180fc5",
   "metadata": {
    "tags": []
   },
   "outputs": [],
   "source": [
    "source = \"CPM\"\n",
    "fig = plt.figure(layout=\"constrained\")\n",
    "scatter_plots(mean_ds[source], fig=fig)\n",
    "plt.show()\n",
    "\n",
    "for season, seasonal_mean_ds in mean_ds[source].groupby(\"time.season\"):\n",
    "    IPython.display.display_html(f\"<h4>{season}</h4>\", raw=True)\n",
    "    fig = plt.figure(layout=\"constrained\")\n",
    "    scatter_plots(seasonal_mean_ds, fig=fig)\n",
    "    plt.show()"
   ]
  },
  {
   "cell_type": "markdown",
   "id": "f4ba822c-b8d8-4c2a-b629-2bdf43a90bd2",
   "metadata": {
    "tags": []
   },
   "source": [
    "## Bias $\\frac{\\mu_{sample}-\\mu_{CPM}}{\\mu_{CPM}}$"
   ]
  },
  {
   "cell_type": "markdown",
   "id": "f0938323-bc33-4fb5-9a2a-9777acf6eab2",
   "metadata": {},
   "source": [
    "### All"
   ]
  },
  {
   "cell_type": "code",
   "execution_count": null,
   "id": "f2b208f0-d33a-4c72-809e-4d992145b736",
   "metadata": {},
   "outputs": [],
   "source": [
    "for source in merged_ds.keys():\n",
    "    IPython.display.display_html(f\"<h4>{source}</h4>\", raw=True)\n",
    "    plot_mean_bias(merged_ds[source], cpm_pr)"
   ]
  },
  {
   "cell_type": "markdown",
   "id": "1e85d6f5-22ad-41c9-891a-512f3c073833",
   "metadata": {},
   "source": [
    "### All variability"
   ]
  },
  {
   "cell_type": "code",
   "execution_count": null,
   "id": "682e20c9-032f-4da5-9423-08e0545e0e2a",
   "metadata": {},
   "outputs": [],
   "source": [
    "for source in merged_ds.keys():\n",
    "    IPython.display.display_html(f\"<h4>{source}</h4>\", raw=True)\n",
    "    target_mean = cpm_pr.mean(dim=[\"time\"])\n",
    "    for model, model_pr in merged_ds[source][\"pred_pr\"].groupby(\"model\", squeeze=False):\n",
    "        IPython.display.display_html(f\"<h4>{model}</h4>\", raw=True)\n",
    "        model_sample_mean_pr = model_pr.squeeze(\"model\").mean(dim=[\"sample_id\", \"time\"])\n",
    "        bias = model_sample_mean_pr - target_mean\n",
    "        bias_ratio = 100*bias / target_mean\n",
    "        g = bias_ratio.plot.pcolormesh(col=\"ensemble_member\", col_wrap=6, transform=cp_model_rotated_pole, subplot_kws=dict(projection=cp_model_rotated_pole), **STYLES[\"discreteBias\"])\n",
    "        for ax in g.axs.flatten():\n",
    "            ax.coastlines()\n",
    "        \n",
    "        plt.show()"
   ]
  },
  {
   "cell_type": "markdown",
   "id": "1126795c-c47e-47bb-9de5-2fb7277fecde",
   "metadata": {},
   "source": [
    "### Seasonal"
   ]
  },
  {
   "cell_type": "code",
   "execution_count": null,
   "id": "3f82a8de-cf7f-401b-8f8d-b421ca9d4b11",
   "metadata": {},
   "outputs": [],
   "source": [
    "for source in merged_ds.keys():\n",
    "    IPython.display.display_html(f\"<h4>{source}</h4>\", raw=True)\n",
    "    for season, seasonal_ds in merged_ds[source].groupby(\"time.season\"):\n",
    "        IPython.display.display_html(f\"<h5>{season}</h5>\", raw=True)\n",
    "        seasonal_cpm_pr = cpm_pr.sel(time=(cpm_pr[\"time.season\"] == season))\n",
    "        plot_mean_bias(seasonal_ds, seasonal_cpm_pr)"
   ]
  },
  {
   "cell_type": "markdown",
   "id": "3691d022-0822-4799-8c0d-93224fe35783",
   "metadata": {},
   "source": [
    "## Standard deviation $\\sigma_{sample}$/$\\sigma_{CPM}$"
   ]
  },
  {
   "cell_type": "markdown",
   "id": "bcf05044-0366-464d-bb4c-722a9ef79b70",
   "metadata": {},
   "source": [
    "### All"
   ]
  },
  {
   "cell_type": "code",
   "execution_count": null,
   "id": "a8de95ee-f003-4c5c-ac21-5b197db39d57",
   "metadata": {},
   "outputs": [],
   "source": [
    "for source in merged_ds.keys():\n",
    "    IPython.display.display_html(f\"<h4>{source}</h4>\", raw=True)\n",
    "    plot_std_bias(merged_ds[source], cpm_pr)"
   ]
  },
  {
   "cell_type": "markdown",
   "id": "934e1f55-e9b0-464c-b3fe-f9fa7b64e1d2",
   "metadata": {},
   "source": [
    "### Seasonal"
   ]
  },
  {
   "cell_type": "code",
   "execution_count": null,
   "id": "606e9441-8591-4d8a-b2fa-12b8215cca7e",
   "metadata": {},
   "outputs": [],
   "source": [
    "for source in merged_ds.keys():\n",
    "    IPython.display.display_html(f\"<h4>{source}</h4>\", raw=True)\n",
    "    for season, seasonal_ds in merged_ds[source].groupby(\"time.season\"):\n",
    "        IPython.display.display_html(f\"<h5>{season}</h5>\", raw=True)\n",
    "        seasonal_cpm_pr = cpm_pr.sel(time=(cpm_pr[\"time.season\"] == season))\n",
    "        plot_std_bias(seasonal_ds, seasonal_cpm_pr)"
   ]
  },
  {
   "cell_type": "markdown",
   "id": "41991b90-3b72-4474-a938-e98f940b8d16",
   "metadata": {},
   "source": [
    "## Climate change signal"
   ]
  },
  {
   "cell_type": "code",
   "execution_count": null,
   "id": "b97654ae-9dfd-486a-8c31-2a410bef1546",
   "metadata": {},
   "outputs": [],
   "source": [
    "historical_ts_mask = (merged_ds[\"CPM\"][\"time\"] >= TIME_PERIODS[\"historic\"][0]) & (merged_ds[\"CPM\"][\"time\"] <= TIME_PERIODS[\"historic\"][1])\n",
    "ccs_seasons = [\"DJF\", \"JJA\"]"
   ]
  },
  {
   "cell_type": "markdown",
   "id": "e661a9bb-15f6-4ff8-b89a-237b1024d98e",
   "metadata": {},
   "source": [
    "### Pixel quantiles"
   ]
  },
  {
   "cell_type": "code",
   "execution_count": null,
   "id": "cf8b142c-3043-4fdd-bf63-637606a55b17",
   "metadata": {},
   "outputs": [],
   "source": [
    "for source in merged_ds.keys():\n",
    "    IPython.display.display_html(f\"<h4>{source}</h4>\", raw=True)\n",
    "    IPython.display.display_html(f\"<h5>Annual</h5>\", raw=True)\n",
    "    historical_cpm_pr = cpm_pr.sel(time=historical_ts_mask)\n",
    "    quantiles = reasonable_quantiles(historical_cpm_pr)\n",
    "    historical_cpm_pr_quantiles = historical_cpm_pr.quantile(quantiles, dim=[\"ensemble_member\", \"time\", \"grid_latitude\", \"grid_longitude\"])\n",
    "    \n",
    "    fig, axd = plt.subplot_mosaic([TIME_PERIODS.keys()], figsize=(18, 6))        \n",
    "    \n",
    "    for ts_key, (ts_start, ts_end) in TIME_PERIODS.items():\n",
    "        ts_mask = (merged_ds[source][\"time\"] >= ts_start) & (merged_ds[source][\"time\"] <= ts_end)\n",
    "        \n",
    "        ts_pred_pr = merged_ds[source].sel(time=ts_mask)[\"pred_pr\"]\n",
    "        \n",
    "        ts_cpm_pr = cpm_pr.sel(time=ts_mask)\n",
    "        \n",
    "        ts_sample_quantiles = ts_pred_pr.quantile(quantiles, dim=[\"ensemble_member\", \"time\", \"grid_latitude\", \"grid_longitude\"])\n",
    "        ts_cpm_quantiles = ts_cpm_pr.quantile(quantiles, dim=[\"ensemble_member\", \"time\", \"grid_latitude\", \"grid_longitude\"])\n",
    "        ts_quantiles = xr.concat([ts_sample_quantiles, ts_cpm_quantiles.expand_dims(model=[\"\\u200BCPM\"])], dim=\"model\")\n",
    "        ax = axd[ts_key]\n",
    "        qq_plot(ax, historical_cpm_pr_quantiles, ts_quantiles, title=f\"{ts_key} sample quantiles vs historic CPM quantiles\", xlabel=\"historic CPM precip (mm day$^{-1}$)\", tr=200, guide_label=None)\n",
    "    plt.show()\n",
    "\n",
    "    fig, axes = plt.subplot_mosaic([TIME_PERIODS.keys()], figsize=(18, 6), constrained_layout=True)\n",
    "    for ts_key, (ts_start, ts_end) in TIME_PERIODS.items():\n",
    "        ts_mask = (merged_ds[source][\"time\"] >= ts_start) & (merged_ds[source][\"time\"] <= ts_end)\n",
    "        \n",
    "        ts_pred_pr = merged_ds[source].sel(time=ts_mask)[\"pred_pr\"]\n",
    "        \n",
    "        ts_cpm_pr = cpm_pr.sel(time=ts_mask)\n",
    "        \n",
    "        ax = axes[ts_key]\n",
    "        ts_pr = xr.concat([ts_pred_pr, ts_cpm_pr.expand_dims(model=[f\"\\u200B{ts_key} CPM\"])], dim=\"model\")\n",
    "        freq_density_plot(ax, ts_pr, historical_cpm_pr, title=f\"Log density of {ts_key} samples and CPM precip\", target_label=\"Historic CPM\", grouping_key=\"model\")\n",
    "\n",
    "    plt.show()\n",
    "\n",
    "    for season in ccs_seasons:\n",
    "        IPython.display.display_html(f\"<h5>{season}</h5>\", raw=True)\n",
    "        season_mask = merged_ds[source][\"time.season\"] == season\n",
    "\n",
    "        historical_cpm_pr = cpm_pr.sel(time=historical_ts_mask & season_mask)\n",
    "        quantiles = reasonable_quantiles(historical_cpm_pr)\n",
    "        historical_cpm_pr_quantiles = historical_cpm_pr.quantile(quantiles, dim=[\"ensemble_member\", \"time\", \"grid_latitude\", \"grid_longitude\"])\n",
    "        \n",
    "        fig, axd = plt.subplot_mosaic([TIME_PERIODS.keys()], figsize=(18, 6))        \n",
    "        \n",
    "        for ts_key, (ts_start, ts_end) in TIME_PERIODS.items():\n",
    "            ts_mask = (merged_ds[source][\"time\"] >= ts_start) & (merged_ds[source][\"time\"] <= ts_end)\n",
    "            \n",
    "            ts_pred_pr = merged_ds[source].sel(time=ts_mask & season_mask)[\"pred_pr\"]\n",
    "            \n",
    "            ts_cpm_pr = cpm_pr.sel(time=ts_mask & season_mask)\n",
    "            \n",
    "            ts_sample_quantiles = ts_pred_pr.quantile(quantiles, dim=[\"ensemble_member\", \"time\", \"grid_latitude\", \"grid_longitude\"])\n",
    "            ts_cpm_quantiles = ts_cpm_pr.quantile(quantiles, dim=[\"ensemble_member\", \"time\", \"grid_latitude\", \"grid_longitude\"])\n",
    "            ts_quantiles = xr.concat([ts_sample_quantiles, ts_cpm_quantiles.expand_dims(model=[\"\\u200BCPM\"])], dim=\"model\")\n",
    "            ax = axd[ts_key]\n",
    "            qq_plot(ax, historical_cpm_pr_quantiles, ts_quantiles, title=f\"{season}: {ts_key} sample vs historic CPM quantiles\", xlabel=f\"historic {season} CPM precip (mm day$^{-1}$)\", tr=200, guide_label=None)\n",
    "        plt.show()\n",
    "\n",
    "        \n",
    "        fig, axes = plt.subplot_mosaic([TIME_PERIODS.keys()], figsize=(18, 6), constrained_layout=True)\n",
    "        for ts_key, (ts_start, ts_end) in TIME_PERIODS.items():\n",
    "            ts_mask = (merged_ds[source][\"time\"] >= ts_start) & (merged_ds[source][\"time\"] <= ts_end)\n",
    "            \n",
    "            ts_pred_pr = merged_ds[source].sel(time=ts_mask & season_mask)[\"pred_pr\"]\n",
    "            \n",
    "            ts_cpm_pr = cpm_pr.sel(time=ts_mask & season_mask)\n",
    "            \n",
    "            ax = axes[ts_key]\n",
    "            ts_pr = xr.concat([ts_pred_pr, ts_cpm_pr.expand_dims(model=[f\"\\u200B{ts_key} CPM\"])], dim=\"model\")\n",
    "            freq_density_plot(ax, ts_pr, historical_cpm_pr, title=f\"{season}: Log density of {ts_key} samples and CPM precip\", target_label=\"Historic CPM\", grouping_key=\"model\")\n",
    "\n",
    "        plt.show()\n",
    "    \n",
    "    for season in ccs_seasons:\n",
    "        IPython.display.display_html(f\"<h5>{season}</h5>\", raw=True)\n",
    "        season_mask = merged_ds[source][\"time.season\"] == season\n",
    "        for model, model_ds in merged_ds[source].groupby(\"model\", squeeze=False):\n",
    "            fig, axes = plt.subplot_mosaic(\n",
    "                    [TIME_PERIODS.keys()], figsize=(10.5, 3.5), constrained_layout=True\n",
    "                )\n",
    "            fig.suptitle(f\"{model} quantile variability\")\n",
    "            for ts_key, (ts_start, ts_end) in TIME_PERIODS.items():\n",
    "                ts_mask = (model_ds[\"time\"] >= ts_start) & (model_ds[\"time\"] <= ts_end)\n",
    "                \n",
    "                ts_cpm_pr = cpm_pr.sel(time=ts_mask & season_mask)\n",
    "                quantiles = reasonable_quantiles(ts_cpm_pr)\n",
    "                ts_cpm_quantiles = ts_cpm_pr.quantile(quantiles, dim=[\"ensemble_member\", \"time\", \"grid_latitude\", \"grid_longitude\"])\n",
    "                \n",
    "                ts_pred_pr = model_ds.sel(time=ts_mask & season_mask)[\"pred_pr\"].squeeze(\"model\")\n",
    "                ts_model_quantiles = ts_pred_pr.quantile(quantiles, dim=[\"ensemble_member\", \"time\", \"grid_latitude\", \"grid_longitude\"])\n",
    "                \n",
    "                qq_plot(\n",
    "                    axes[ts_key],\n",
    "                    historical_cpm_pr_quantiles,\n",
    "                    ts_model_quantiles,\n",
    "                    title=f\"{ts_key} sample vs historic CPM\",\n",
    "                    grouping_key=\"sample_id\",\n",
    "                    alpha=0.5,\n",
    "                    show_legend=False,\n",
    "                    xlabel=\"historic CPM precip (mm day$^{-1}$)\",\n",
    "                )\n",
    "            plt.show()"
   ]
  },
  {
   "cell_type": "markdown",
   "id": "2e03214a-a202-4503-b943-ac868890ed0f",
   "metadata": {},
   "source": [
    "### Mean change"
   ]
  },
  {
   "cell_type": "code",
   "execution_count": null,
   "id": "2e4c33c6-e1af-4501-8778-82f272c3f69b",
   "metadata": {},
   "outputs": [],
   "source": [
    "for source in merged_ds.keys():\n",
    "    IPython.display.display_html(f\"<h4>{source}</h4>\", raw=True)\n",
    "\n",
    "    for season in ccs_seasons:\n",
    "        IPython.display.display_html(f\"<h5>{season}</h5>\", raw=True)\n",
    "        season_mask = merged_ds[source][\"time.season\"] == season\n",
    "        cpm_pr_historical_mean = cpm_pr.sel(time=historical_ts_mask & season_mask).mean(dim=[\"ensemble_member\", \"time\"])\n",
    "        sample_historical_mean = merged_ds[source].sel(time=historical_ts_mask & season_mask)[\"pred_pr\"].mean(dim=[\"ensemble_member\", \"time\", \"sample_id\"])\n",
    "        for ts_key, (ts_start, ts_end) in TIME_PERIODS.items():\n",
    "            if ts_key == \"historic\": continue\n",
    "            IPython.display.display_html(f\"<h5>{ts_key}</h5>\", raw=True)\n",
    "\n",
    "            ts_mask = (merged_ds[source][\"time\"] >= ts_start) & (merged_ds[source][\"time\"] <= ts_end)\n",
    "            \n",
    "            cpm_pr_ts_mean = cpm_pr.sel(time=ts_mask & season_mask).mean(dim=[\"ensemble_member\", \"time\"])\n",
    "            cpm_ts_change = 100*(cpm_pr_ts_mean - cpm_pr_historical_mean)/cpm_pr_historical_mean\n",
    "            \n",
    "            sample_ts_mean = merged_ds[source].sel(time=ts_mask & season_mask)[\"pred_pr\"].mean(dim=[\"ensemble_member\", \"time\", \"sample_id\"])\n",
    "            sample_ts_change = 100*(sample_ts_mean - sample_historical_mean)/sample_historical_mean\n",
    "            sample_ts_diff = sample_ts_change - cpm_ts_change\n",
    "            \n",
    "            target_name = \"CPM\"\n",
    "            models = merged_ds[source][\"model\"].values\n",
    "            change_grid_spec = compute_gridspec(models, target_name)\n",
    "            diff_grid_spec = compute_gridspec(models + \" diff\", \"\")\n",
    "            grid_spec = np.concatenate([change_grid_spec, diff_grid_spec])\n",
    "            fig, axd = plt.subplot_mosaic(\n",
    "                grid_spec,\n",
    "                figsize=(grid_spec.shape[1] * 5.5, grid_spec.shape[0] * 5.5),\n",
    "                subplot_kw=dict(projection=cp_model_rotated_pole),\n",
    "                constrained_layout=True,\n",
    "            )\n",
    "            axd[\"\"].axis('off')\n",
    "            \n",
    "            ax = axd[target_name]\n",
    "            plot_map(\n",
    "                cpm_ts_change,\n",
    "                ax,\n",
    "                title=f\"$(\\\\mu_{{CPM}}^{{{ts_key}}} - \\\\mu_{{CPM}}^{{hist}})/\\\\mu_{{CPM}}^{{hist}}$\",\n",
    "                style=\"discreteBias\",\n",
    "                add_colorbar=False,\n",
    "            )\n",
    "            \n",
    "            for model in models:\n",
    "                ax = axd[model]\n",
    "                \n",
    "                pcm = plot_map(\n",
    "                    sample_ts_change.sel(model=model),\n",
    "                    ax,\n",
    "                    title=f\"{model}: $(\\\\mu_{{ML}}^{{{ts_key}}} - \\\\mu_{{ML}}^{{hist}})/\\\\mu_{{ML}}^{{hist}}$\",\n",
    "                    style=\"discreteBias\",\n",
    "                    add_colorbar=False,\n",
    "                )\n",
    "                \n",
    "                ax = axd[model + \" diff\"]\n",
    "                \n",
    "                change_pcm = plot_map(\n",
    "                    sample_ts_diff.sel(model=model),\n",
    "                    ax,\n",
    "                    title=f\"{model}: $((\\\\mu_{{ML}}^{{{ts_key}}} - \\\\mu_{{ML}}^{{hist}})/\\\\mu_{{ML}}^{{hist}}) - ((\\\\mu_{{CPM}}^{{{ts_key}}} - \\\\mu_{{CPM}}^{{hist}})/\\\\mu_{{CPM}}^{{hist}})$\",\n",
    "                    style=\"discreteBias\",\n",
    "                    # center=0,\n",
    "                    add_colorbar=False,\n",
    "                )\n",
    "            \n",
    "            fig.colorbar(pcm, ax=list(axd[model] for model in models)+[axd[target_name]], location=\"left\", shrink=0.8, extend=\"both\")\n",
    "            fig.colorbar(change_pcm, ax=list(axd[model+\" diff\"] for model in models)+[axd[\"\"]], location=\"left\", shrink=0.8, extend=\"both\")\n",
    "            plt.show()"
   ]
  },
  {
   "cell_type": "markdown",
   "id": "0a82d96b-ace5-4c03-bfd8-8bce651cb5ca",
   "metadata": {},
   "source": [
    "### Mean change variability"
   ]
  },
  {
   "cell_type": "code",
   "execution_count": null,
   "id": "44a10d7f-7be8-49e6-9c39-430fd1a3082f",
   "metadata": {},
   "outputs": [],
   "source": [
    "for source in merged_ds.keys():\n",
    "    IPython.display.display_html(f\"<h4>{source} variability</h4>\", raw=True)\n",
    "\n",
    "    for season in ccs_seasons:\n",
    "        season_mask = merged_ds[source][\"time.season\"] == season\n",
    "        cpm_pr_historical_mean = cpm_pr.sel(time=historical_ts_mask & season_mask).mean(dim=[\"time\"])\n",
    "        sample_historical_mean = merged_ds[source].sel(time=historical_ts_mask & season_mask)[\"pred_pr\"].mean(dim=[\"time\", \"sample_id\"])\n",
    "        for ts_key, (ts_start, ts_end) in TIME_PERIODS.items():\n",
    "            if ts_key == \"historic\": continue\n",
    "\n",
    "            ts_mask = (merged_ds[source][\"time\"] >= ts_start) & (merged_ds[source][\"time\"] <= ts_end)\n",
    "\n",
    "            cpm_pr_ts_mean = cpm_pr.sel(time=ts_mask & season_mask).mean(dim=[\"time\"])\n",
    "            cpm_ts_change = (cpm_pr_ts_mean - cpm_pr_historical_mean)/cpm_pr_historical_mean\n",
    "            \n",
    "        \n",
    "            for model, model_pr in merged_ds[source][\"pred_pr\"].sel(time=ts_mask & season_mask).groupby(\"model\", squeeze=False):\n",
    "                model_sample_ts_mean = model_pr.squeeze(\"model\").mean(dim=[\"time\", \"sample_id\"])\n",
    "                sample_ts_change = 100*(model_sample_ts_mean - sample_historical_mean.sel(model=model))/sample_historical_mean.sel(model=model)\n",
    "                sample_ts_diff = sample_ts_change - cpm_ts_change\n",
    "\n",
    "                IPython.display.display_html(f\"<h5>{ts_key} {season} {model}</h5>\", raw=True)\n",
    "                g = sample_ts_diff.plot.pcolormesh(col=\"ensemble_member\", col_wrap=6, transform=cp_model_rotated_pole, subplot_kws=dict(projection=cp_model_rotated_pole), **STYLES[\"discreteBias\"])\n",
    "                for ax in g.axs.flatten():\n",
    "                    ax.coastlines()\n",
    "                \n",
    "                plt.show()"
   ]
  },
  {
   "cell_type": "markdown",
   "id": "34f88210-d8f8-4583-9474-7244f5a73c8d",
   "metadata": {},
   "source": [
    "## PSD"
   ]
  },
  {
   "cell_type": "code",
   "execution_count": null,
   "id": "6fbfe224-fd34-4cbe-88e8-992d2410f05c",
   "metadata": {},
   "outputs": [],
   "source": [
    "gcm_lr_lin_pr = (xr.open_dataset(\n",
    "    os.path.join(\n",
    "        os.getenv(\"DERIVED_DATA\"), \"moose\", \"nc-datasets\", gcm_lr_lin_pr_dataset, f\"{split}.nc\"\n",
    "    )\n",
    ")[\"linpr\"]*3600*24).assign_attrs({\"units\": \"mm day-1\"}).stack(example=[\"ensemble_member\", \"time\"]).transpose(\"example\", \"grid_latitude\", \"grid_longitude\")\n",
    "\n",
    "cpm_hr_pr = (xr.open_dataset(\n",
    "    os.path.join(\n",
    "        os.getenv(\"DERIVED_DATA\"), \"moose\", \"nc-datasets\", cpm_hr_pr_dataset, f\"{split}.nc\"\n",
    "    )\n",
    ")[\"target_pr\"]*3600*24).assign_attrs({\"units\": \"mm day-1\"}).stack(example=[\"ensemble_member\", \"time\"]).transpose(\"example\", \"grid_latitude\", \"grid_longitude\")"
   ]
  },
  {
   "cell_type": "markdown",
   "id": "e61dff06-8cfc-4ad2-af8a-592be14e237c",
   "metadata": {},
   "source": [
    "### CPM"
   ]
  },
  {
   "cell_type": "code",
   "execution_count": null,
   "id": "b9bf412a-badf-42c6-93e7-f1365dc0969b",
   "metadata": {},
   "outputs": [],
   "source": [
    "fig, axd = plt.subplot_mosaic([[\"PSD\"]], tight_layout=True)  # , figsize=(12, 12)\n",
    "ax = axd[\"PSD\"]\n",
    "plot_psd(cpm_hr_pr, gcm_lr_lin_pr=gcm_lr_lin_pr, pred_pr=merged_ds[\"CPM\"][\"pred_pr\"].stack(example=[\"ensemble_member\", \"sample_id\", \"time\"]).transpose(\"model\", \"example\", \"grid_latitude\", \"grid_longitude\"), ax=ax)\n",
    "plt.show()"
   ]
  },
  {
   "cell_type": "markdown",
   "id": "a8228cea-c0d1-4357-af0d-cd60f60e56fd",
   "metadata": {},
   "source": [
    "### GCM"
   ]
  },
  {
   "cell_type": "code",
   "execution_count": null,
   "id": "a58254ab-98f0-461a-91c5-54269d031022",
   "metadata": {},
   "outputs": [],
   "source": [
    "fig, axd = plt.subplot_mosaic([[\"PSD\"]], tight_layout=True)  # , figsize=(12, 12)\n",
    "ax = axd[\"PSD\"]\n",
    "plot_psd(cpm_hr_pr, gcm_lr_lin_pr=gcm_lr_lin_pr, pred_pr=merged_ds[\"GCM\"][\"pred_pr\"].stack(example=[\"ensemble_member\", \"sample_id\", \"time\"]).transpose(\"model\", \"example\", \"grid_latitude\", \"grid_longitude\"), ax=ax)\n",
    "plt.show()"
   ]
  },
  {
   "cell_type": "markdown",
   "id": "615cf26d-0457-4ee4-90c3-86d2217604c2",
   "metadata": {},
   "source": [
    "## FSS"
   ]
  },
  {
   "cell_type": "raw",
   "id": "2adeeec1-d39b-4bc3-87e7-d2c009efebaa",
   "metadata": {},
   "source": [
    "ds = merged_ds[\"CPM\"]\n",
    "thresholds = [0.1, 10]\n",
    "fss_windows = range(4, 33, 4)\n",
    "_, axd = plt.subplot_mosaic(np.array([thresholds]).reshape(-1, 1), constrained_layout=True)\n",
    "for threshold in thresholds:\n",
    "    ax = axd[threshold]\n",
    "    xr.concat([ \n",
    "        xr.apply_ufunc(\n",
    "            pysteps.verification.spatialscores.fss,  # first the function\n",
    "            ds[\"pred_pr\"],  # now arguments in the order expected by 'fss'\n",
    "            ds[\"target_pr\"],\n",
    "            threshold,\n",
    "            fss_window,\n",
    "            input_core_dims=[[\"grid_latitude\", \"grid_longitude\"], [\"grid_latitude\", \"grid_longitude\"], [], []],  # list with one entry per arg\n",
    "            output_core_dims=[[]],\n",
    "            # exclude_dims=set((\"grid_latitude\", \"grid_longitude\",)),  # dimensions allowed to change size. Must be set!\n",
    "            vectorize=True,\n",
    "        ).expand_dims(dict(fss_window=[fss_window*8.8])) for fss_window in fss_windows\n",
    "    ], dim=\"fss_window\").mean(dim=[\"time\", \"sample_id\"]).plot(ax=ax, x=\"fss_window\", hue=\"model\")\n",
    "    ax.set_title(f\"FSS curve for precip over {threshold}mm/day\")"
   ]
  },
  {
   "cell_type": "markdown",
   "id": "7efc24ed-7d89-4e59-be7f-55c944901f00",
   "metadata": {
    "tags": []
   },
   "source": [
    "## Correlation"
   ]
  },
  {
   "cell_type": "raw",
   "id": "64126851-1be2-4e74-9db3-8f6827b5abe2",
   "metadata": {},
   "source": [
    "target_corr = xr.corr(merged_ds[\"vorticity850\"], merged_ds[\"target_pr\"], dim=\"time\")\n",
    "sample_corr = xr.corr(merged_ds[\"vorticity850\"], merged_ds[\"pred_pr\"], dim=\"time\").mean(dim=\"sample_id\")"
   ]
  },
  {
   "cell_type": "raw",
   "id": "6dedf78c-bdc8-463a-b122-b15f457231a2",
   "metadata": {},
   "source": [
    "fig, axd = plt.subplot_mosaic([[\"Sample\", \"Target\"]], figsize=(12, 6), subplot_kw=dict(projection=cp_model_rotated_pole), constrained_layout=True)\n",
    "\n",
    "ax = axd[\"Sample\"]\n",
    "plot_map(sample_corr, ax, title=\"Sample corr\", norm=None, cmap=\"RdBu\", centre=0, add_colorbar=True)\n",
    "\n",
    "ax = axd[\"Target\"]\n",
    "plot_map(target_corr, ax, title=\"Target corr\", norm=None, cmap=\"RdBu\", center=0, add_colorbar=True)"
   ]
  },
  {
   "cell_type": "code",
   "execution_count": null,
   "id": "cfd20fe4-e06c-49f8-89d0-a790e7236d24",
   "metadata": {},
   "outputs": [],
   "source": []
  }
 ],
 "metadata": {
  "kernelspec": {
   "display_name": "Python 3 (ipykernel)",
   "language": "python",
   "name": "python3"
  }
 },
 "nbformat": 4,
 "nbformat_minor": 5
}

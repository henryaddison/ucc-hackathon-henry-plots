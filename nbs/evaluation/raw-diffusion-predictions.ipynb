{
 "cells": [
  {
   "cell_type": "markdown",
   "id": "810b5002-4ce2-47b9-981c-14e5caa35ff5",
   "metadata": {},
   "source": [
    "# Raw diffusion model output\n",
    "\n",
    "This file of samples from diffusion model include the raw values as well as the pred_pr values after applying the inverse of the target transform."
   ]
  },
  {
   "cell_type": "code",
   "execution_count": null,
   "id": "464a676f-c343-4c4a-b893-d36f26a461ee",
   "metadata": {},
   "outputs": [],
   "source": [
    "%reload_ext autoreload\n",
    "\n",
    "%autoreload 2\n",
    "\n",
    "%reload_ext dotenv\n",
    "%dotenv\n",
    "\n",
    "import matplotlib.pyplot as plt\n",
    "import numpy as np\n",
    "import xarray as xr\n",
    "\n",
    "from mlde_utils import samples_path, workdir_path, dataset_split_path\n",
    "from mlde_utils.transforms import load_transform\n",
    "\n",
    "from mlde_notebooks.data import si_to_mmday"
   ]
  },
  {
   "cell_type": "code",
   "execution_count": null,
   "id": "c6024be7-7a3c-4cba-9690-2b6fcf8d8dc5",
   "metadata": {},
   "outputs": [],
   "source": [
    "model_id = \"score-sde/subvpsde/ukcp18_12em_cncsnpp_continuous/paper-12em\"\n",
    "dataset = \"bham_gcmx-4x_12em_psl-sphum4th-temp4th-vort4th_eqvt_random-season\"\n",
    "split = \"test\"\n",
    "ensemble_member = \"01\"\n",
    "\n",
    "pred_with_raw_ds = xr.open_dataset(samples_path(\n",
    "    workdir_path(model_id),\n",
    "    checkpoint=\"epoch-20\",\n",
    "    dataset=dataset,\n",
    "    input_xfm=\"bham_gcmx-4x_12em_psl-sphum4th-temp4th-vort4th_eqvt_random-season-stan\",\n",
    "    split=split,\n",
    "    ensemble_member=ensemble_member,\n",
    ") / \"predictions-RSAKzVXxTGynBkwrstiyVL.nc\")\n",
    "\n",
    "sim_ds = xr.open_dataset(dataset_split_path(dataset, split)).sel(\n",
    "        ensemble_member=[ensemble_member]\n",
    "    )\n",
    "\n",
    "ds = xr.combine_by_coords([pred_with_raw_ds, sim_ds], data_vars=\"minimal\")\n",
    "\n",
    "ds"
   ]
  },
  {
   "cell_type": "code",
   "execution_count": null,
   "id": "d1727bb6-b3ad-4646-a2d3-fffb2ca5749a",
   "metadata": {},
   "outputs": [],
   "source": [
    "target_xfm = load_transform(workdir_path(model_id) / \"transforms\" / \"target.pickle\")"
   ]
  },
  {
   "cell_type": "markdown",
   "id": "33170eba-584d-4e56-a733-c4e46dce52e0",
   "metadata": {},
   "source": [
    "## Distribution\n",
    "\n",
    "Below is the full distribution of values directly from the diffusion model, the distribution of those below -1 which is physically impossible and an equal spread around -1, bounded below by most negative value from diffusion"
   ]
  },
  {
   "cell_type": "code",
   "execution_count": null,
   "id": "b687c068-9aa6-4b82-9b61-7f89db984c5d",
   "metadata": {},
   "outputs": [],
   "source": [
    "raw_pred = ds[\"raw_pred\"]\n",
    "bad_points = ds.where(ds[\"raw_pred\"] < -1)\n",
    "\n",
    "nbad_vals = bad_points[\"raw_pred\"].count()\n",
    "total_vals = np.product(raw_pred.shape)\n",
    "\n",
    "print(f\"{nbad_vals.data} values below -1 out of {total_vals} values\")\n",
    "\n",
    "raw_pred.plot.hist(bins=100)\n",
    "plt.show()\n",
    "\n",
    "bad_points[\"raw_pred\"].plot.hist(bins=50)\n",
    "plt.show()\n",
    "\n",
    "raw_pred.where(raw_pred <= -1-(raw_pred.min()+1)).plot.hist(bins=50)\n",
    "plt.show()"
   ]
  },
  {
   "cell_type": "markdown",
   "id": "a064548e-80ea-4fb3-ab08-a6b46c1a9467",
   "metadata": {},
   "source": [
    "### Quantiles"
   ]
  },
  {
   "cell_type": "code",
   "execution_count": null,
   "id": "365d0e4d-728b-42dd-9d43-db7576f3688b",
   "metadata": {},
   "outputs": [],
   "source": [
    "bad_points[\"raw_pred\"].quantile([0, 0.01, 0.1, 0.5])"
   ]
  },
  {
   "cell_type": "markdown",
   "id": "a35eb1e8-5c3a-495c-b82c-0fe677efbe31",
   "metadata": {},
   "source": [
    "Use the target transform to convert the bad quantiles as though they were reflected in -1 (i.e. the same amount above -1 as they are below -1) in order to put them into the valid space"
   ]
  },
  {
   "cell_type": "code",
   "execution_count": null,
   "id": "0fa0554b-2dfb-4f53-8f84-d011254526f9",
   "metadata": {},
   "outputs": [],
   "source": [
    "reflected_bad_raw_pred = -1-(1+bad_points[\"raw_pred\"])\n",
    "si_to_mmday(target_xfm.invert({\"target_pr\": reflected_bad_raw_pred.quantile([0.5, 0.9, 0.99, 1])})[\"target_pr\"])"
   ]
  },
  {
   "cell_type": "markdown",
   "id": "88692d7b-001d-4a33-bb93-4b64212f6e44",
   "metadata": {},
   "source": [
    "## Relationship with CPM values"
   ]
  },
  {
   "cell_type": "code",
   "execution_count": null,
   "id": "7ced881e-4ce2-4d5b-b584-94079803efc6",
   "metadata": {},
   "outputs": [],
   "source": [
    "plt.scatter(bad_points[\"raw_pred\"], bad_points[\"target_pr\"], alpha=0.1)\n",
    "plt.show()\n",
    "\n",
    "plt.scatter(bad_points[\"raw_pred\"], target_xfm.transform(bad_points)[\"target_pr\"], alpha=0.1)\n",
    "plt.show()"
   ]
  },
  {
   "cell_type": "code",
   "execution_count": null,
   "id": "53dfbba7-3fe1-48d5-9293-2af8dfe0b289",
   "metadata": {},
   "outputs": [],
   "source": []
  }
 ],
 "metadata": {
  "kernelspec": {
   "display_name": "Python 3 (ipykernel)",
   "language": "python",
   "name": "python3"
  }
 },
 "nbformat": 4,
 "nbformat_minor": 5
}

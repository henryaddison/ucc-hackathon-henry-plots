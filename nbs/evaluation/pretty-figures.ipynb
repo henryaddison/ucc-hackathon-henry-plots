{
 "cells": [
  {
   "cell_type": "markdown",
   "id": "345a1b27-1df4-40e8-a2f9-0ff817ad8241",
   "metadata": {
    "tags": []
   },
   "source": [
    "# Evaluation of a selection of models on 60km -> 2.2km-4x over Birmingham"
   ]
  },
  {
   "cell_type": "code",
   "execution_count": null,
   "id": "48718f5d-f1f8-4ccc-8089-a90b8e505b7c",
   "metadata": {
    "tags": []
   },
   "outputs": [],
   "source": [
    "%reload_ext autoreload\n",
    "\n",
    "%autoreload 2\n",
    "\n",
    "%reload_ext dotenv\n",
    "%dotenv\n",
    "\n",
    "import functools\n",
    "import math\n",
    "import string\n",
    "\n",
    "import IPython\n",
    "import matplotlib.pyplot as plt\n",
    "import numpy as np\n",
    "import xarray as xr\n",
    "\n",
    "from mlde_notebooks.data import prep_eval_and_model_data\n",
    "from mlde_notebooks import plot_map, distribution_figure, scatter_plots\n",
    "from mlde_notebooks.distribution import normalized_mean_bias, normalized_std_bias, plot_freq_density, plot_mean_biases, plot_std_biases, rms_mean_bias, rms_std_bias\n",
    "from mlde_notebooks.psd import plot_psd, pysteps_rapsd\n",
    "from mlde_notebooks.uncertainty import plot_spread_error\n",
    "from mlde_notebooks.wet_dry import wet_prop_stats, wet_day_prop, wet_day_prop_error, wet_day_prop_change, plot_wet_dry_errors\n",
    "from mlde_utils import cp_model_rotated_pole, TIME_PERIODS"
   ]
  },
  {
   "cell_type": "code",
   "execution_count": null,
   "id": "1d757f55-93e8-4248-a2f3-b6a9f75a752c",
   "metadata": {},
   "outputs": [],
   "source": [
    "import matplotlib\n",
    "matplotlib.rcParams['figure.dpi'] = 300"
   ]
  },
  {
   "cell_type": "code",
   "execution_count": null,
   "id": "361fe73f-2d52-4862-8b8c-ab7604ad6c29",
   "metadata": {
    "tags": [
     "parameters"
    ]
   },
   "outputs": [],
   "source": [
    "split = \"val\"\n",
    "ensemble_members = [\n",
    "    \"01\",\n",
    "    \"04\",\n",
    "    \"05\",\n",
    "    \"06\",\n",
    "    \"07\",\n",
    "    \"08\",\n",
    "    \"09\",\n",
    "    \"10\",\n",
    "    \"11\",\n",
    "    \"12\",\n",
    "    \"13\",\n",
    "    \"15\",\n",
    "]\n",
    "samples_per_run = 3\n",
    "data_configs = {\n",
    "    \"CPM\": [\n",
    "        {\n",
    "            \"fq_model_id\": \"score-sde/subvpsde/xarray_12em_cncsnpp_continuous/bham-4x_12em_PslS4T4V4_random-season-IstanTsqrturrecen-no-loc-spec\",\n",
    "            \"checkpoint\": \"epoch-20\",\n",
    "            \"input_xfm\": \"bham_gcmx-4x_12em_psl-sphum4th-temp4th-vort4th_eqvt_random-season-stan\",\n",
    "            \"label\": \"Diffusion-cCPM\",\n",
    "            \"dataset\": \"bham_gcmx-4x_12em_psl-sphum4th-temp4th-vort4th_eqvt_random-season\",\n",
    "            \"deterministic\": False,\n",
    "            \"PSD\": True,\n",
    "            \"color\": \"blue\",\n",
    "            \"order\": 10,\n",
    "        },\n",
    "        {\n",
    "            \"fq_model_id\": \"u-net/bham-4x_12em_PslS4T4V4_random-season-IstanTsqrturrecen\",\n",
    "            \"checkpoint\": \"epoch-100\",\n",
    "            \"input_xfm\": \"stan\",\n",
    "            \"label\": \"U-Net-cCPM\",\n",
    "            \"dataset\": \"bham_gcmx-4x_12em_psl-sphum4th-temp4th-vort4th_eqvt_random-season\",\n",
    "            \"deterministic\": True,\n",
    "            \"PSD\": True,\n",
    "            \"color\": \"orange\",\n",
    "            \"order\": 1,\n",
    "        },\n",
    "        {\n",
    "            \"fq_model_id\": \"id-linpr\",\n",
    "            \"checkpoint\": \"epoch-0\",\n",
    "            \"input_xfm\": \"none\",\n",
    "            \"label\": \"cCPM Bilinear\",\n",
    "            \"deterministic\": True,\n",
    "            \"dataset\": \"bham_gcmx-4x_12em_linpr_eqvt_random-season\",\n",
    "            \"color\": \"dimgrey\",\n",
    "            \"order\": 0,\n",
    "        },\n",
    "    ],\n",
    "    \"GCM\": [\n",
    "        {\n",
    "            \"fq_model_id\": \"score-sde/subvpsde/xarray_12em_cncsnpp_continuous/bham-4x_12em_PslS4T4V4_random-season-IstanTsqrturrecen-no-loc-spec\",\n",
    "            \"checkpoint\": \"epoch-20\",\n",
    "            \"input_xfm\": \"bham_60km-4x_12em_psl-sphum4th-temp4th-vort4th_eqvt_random-season-pixelmmsstan\",\n",
    "            \"label\": \"Diffusion-GCM\",\n",
    "            \"dataset\": \"bham_60km-4x_12em_psl-sphum4th-temp4th-vort4th_eqvt_random-season\",\n",
    "            \"deterministic\": False,\n",
    "            \"CCS\": True,\n",
    "            \"color\": \"green\",\n",
    "            \"order\": 20,\n",
    "            \n",
    "        },\n",
    "    ],\n",
    "}\n",
    "\n",
    "desc = \"\"\"\n",
    "Describe in more detail the models being compared\n",
    "\"\"\""
   ]
  },
  {
   "cell_type": "code",
   "execution_count": null,
   "id": "778a28b3-8483-4b83-895c-0253b499f36b",
   "metadata": {
    "tags": []
   },
   "outputs": [],
   "source": [
    "IPython.display.Markdown(desc)"
   ]
  },
  {
   "cell_type": "code",
   "execution_count": null,
   "id": "4df16b68-4c4d-42fb-9134-72f81d23b70b",
   "metadata": {
    "tags": []
   },
   "outputs": [],
   "source": [
    "merged_ds, MODELS = prep_eval_and_model_data(data_configs, split, ensemble_members=ensemble_members, samples_per_run=samples_per_run)\n",
    "merged_ds"
   ]
  },
  {
   "cell_type": "code",
   "execution_count": null,
   "id": "5d42a6f9-4512-4a90-a962-dc51a8cea484",
   "metadata": {},
   "outputs": [],
   "source": [
    "cpm_pr = merged_ds[\"CPM\"][\"target_pr\"]"
   ]
  },
  {
   "cell_type": "markdown",
   "id": "1104e57b-f3c0-4a56-831a-ba99d91f05a4",
   "metadata": {
    "tags": []
   },
   "source": [
    "## Figure: distribution\n",
    "\n",
    "* Frequency Density Histogram of rainfall intensities\n",
    "* Maps of Mean bias ($\\frac{\\mu_{sample}-\\mu_{CPM}}{\\mu_{CPM}}$) over all samples, time and ensemble members\n",
    "* Std Dev Bias $\\frac{\\sigma_{sample}}{\\sigma_{CPM}}$ over all samples, time and ensemble members"
   ]
  },
  {
   "cell_type": "code",
   "execution_count": null,
   "id": "95145cf2-31df-4d75-a88c-c30344c3fcf0",
   "metadata": {},
   "outputs": [],
   "source": [
    "hist_data = [ dict(data=merged_ds[source][\"pred_pr\"].sel(model=model), label=model, color=spec[\"color\"]) for source, mconfigs in MODELS.items() for model, spec in mconfigs.items() ]\n",
    "\n",
    "mean_biases = [ dict(data=normalized_mean_bias(merged_ds[source][\"pred_pr\"].sel(model=model), cpm_pr), label=model)  for source, mconfigs in MODELS.items() for model, spec in mconfigs.items() ]\n",
    "\n",
    "std_biases = [ dict(data=normalized_std_bias(merged_ds[source][\"pred_pr\"].sel(model=model), cpm_pr), label=model)  for source, mconfigs in MODELS.items() for model, spec in mconfigs.items() ]"
   ]
  },
  {
   "cell_type": "code",
   "execution_count": null,
   "id": "0358938a-9187-4520-85ea-0bf1beae5b2f",
   "metadata": {
    "tags": []
   },
   "outputs": [],
   "source": [
    "fig = plt.figure(layout='constrained', figsize=(5.5, 6.5))\n",
    "\n",
    "labels = [ label for mconfigs in MODELS.values() for label in mconfigs.keys() ]\n",
    "\n",
    "meanb_axes_keys = list(map(lambda x: f\"meanb {x}\", labels))\n",
    "meanb_spec = np.array(meanb_axes_keys).reshape(1,-1)\n",
    "\n",
    "stddevb_axes_keys = list(map(lambda x: f\"stddevb {x}\", labels))\n",
    "stddevb_spec = np.array(stddevb_axes_keys).reshape(1,-1)\n",
    "\n",
    "dist_spec = np.array([\"Density\"] * meanb_spec.shape[1]).reshape(1,-1)\n",
    "\n",
    "spec = np.concatenate([dist_spec, meanb_spec, stddevb_spec], axis=0)\n",
    "\n",
    "axd = fig.subplot_mosaic(spec, gridspec_kw=dict(height_ratios=[3, 2, 2]), per_subplot_kw={ak: {\"projection\": cp_model_rotated_pole} for ak in meanb_axes_keys + stddevb_axes_keys})\n",
    "\n",
    "ax = axd[\"Density\"]\n",
    "\n",
    "plot_freq_density(hist_data, ax=ax, target_da=cpm_pr)\n",
    "ax.annotate(\"a.\", xy=(0.04, 1.0), xycoords=(\"figure fraction\", \"axes fraction\"), weight='bold', ha=\"left\", va=\"bottom\")\n",
    "\n",
    "axes = plot_mean_biases(mean_biases, axd)\n",
    "axes[0].annotate(\"b.\", xy=(0.04, 1.0), xycoords=(\"figure fraction\", \"axes fraction\"), weight='bold', ha=\"left\", va=\"bottom\")\n",
    "\n",
    "axes = plot_std_biases(std_biases, axd)\n",
    "axes[0].annotate(\"c.\", xy=(0.04, 1.0), xycoords=(\"figure fraction\", \"axes fraction\"), weight='bold', ha=\"left\", va=\"bottom\")\n",
    "\n",
    "fig.savefig(\"cpm-gcm-distribution.pdf\", format=\"pdf\", bbox_inches='tight')"
   ]
  },
  {
   "cell_type": "code",
   "execution_count": null,
   "id": "830dab93-2cab-46dd-8b9e-0d1bc485d02c",
   "metadata": {
    "tags": []
   },
   "outputs": [],
   "source": [
    "rms_mean_biases = xr.concat([ merged_ds[source][\"pred_pr\"].groupby(\"model\", squeeze=False).map(functools.partial(rms_mean_bias, cpm_pr=cpm_pr, normalize=False)) for source in merged_ds.keys() ], dim=\"model\")\n",
    "rms_std_biases = xr.concat([ merged_ds[source][\"pred_pr\"].groupby(\"model\", squeeze=False).map(functools.partial(rms_std_bias, cpm_pr=cpm_pr, normalize=False)) for source in merged_ds.keys() ], dim=\"model\")\n",
    "\n",
    "IPython.display.display_html(rms_mean_biases.rename(\"Root Mean Square Mean Bias (mm/day)\").to_dataframe().round(2).to_html(), raw=True)\n",
    "IPython.display.display_html(rms_std_biases.rename(\"Root Mean Square Std Dev Bias (mm/day)\").to_dataframe().round(2).to_html(), raw=True)\n",
    "\n",
    "rms_mean_biases = 100 * xr.concat([ merged_ds[source][\"pred_pr\"].groupby(\"model\", squeeze=False).map(functools.partial(rms_mean_bias, cpm_pr=cpm_pr, normalize=False)) for source in merged_ds.keys() ], dim=\"model\")/cpm_pr.mean()\n",
    "rms_std_biases = 100 * xr.concat([ merged_ds[source][\"pred_pr\"].groupby(\"model\", squeeze=False).map(functools.partial(rms_std_bias, cpm_pr=cpm_pr, normalize=False)) for source in merged_ds.keys() ], dim=\"model\")/cpm_pr.std()\n",
    "\n",
    "IPython.display.display_html(rms_mean_biases.rename(\"Relative Root Mean Square Mean Bias (%)\").to_dataframe().round(2).to_html(), raw=True)\n",
    "IPython.display.display_html(rms_std_biases.rename(\"Relative Root Mean Square Std Dev Bias (%)\").to_dataframe().round(2).to_html(), raw=True)\n",
    "\n",
    "rms_mean_biases = xr.concat([ merged_ds[source][\"pred_pr\"].groupby(\"model\", squeeze=False).map(functools.partial(rms_mean_bias, cpm_pr=cpm_pr, normalize=True)) for source in merged_ds.keys() ], dim=\"model\")\n",
    "rms_std_biases = xr.concat([ merged_ds[source][\"pred_pr\"].groupby(\"model\", squeeze=False).map(functools.partial(rms_std_bias, cpm_pr=cpm_pr, normalize=True)) for source in merged_ds.keys() ], dim=\"model\")\n",
    "\n",
    "IPython.display.display_html(rms_mean_biases.rename(\"Relative Root Mean Square Mean Bias (%)\").to_dataframe().round(2).to_html(), raw=True)\n",
    "IPython.display.display_html(rms_std_biases.rename(\"Relative Root Mean Square Std Dev Bias (%)\").to_dataframe().round(2).to_html(), raw=True)"
   ]
  },
  {
   "cell_type": "markdown",
   "id": "d00e3d53-317d-4243-80bc-90af99d1626d",
   "metadata": {},
   "source": [
    "## Figure: spread\n",
    "\n",
    "* Mean precip scatter: sample vs CPM\n",
    "* Spread-error\n",
    "  * https://journals.ametsoc.org/view/journals/hydr/15/4/jhm-d-14-0008_1.xml?tab_body=fulltext-display\n",
    "  * https://journals.ametsoc.org/view/journals/aies/2/2/AIES-D-22-0061.1.xml\n",
    "  * https://www.sciencedirect.com/science/article/pii/S0021999107000812"
   ]
  },
  {
   "cell_type": "code",
   "execution_count": null,
   "id": "ff842a0e-f3a2-4b46-ba2f-d4df480c441e",
   "metadata": {},
   "outputs": [],
   "source": [
    "fig = plt.figure(layout='constrained', figsize=(5.5, 5.5*(2/3.0)))\n",
    "scatter_fig, ss_fig = fig.subfigures(1, 2, width_ratios=[2,1.075])\n",
    "\n",
    "source = \"CPM\"\n",
    "domain_mean_cpm_ds = merged_ds[source].drop_sel(model=\"cCPM Bilinear\", errors=\"ignore\")[[\"target_pr\", \"pred_pr\"]].mean(dim=[\"grid_latitude\", \"grid_longitude\", \"sample_id\"])\n",
    "\n",
    "axd = scatter_plots(domain_mean_cpm_ds, fig=scatter_fig, line_props=MODELS[source])\n",
    "\n",
    "cpm_ds = merged_ds[source].sel(model=[ label for label, mconfig in MODELS[source].items() if not mconfig[\"deterministic\"] ])\n",
    "\n",
    "axd = ss_fig.subplot_mosaic([[\"Spread-Error\"]])\n",
    "ax = axd[\"Spread-Error\"]\n",
    "plot_spread_error(cpm_ds, ax, MODELS[source])\n",
    "ax.annotate(\"c.\", xy=(0, 1.05), xycoords=(\"axes fraction\", \"axes fraction\"), weight='bold', ha=\"left\", va=\"bottom\")"
   ]
  },
  {
   "cell_type": "markdown",
   "id": "34f88210-d8f8-4583-9474-7244f5a73c8d",
   "metadata": {
    "tags": []
   },
   "source": [
    "## Figure: structure\n",
    "\n",
    "* PSD"
   ]
  },
  {
   "cell_type": "code",
   "execution_count": null,
   "id": "6fbfe224-fd34-4cbe-88e8-992d2410f05c",
   "metadata": {
    "tags": []
   },
   "outputs": [],
   "source": [
    "cpm_hr_rapsd = pysteps_rapsd(merged_ds[\"CPM\"][\"target_pr\"].stack(example=[\"ensemble_member\", \"time\"]).transpose(\"example\", \"grid_latitude\", \"grid_longitude\"), pixel_size=8.8).mean(dim=\"example\").drop_sel(freq=0)\n",
    "\n",
    "pred_rapsds = [\n",
    "    {\n",
    "        \"label\": model,\n",
    "        \"color\": spec[\"color\"],\n",
    "        \"data\": pysteps_rapsd(merged_ds[source][\"pred_pr\"].sel(model=model).stack(example=[\"ensemble_member\", \"sample_id\", \"time\"]).transpose(\"example\", \"grid_latitude\", \"grid_longitude\"), pixel_size=8.8).mean(dim=\"example\").drop_sel(freq=0)\n",
    "    }\n",
    "    for source, mconfigs in MODELS.items() for model, spec in mconfigs.items()\n",
    "]\n",
    "\n",
    "structure_fig = plt.figure(figsize=(5.5, 3.5), layout=\"constrained\")\n",
    "\n",
    "axd = structure_fig.subplot_mosaic([[\"PSD\"]])\n",
    "ax = axd[\"PSD\"]\n",
    "\n",
    "plot_psd(cpm_hr_rapsd, pred_rapsds, ax=ax)\n",
    "\n",
    "plt.show()"
   ]
  },
  {
   "cell_type": "markdown",
   "id": "fec6b732-8df9-479b-bbda-cd306b0407a4",
   "metadata": {
    "tags": []
   },
   "source": [
    "## Figure: subdomain"
   ]
  },
  {
   "cell_type": "code",
   "execution_count": null,
   "id": "d7597610-7ac7-481b-8841-7070ba896db8",
   "metadata": {},
   "outputs": [],
   "source": [
    "fd_fig = plt.figure(figsize=(5.5, 4.5), layout=\"constrained\")\n",
    "\n",
    "subregions = {\n",
    "    \"SE\": dict(grid_latitude=slice(10, 26), grid_longitude=slice(38, 54)),\n",
    "    \"NW\": dict(grid_latitude=slice(44, 60), grid_longitude=slice(18, 34)),\n",
    "}\n",
    "\n",
    "human_names = {\n",
    "    \"DJF\": \"Winter\",\n",
    "    \"JJA\": \"Summer\",\n",
    "}\n",
    "\n",
    "axd = fd_fig.subplot_mosaic([[\"NW\"], [\"SE\"]], sharex=True)\n",
    "\n",
    "for i, (srname, season) in enumerate([(\"NW\", \"DJF\"), (\"SE\", \"JJA\")]):\n",
    "\n",
    "    season_mask = cpm_pr[\"time\"][\"time.season\"] == season\n",
    "    \n",
    "    srseason_cpm_pr = cpm_pr.isel(**subregions[srname]).sel(time=season_mask)\n",
    "\n",
    "    srseason_hist_data = [ \n",
    "        dict(data=merged_ds[source][\"pred_pr\"].sel(model=model).isel(**subregions[srname]).sel(time=season_mask), label=model, color=spec[\"color\"]) for source, mconfigs in MODELS.items() for model, spec in mconfigs.items() \n",
    "    ]\n",
    "\n",
    "    ax = axd[srname]\n",
    "    plot_freq_density(srseason_hist_data, ax=ax, target_da=srseason_cpm_pr)\n",
    "    ax.set_title(f\"{srname} {human_names[season]}\")\n",
    "        \n",
    "    if i == 0:\n",
    "        ax.set_xlabel(\"\")\n",
    "        ax.get_legend().remove()\n",
    "        reg_ax = fd_fig.add_axes([0.8, 0.8, 0.2, 0.2], projection=cp_model_rotated_pole)\n",
    "        # reg_ax = fd_fig.subplots(1, subplot_kw = dict(projection=cp_model_rotated_pole))\n",
    "        nw_cpm_pr = cpm_pr.isel(**subregions[\"NW\"])\n",
    "        se_cpm_pr = cpm_pr.isel(**subregions[\"SE\"])\n",
    "        plot_map(10*xr.ones_like(nw_cpm_pr.isel(ensemble_member=0, time=0)), ax=reg_ax, style=\"precip\", cl_kwargs=dict(alpha=0.2))\n",
    "        plot_map(1*xr.ones_like(se_cpm_pr.isel(ensemble_member=0, time=0)), ax=reg_ax, style=\"precip\", cl_kwargs=dict(alpha=0.2))\n",
    "        reg_ax.annotate(\"NW\", xy=(nw_cpm_pr.grid_longitude.mean().values.item(), nw_cpm_pr.grid_latitude.mean().values.item()), xycoords=\"data\", fontsize=\"medium\", ha=\"center\", va=\"center\")\n",
    "        reg_ax.annotate(\"SE\", xy=(se_cpm_pr.grid_longitude.mean().values.item(), se_cpm_pr.grid_latitude.mean().values.item()), xycoords=\"data\", fontsize=\"medium\", ha=\"center\", va=\"center\")\n",
    "        reg_ax.set_extent([-2, 3, -2.5, 2.5], crs=cp_model_rotated_pole)\n",
    "        \n",
    "\n",
    "    ax.annotate(f\"{string.ascii_lowercase[i]}.\", xy=(0.02, 1.0), xycoords=(\"figure fraction\", \"axes fraction\"), weight='bold', ha=\"left\", va=\"bottom\")"
   ]
  },
  {
   "cell_type": "markdown",
   "id": "4406f87a-5602-4df8-9fe1-efff13eb5978",
   "metadata": {
    "tags": []
   },
   "source": [
    "## Figure: Wet/dry"
   ]
  },
  {
   "cell_type": "code",
   "execution_count": null,
   "id": "a0cd154a-1a4f-4eb6-8f48-67a77961d3d9",
   "metadata": {},
   "outputs": [],
   "source": [
    "WET_DAY_THRESHOLDS=[0.1]\n",
    "\n",
    "model_pr_das = [\n",
    "    merged_ds[source][\"pred_pr\"].sel(model=model)\n",
    "    for source, mconfigs in MODELS.items() for model, spec in mconfigs.items()\n",
    "]\n",
    "\n",
    "wet_day_stats = { threshold: wet_prop_stats(model_pr_das, cpm_pr, threshold) for threshold in WET_DAY_THRESHOLDS }"
   ]
  },
  {
   "cell_type": "markdown",
   "id": "d37073a6-2b9d-4716-b256-9b08be07441d",
   "metadata": {
    "tags": []
   },
   "source": [
    "### Wet day prop: domain mean"
   ]
  },
  {
   "cell_type": "code",
   "execution_count": null,
   "id": "b0011fa1-a8db-49a4-8889-e76fe9eefb83",
   "metadata": {
    "tags": []
   },
   "outputs": [],
   "source": [
    "dfs = [wet_day_stats[threshold].mean(dim=[\"grid_latitude\", \"grid_longitude\"]).to_dataframe().style.set_table_attributes(\"style='display:inline'\").set_caption(f\"Threshold: {threshold}mm/day\").format(precision=1).to_html() for threshold in WET_DAY_THRESHOLDS]\n",
    "\n",
    "IPython.display.display_html(functools.reduce(lambda v, e: v+e, dfs), raw=True)"
   ]
  },
  {
   "cell_type": "markdown",
   "id": "2510b817-6448-4f89-ae34-87bc5c932532",
   "metadata": {
    "tags": []
   },
   "source": [
    "### Wet day prop: grid box"
   ]
  },
  {
   "cell_type": "code",
   "execution_count": null,
   "id": "88b100dd-1e98-40fe-9dfd-964a5ef591ad",
   "metadata": {
    "tags": []
   },
   "outputs": [],
   "source": [
    "for threshold in WET_DAY_THRESHOLDS:\n",
    "    IPython.display.display_markdown(f\"#### Threshold: {threshold}mm/day\", raw=True)\n",
    "    \n",
    "    plot_wet_dry_errors(wet_day_stats[threshold])\n",
    "\n",
    "    plt.show()"
   ]
  },
  {
   "cell_type": "markdown",
   "id": "c611561c-b575-4df2-a440-d63273520ee8",
   "metadata": {
    "tags": []
   },
   "source": [
    "### CCS wet day prop: gridbox"
   ]
  },
  {
   "cell_type": "code",
   "execution_count": null,
   "id": "111aa12b-3fee-4723-9d35-d2a8c69a92a2",
   "metadata": {},
   "outputs": [],
   "source": [
    "wet_day_change_stats = { threshold: wet_prop_stats(model_pr_das, cpm_pr, threshold=threshold, wet_prop_statistic=wet_day_prop_change) for threshold in WET_DAY_THRESHOLDS }\n",
    "\n",
    "for threshold in WET_DAY_THRESHOLDS:\n",
    "    IPython.display.display_markdown(f\"#### Threshold: {threshold}mm/day\", raw=True)\n",
    "    \n",
    "    plot_wet_dry_errors(wet_day_change_stats[threshold][\"change in % wet day\"], style=\"change\")\n",
    "\n",
    "    plt.show()"
   ]
  },
  {
   "cell_type": "markdown",
   "id": "8f384af7-db8a-41b4-9357-bcc5b8f7ac4e",
   "metadata": {},
   "source": [
    "### CCS Wet day prop: domain mean"
   ]
  },
  {
   "cell_type": "code",
   "execution_count": null,
   "id": "df4b2bce-bd0c-4299-8514-e9f5ecb8ac44",
   "metadata": {},
   "outputs": [],
   "source": [
    "dfs = [wet_day_change_stats[threshold].mean(dim=[\"grid_latitude\", \"grid_longitude\"]).to_dataframe().style.set_table_attributes(\"style='display:inline'\").set_caption(f\"Threshold: {threshold}mm/day\").format(precision=1).to_html() for threshold in WET_DAY_THRESHOLDS]\n",
    "\n",
    "IPython.display.display_html(functools.reduce(lambda v, e: v+e, dfs), raw=True)"
   ]
  },
  {
   "cell_type": "code",
   "execution_count": null,
   "id": "b42147cb-473d-41c0-8c15-5089ec85d37a",
   "metadata": {},
   "outputs": [],
   "source": []
  }
 ],
 "metadata": {
  "kernelspec": {
   "display_name": "Python 3 (ipykernel)",
   "language": "python",
   "name": "python3"
  }
 },
 "nbformat": 4,
 "nbformat_minor": 5
}

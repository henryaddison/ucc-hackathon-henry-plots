{
 "cells": [
  {
   "cell_type": "markdown",
   "id": "345a1b27-1df4-40e8-a2f9-0ff817ad8241",
   "metadata": {},
   "source": [
    "# Evaluation of a selection of models on 60km -> 2.2km-4x over Birmingham"
   ]
  },
  {
   "cell_type": "code",
   "execution_count": null,
   "id": "48718f5d-f1f8-4ccc-8089-a90b8e505b7c",
   "metadata": {},
   "outputs": [],
   "source": [
    "%reload_ext autoreload\n",
    "\n",
    "%autoreload 2\n",
    "\n",
    "import math\n",
    "import os\n",
    "\n",
    "import cftime\n",
    "import iris\n",
    "import iris.analysis.cartography\n",
    "import IPython\n",
    "import matplotlib\n",
    "import matplotlib.pyplot as plt\n",
    "import numpy as np\n",
    "import pysteps\n",
    "import xarray as xr\n",
    "\n",
    "from mlde_utils import cp_model_rotated_pole\n",
    "from mlde_utils.utils import plot_grid, prep_eval_data, show_samples, distribution_figure, plot_mean_bias, plot_std_bias, plot_psd, scatter_plots, seasonal_distribution_figure, compute_gridspec\n",
    "from mlde_utils.plotting import create_map_fig, qq_plot"
   ]
  },
  {
   "cell_type": "code",
   "execution_count": null,
   "id": "15906278-e447-4e59-87dd-b6fdd000146d",
   "metadata": {},
   "outputs": [],
   "source": [
    "time_slices = {\n",
    "    \"TS1\": (cftime.Datetime360Day(1980, 12, 1, 12, 0, 0, 0, has_year_zero=True), cftime.Datetime360Day(2000, 11, 30, 12, 0, 0, 0, has_year_zero=True)),\n",
    "    \"TS2\": (cftime.Datetime360Day(2020, 12, 1, 12, 0, 0, 0, has_year_zero=True), cftime.Datetime360Day(2040, 11, 30, 12, 0, 0, 0, has_year_zero=True)),\n",
    "    \"TS3\": (cftime.Datetime360Day(2060, 12, 1, 12, 0, 0, 0, has_year_zero=True), cftime.Datetime360Day(2080, 11, 30, 12, 0, 0, 0, has_year_zero=True)),\n",
    "}"
   ]
  },
  {
   "cell_type": "code",
   "execution_count": null,
   "id": "361fe73f-2d52-4862-8b8c-ab7604ad6c29",
   "metadata": {
    "tags": [
     "parameters"
    ]
   },
   "outputs": [],
   "source": [
    "split = \"val\"\n",
    "samples_per_run = 3\n",
    "data_configs = {\n",
    "    \"CPM\": [\n",
    "        {\n",
    "            \"fq_model_id\": \"score-sde/subvpsde/xarray_cncsnpp_continuous/bham-4x_PslTV_random-season-IstanTsqrturrecen-shuffle-fix\",\n",
    "            \"checkpoint\": \"epoch-100\",\n",
    "            \"input_xfm\": \"stan\",\n",
    "            \"label\": \"PslTV shuffle\",\n",
    "            \"dataset\": \"bham_gcmx-4x_psl-temp-vort_random-season\",\n",
    "            \"deterministic\": False,\n",
    "        },\n",
    "        {\n",
    "            \"fq_model_id\": \"id-linpr\",\n",
    "            \"checkpoint\": \"epoch-0\",\n",
    "            \"input_xfm\": \"\",\n",
    "            \"label\": \"Lin. interp. of LR precip\",\n",
    "            \"deterministic\": True,\n",
    "            \"dataset\": \"bham_gcmx-4x_linpr_random-season\",\n",
    "        },\n",
    "    ],\n",
    "    \"GCM\": [\n",
    "        {\n",
    "            \"fq_model_id\": \"score-sde/subvpsde/xarray_cncsnpp_continuous/bham-4x_PslTV_random-season-IstanTsqrturrecen-shuffle-fix\",\n",
    "            \"checkpoint\": \"epoch-100\",\n",
    "            \"input_xfm\": \"stan\",\n",
    "            \"label\": \"PslTV shuffle\",\n",
    "            \"dataset\": \"bham_60km-4x_psl-temp-vort_random-season\",\n",
    "            \"deterministic\": False,\n",
    "        },\n",
    "    ],\n",
    "}\n",
    "highlighted_cpm_models = [\"PslTV shuffle\"]\n",
    "desc = \"\"\"\n",
    "Describe in more detail the models being compared\n",
    "\"\"\"\n",
    "# the datasets to use for comparisons like PSD which need default datasets with CPM-based hi-res precip and GCM-based lo-res precip respectively\n",
    "simulation_pr_datasets = {\n",
    "    \"GCM\": \"bham_60km-4x_linpr_random\",\n",
    "    \"CPM\": \"bham_60km-4x_linpr_random\"\n",
    "}\n",
    "gcm_lr_lin_pr_dataset = \"bham_60km-4x_linpr_random\"\n",
    "cpm_hr_pr_dataset = \"bham_gcmx-4x_linpr_random\""
   ]
  },
  {
   "cell_type": "code",
   "execution_count": null,
   "id": "778a28b3-8483-4b83-895c-0253b499f36b",
   "metadata": {},
   "outputs": [],
   "source": [
    "IPython.display.Markdown(desc)"
   ]
  },
  {
   "cell_type": "code",
   "execution_count": null,
   "id": "4df16b68-4c4d-42fb-9134-72f81d23b70b",
   "metadata": {},
   "outputs": [],
   "source": [
    "merged_ds = { source: prep_eval_data(data_config, split, samples_per_run=samples_per_run) for source, data_config in data_configs.items() }\n",
    "merged_ds"
   ]
  },
  {
   "cell_type": "markdown",
   "id": "1104e57b-f3c0-4a56-831a-ba99d91f05a4",
   "metadata": {},
   "source": [
    "## Pixel distribution"
   ]
  },
  {
   "cell_type": "code",
   "execution_count": null,
   "id": "4c5b48a3-1412-4af2-b6ed-58bd6c836703",
   "metadata": {},
   "outputs": [],
   "source": [
    "quantiles = np.concatenate([np.linspace((1-10**(i+1))+(10**i), (1-10**i), 9) for i in range(-1, -8, -1)])\n",
    "cpm_pr = merged_ds[\"CPM\"][\"target_pr\"]"
   ]
  },
  {
   "cell_type": "markdown",
   "id": "f7c94de3-38a8-46ee-a341-43a8ec4b7bd6",
   "metadata": {},
   "source": [
    "### CPM"
   ]
  },
  {
   "cell_type": "code",
   "execution_count": null,
   "id": "67504a35-1ab2-40c8-b23d-2fee8ad6b272",
   "metadata": {},
   "outputs": [],
   "source": [
    "distribution_figure(merged_ds[\"CPM\"], cpm_pr, quantiles, quantile_dims=[\"time\", \"grid_latitude\", \"grid_longitude\"])"
   ]
  },
  {
   "cell_type": "markdown",
   "id": "56c8ca19-c662-49b5-b519-2904e1167b95",
   "metadata": {},
   "source": [
    "### GCM"
   ]
  },
  {
   "cell_type": "code",
   "execution_count": null,
   "id": "84ca804e-4c40-4853-a051-592439411232",
   "metadata": {},
   "outputs": [],
   "source": [
    "gcm_hl_cpm_ds = xr.merge([merged_ds[\"GCM\"][[\"target_pr\", \"pred_pr\"]], merged_ds[\"CPM\"].sel(model=highlighted_cpm_models).update({\"model\": (\"model\", [f\"CPM {m}\" for m in highlighted_cpm_models])})[[\"pred_pr\"]]])\n",
    "distribution_figure(gcm_hl_cpm_ds, cpm_pr, quantiles, quantile_dims=[\"time\", \"grid_latitude\", \"grid_longitude\"])"
   ]
  },
  {
   "cell_type": "markdown",
   "id": "d21b388b-a51e-41fe-b810-30293c6cd69e",
   "metadata": {},
   "source": [
    "### Seasonal"
   ]
  },
  {
   "cell_type": "code",
   "execution_count": null,
   "id": "a7e7d0d8-4600-457d-9c8a-f04a3d81c345",
   "metadata": {},
   "outputs": [],
   "source": [
    "for source in merged_ds.keys():\n",
    "    IPython.display.display_html(f\"<h1>{source}</h1>\", raw=True)\n",
    "    seasonal_distribution_figure(merged_ds[source], cpm_pr, quantiles, quantile_dims=[\"time\", \"grid_latitude\", \"grid_longitude\"])"
   ]
  },
  {
   "cell_type": "markdown",
   "id": "6f82be98-65cc-47da-bf50-2931839bbfce",
   "metadata": {},
   "source": [
    "### Subregions\n",
    "#### CPM"
   ]
  },
  {
   "cell_type": "code",
   "execution_count": null,
   "id": "09315b2d-aaa2-4634-ba26-d4068489c765",
   "metadata": {},
   "outputs": [],
   "source": [
    "subregions = {\n",
    "    \"SE\": dict(grid_latitude=slice(10, 26), grid_longitude=slice(38, 54)),\n",
    "    \"NW\": dict(grid_latitude=slice(44, 60), grid_longitude=slice(18, 34)),\n",
    "}\n",
    "\n",
    "fig, axd = create_map_fig([[\"subregions\"]])\n",
    "\n",
    "plot_grid(10*xr.ones_like(merged_ds[\"CPM\"][\"pred_pr\"].isel(sample_id=0, model=0, time=0)).isel(**subregions[\"NW\"]), ax=axd[\"subregions\"], style=\"precip\")\n",
    "plot_grid(1*xr.ones_like(merged_ds[\"CPM\"][\"pred_pr\"].isel(sample_id=0, model=0, time=0)).isel(**subregions[\"SE\"]), ax=axd[\"subregions\"], style=\"precip\")\n",
    "    \n",
    "axd[\"subregions\"].set_extent([-2, 3, -2.5, 2.5], crs=cp_model_rotated_pole)\n",
    "\n",
    "quantiles = np.concatenate([np.linspace((1-10**(i+1))+(10**i), (1-10**i), 9) for i in range(-1, -7, -1)])\n",
    "\n",
    "source=\"CPM\""
   ]
  },
  {
   "cell_type": "markdown",
   "id": "14498b2f-956d-4d59-b708-4ded83c640ae",
   "metadata": {},
   "source": [
    "##### NW"
   ]
  },
  {
   "cell_type": "code",
   "execution_count": null,
   "id": "0ca10946-4d33-4e2b-81b9-7b5e19c5136f",
   "metadata": {},
   "outputs": [],
   "source": [
    "srname = \"NW\"\n",
    "srbnds = subregions[srname]\n",
    "\n",
    "IPython.display.display_html(f\"<h6>{source}</h6>\", raw=True)\n",
    "ds = merged_ds[source].isel(**srbnds).sel(model=highlighted_cpm_models)\n",
    "distribution_figure(ds, cpm_pr.isel(**srbnds), quantiles, quantile_dims=[\"time\", \"grid_latitude\", \"grid_longitude\"])"
   ]
  },
  {
   "cell_type": "markdown",
   "id": "52958150-c82c-4d98-a27c-c3ee405d78bd",
   "metadata": {},
   "source": [
    "##### NW Winter"
   ]
  },
  {
   "cell_type": "code",
   "execution_count": null,
   "id": "57f89031-7e10-45c0-ba29-92aecc7d9b89",
   "metadata": {},
   "outputs": [],
   "source": [
    "srname=\"NW\"\n",
    "srseason=\"DJF\"\n",
    "\n",
    "IPython.display.display_html(f\"<h5>{source}</h5>\", raw=True)\n",
    "srseason_mask = merged_ds[source].isel(**subregions[srname])[\"time.season\"] == srseason\n",
    "srseason_mask_sample_ds = merged_ds[source].isel(**subregions[srname]).sel(time=srseason_mask).sel(model=highlighted_cpm_models)\n",
    "srseason_mask_cpm_pr = cpm_pr.isel(srbnds).sel(time=srseason_mask)\n",
    "distribution_figure(srseason_mask_sample_ds, srseason_mask_cpm_pr, quantiles, quantile_dims=[\"time\", \"grid_latitude\", \"grid_longitude\"])"
   ]
  },
  {
   "cell_type": "markdown",
   "id": "acacbced-ba0f-4103-be64-b71425e39ccb",
   "metadata": {},
   "source": [
    "##### SE"
   ]
  },
  {
   "cell_type": "code",
   "execution_count": null,
   "id": "b24f8bbd-1677-48de-938f-ca2a6aec2216",
   "metadata": {},
   "outputs": [],
   "source": [
    "srname = \"SE\"\n",
    "srbnds = subregions[srname]\n",
    "\n",
    "IPython.display.display_html(f\"<h6>{source}</h6>\", raw=True)\n",
    "ds = merged_ds[source].isel(**srbnds).sel(model=highlighted_cpm_models)\n",
    "distribution_figure(ds, cpm_pr.isel(**srbnds), quantiles, quantile_dims=[\"time\", \"grid_latitude\", \"grid_longitude\"])"
   ]
  },
  {
   "cell_type": "markdown",
   "id": "e6dc954d-5e2e-4389-adfb-347e70919be5",
   "metadata": {},
   "source": [
    "##### SE Summer"
   ]
  },
  {
   "cell_type": "code",
   "execution_count": null,
   "id": "9e2fbb43-26f1-4a40-b3bc-d99aefb3537f",
   "metadata": {},
   "outputs": [],
   "source": [
    "srname = \"SE\"\n",
    "srseason = \"JJA\"\n",
    "\n",
    "IPython.display.display_html(f\"<h5>{source}</h5>\", raw=True)\n",
    "srseason_mask = merged_ds[source].isel(**subregions[srname])[\"time.season\"] == srseason\n",
    "srseason_mask_sample_ds = merged_ds[source].isel(**subregions[srname]).sel(time=srseason_mask).sel(model=highlighted_cpm_models)\n",
    "srseason_mask_cpm_pr = cpm_pr.isel(srbnds).sel(time=srseason_mask)\n",
    "distribution_figure(srseason_mask_sample_ds, srseason_mask_cpm_pr, quantiles, quantile_dims=[\"time\", \"grid_latitude\", \"grid_longitude\"])"
   ]
  },
  {
   "cell_type": "markdown",
   "id": "f4ba822c-b8d8-4c2a-b629-2bdf43a90bd2",
   "metadata": {},
   "source": [
    "## Bias $\\frac{\\mu_{sample}-\\mu_{CPM}}{\\mu_{CPM}}$"
   ]
  },
  {
   "cell_type": "markdown",
   "id": "f0938323-bc33-4fb5-9a2a-9777acf6eab2",
   "metadata": {},
   "source": [
    "### All"
   ]
  },
  {
   "cell_type": "code",
   "execution_count": null,
   "id": "f2b208f0-d33a-4c72-809e-4d992145b736",
   "metadata": {},
   "outputs": [],
   "source": [
    "for source in merged_ds.keys():\n",
    "    IPython.display.display_html(f\"<h3>{source}</h3>\", raw=True)\n",
    "    plot_mean_bias(merged_ds[source], cpm_pr)"
   ]
  },
  {
   "cell_type": "markdown",
   "id": "c0cb0adc-12dc-4bd8-8224-cb2b1afeae6a",
   "metadata": {},
   "source": [
    "## Samples"
   ]
  },
  {
   "cell_type": "code",
   "execution_count": null,
   "id": "8412395c-01e1-4d84-a42d-152029f82fdd",
   "metadata": {},
   "outputs": [],
   "source": [
    "for source, sourced_ds in merged_ds.items():\n",
    "    IPython.display.display_html(f\"<h1>{source}</h1>\", raw=True)\n",
    "    for season, seasonal_ds in sourced_ds.groupby(\"time.season\"):\n",
    "        IPython.display.display_html(f\"<h2>{season}</h2>\", raw=True)\n",
    "\n",
    "        std = seasonal_ds[\"target_pr\"].std(dim=[\"grid_longitude\", \"grid_latitude\"])#/merged_ds.sel(source=\"CPM\")[\"target_pr\"].mean(dim=[\"grid_longitude\", \"grid_latitude\"])\n",
    "        std_sorted_time = std.sortby(-std)[\"time\"].values\n",
    "        mean = seasonal_ds[\"target_pr\"].mean(dim=[\"grid_longitude\", \"grid_latitude\"])\n",
    "        mean_sorted_time = mean.sortby(-mean)[\"time\"].values\n",
    "\n",
    "        timestamp_chunks = {\n",
    "            # \"very wet\": mean_sorted_time[20],\n",
    "            \"very varied\": std_sorted_time[20],\n",
    "            \"quite wet\": mean_sorted_time[math.ceil(len(mean_sorted_time)*0.20)],\n",
    "            # \"quiet varied\": std_sorted_time[math.ceil(len(std_sorted_time)*0.20):math.ceil(len(std_sorted_time)*0.20)+1],\n",
    "            \"very dry\": mean_sorted_time[-20],\n",
    "        }\n",
    "\n",
    "        for desc, timestamps in timestamp_chunks.items():\n",
    "            IPython.display.display_html(f\"<h3>{desc}</h3>\", raw=True)\n",
    "            show_samples(seasonal_ds, [timestamps])"
   ]
  },
  {
   "cell_type": "code",
   "execution_count": null,
   "id": "cfd20fe4-e06c-49f8-89d0-a790e7236d24",
   "metadata": {},
   "outputs": [],
   "source": []
  }
 ],
 "metadata": {
  "kernelspec": {
   "display_name": "Python 3 (ipykernel)",
   "language": "python",
   "name": "python3"
  }
 },
 "nbformat": 4,
 "nbformat_minor": 5
}

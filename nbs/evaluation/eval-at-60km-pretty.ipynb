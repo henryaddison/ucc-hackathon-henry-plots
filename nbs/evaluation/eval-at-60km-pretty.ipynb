{
 "cells": [
  {
   "cell_type": "markdown",
   "id": "345a1b27-1df4-40e8-a2f9-0ff817ad8241",
   "metadata": {
    "tags": []
   },
   "source": [
    "# Evaluation of a selection of models on 60km -> 2.2km-4x over Birmingham"
   ]
  },
  {
   "cell_type": "code",
   "execution_count": null,
   "id": "48718f5d-f1f8-4ccc-8089-a90b8e505b7c",
   "metadata": {
    "tags": []
   },
   "outputs": [],
   "source": [
    "%reload_ext autoreload\n",
    "\n",
    "%autoreload 2\n",
    "\n",
    "%reload_ext dotenv\n",
    "%dotenv\n",
    "\n",
    "import functools\n",
    "from importlib.resources import files\n",
    "import math\n",
    "import os\n",
    "import string\n",
    "\n",
    "import cftime\n",
    "import iris\n",
    "import iris.analysis.cartography\n",
    "import IPython\n",
    "import matplotlib\n",
    "import matplotlib.pyplot as plt\n",
    "import numpy as np\n",
    "import pysteps\n",
    "import scipy\n",
    "import xarray as xr\n",
    "\n",
    "import mlde_utils\n",
    "from mlde_notebooks import plot_map, distribution_figure, plot_mean_bias, plot_std_bias, scatter_plots, freq_density_plot\n",
    "from mlde_utils import cp_model_rotated_pole, TIME_PERIODS, platecarree, dataset_split_path\n",
    "from mlde_notebooks.data import prep_eval_data, open_concat_sample_dataarrays, si_to_mmday\n",
    "from mlde_notebooks import create_map_fig, STYLES\n",
    "from mlde_notebooks.distribution import normalized_mean_bias, normalized_std_bias, plot_freq_density, plot_mean_biases, plot_std_biases\n",
    "# from mlde_notebooks.wet_dry import wet_dry_dataframe, wet_dry_ratio, wet_dry_ratio_error, plot_wet_dry_errors\n",
    "\n",
    "xr.set_options(display_style=\"html\")"
   ]
  },
  {
   "cell_type": "code",
   "execution_count": null,
   "id": "625f67fe-3a0d-4d89-9fe9-10e318e3e05c",
   "metadata": {},
   "outputs": [],
   "source": [
    "import matplotlib\n",
    "matplotlib.rcParams['figure.dpi'] = 300"
   ]
  },
  {
   "cell_type": "code",
   "execution_count": null,
   "id": "361fe73f-2d52-4862-8b8c-ab7604ad6c29",
   "metadata": {
    "tags": [
     "parameters"
    ]
   },
   "outputs": [],
   "source": [
    "split = \"test\"\n",
    "ensemble_members = [\n",
    "    \"01\",\n",
    "    \"04\",\n",
    "    \"05\",\n",
    "    \"06\",\n",
    "    \"07\",\n",
    "    \"08\",\n",
    "    \"09\",\n",
    "    \"10\",\n",
    "    \"11\",\n",
    "    \"12\",\n",
    "    \"13\",\n",
    "    \"15\",\n",
    "]\n",
    "samples_per_run = 6\n",
    "\n",
    "precomp_60km_samples_data_configs = [\n",
    "    {\n",
    "        \"fq_model_id\": \"score-sde/subvpsde/xarray_12em_cncsnpp_continuous/bham-4x_12em_PslS4T4V4_random-season-IstanTsqrturrecen-no-loc-spec/postprocess/gcm-grid\",\n",
    "        \"checkpoint\": \"epoch-20\",\n",
    "        \"input_xfm\": \"pixelmmsstan\",\n",
    "        \"label\": \"Emul(GCM)@60km\",\n",
    "        \"dataset\": \"bham_60km-4x_12em_psl-sphum4th-temp4th-vort4th_eqvt_random-season\",\n",
    "        \"deterministic\": False,\n",
    "        \"CCS\": True,\n",
    "        \"color\": \"lightgreen\",\n",
    "        \"order\": 20,\n",
    "        \n",
    "    },\n",
    "]"
   ]
  },
  {
   "cell_type": "code",
   "execution_count": null,
   "id": "0c2bef31-2958-49dc-ad15-a4874beeeb30",
   "metadata": {
    "tags": []
   },
   "outputs": [],
   "source": [
    "precomp_60km_da = open_concat_sample_dataarrays(precomp_60km_samples_data_configs, split, ensemble_members=ensemble_members, samples_per_run=samples_per_run).isel(model=0)\n",
    "precomp_60km_da"
   ]
  },
  {
   "cell_type": "code",
   "execution_count": null,
   "id": "71f3af0a-d0ef-4f5f-b68c-7611d1d7c7b1",
   "metadata": {
    "tags": []
   },
   "outputs": [],
   "source": [
    "raw_gcm_pr = si_to_mmday(xr.open_dataset(dataset_split_path(\"bham_60km-60km_12em_rawpr_eqvt_random-season\", split))[\"pr\"])\n",
    "raw_gcm_pr"
   ]
  },
  {
   "cell_type": "code",
   "execution_count": null,
   "id": "df935c61-eb73-438b-bff8-115a7fff242f",
   "metadata": {
    "tags": []
   },
   "outputs": [],
   "source": [
    "cpm_pr_on_gcm = si_to_mmday(xr.open_dataset(dataset_split_path(\"bham_gcmx-60km_12em_pr_eqvt_random-season\", split))[\"pr\"])\n",
    "cpm_pr_on_gcm"
   ]
  },
  {
   "cell_type": "markdown",
   "id": "d4e49049-f609-49fb-984d-1c156232b61c",
   "metadata": {
    "tags": []
   },
   "source": [
    "### frequency distribution on the coarse grid, bias in mean and std. dev."
   ]
  },
  {
   "cell_type": "code",
   "execution_count": null,
   "id": "1691deb2-1877-4299-bc07-c0adf79eee3f",
   "metadata": {
    "tags": []
   },
   "outputs": [],
   "source": [
    "hist_data = [ \n",
    "    dict(data=precomp_60km_da, label=\"Diffusion-GCM@60km\", color=\"green\"),\n",
    "    dict(data=raw_gcm_pr, label=\"GCM\", color=\"magenta\"),]\n",
    "\n",
    "mean_biases = [ dict(data=normalized_mean_bias(hd[\"data\"], cpm_pr_on_gcm), label=hd[\"label\"]) for hd in hist_data ]\n",
    "\n",
    "std_biases = [ dict(data=normalized_std_bias(hd[\"data\"], cpm_pr_on_gcm), label=hd[\"label\"]) for hd in hist_data ]"
   ]
  },
  {
   "cell_type": "code",
   "execution_count": null,
   "id": "ad8f75ea-07ed-4a8b-b01a-e9b8dcfd2ec2",
   "metadata": {
    "tags": []
   },
   "outputs": [],
   "source": [
    "fig = plt.figure(layout='constrained', figsize=(5.5, 6.5))\n",
    "\n",
    "meanb_axes_keys = list([f\"meanb {mb['label']}\" for mb in mean_biases])\n",
    "meanb_spec = np.array(meanb_axes_keys).reshape(1,-1)\n",
    "\n",
    "stddevb_axes_keys = list([f\"stddevb {sb['label']}\" for sb in std_biases])\n",
    "stddevb_spec = np.array(stddevb_axes_keys).reshape(1,-1)\n",
    "\n",
    "density_axes_keys = [\"density\"]\n",
    "density_spec = np.array(density_axes_keys*meanb_spec.shape[1]).reshape(1,-1)\n",
    "\n",
    "spec = np.concatenate([density_spec, meanb_spec, stddevb_spec], axis=0)\n",
    "\n",
    "axd = fig.subplot_mosaic(spec, gridspec_kw=dict(height_ratios=[3, 2, 2]), per_subplot_kw={ak: {\"projection\": cp_model_rotated_pole} for ak in meanb_axes_keys + stddevb_axes_keys})\n",
    "\n",
    "ax = axd[\"density\"]\n",
    "plot_freq_density(hist_data, target_da=cpm_pr_on_gcm, ax=ax, target_label=\"CPM@60km\")\n",
    "ax.annotate(\"a.\", xy=(0.04, 1.0), xycoords=(\"figure fraction\", \"axes fraction\"), weight='bold', ha=\"left\", va=\"bottom\")\n",
    "\n",
    "axes = plot_mean_biases(mean_biases, axd, plot_map_kwargs={\"transform\": platecarree})\n",
    "axes[0].annotate(\"b.\", xy=(0.04, 1.0), xycoords=(\"figure fraction\", \"axes fraction\"), weight='bold', ha=\"left\", va=\"bottom\")\n",
    "\n",
    "axes = plot_std_biases(std_biases, axd, plot_map_kwargs={\"transform\": platecarree})\n",
    "axes[0].annotate(\"c.\", xy=(0.04, 1.0), xycoords=(\"figure fraction\", \"axes fraction\"), weight='bold', ha=\"left\", va=\"bottom\")"
   ]
  },
  {
   "cell_type": "code",
   "execution_count": null,
   "id": "86e78ff5-a95e-4ed0-9e14-62203bd13d5f",
   "metadata": {
    "tags": []
   },
   "outputs": [],
   "source": [
    "density_axes_keys = list(map(lambda x: f\"density {x}\", [ hd[\"label\"] for hd in hist_data ]))\n",
    "if len(density_axes_keys) % 2 == 1:\n",
    "    density_axes_keys = density_axes_keys + [\".\"]\n",
    "density_spec = np.array(density_axes_keys).reshape(-1,2)\n",
    "\n",
    "fig = plt.figure(figsize=(10, 5*density_spec.shape[0]))\n",
    "\n",
    "axd = fig.subplot_mosaic(density_spec)\n",
    "\n",
    "for hd in hist_data:\n",
    "    ax = axd[f\"density {hd['label']}\"]\n",
    "    plot_freq_density([hd], target_da=cpm_pr_on_gcm, ax=ax, target_label=\"CPM@60km\")"
   ]
  },
  {
   "cell_type": "code",
   "execution_count": null,
   "id": "571bd83f-ccaf-474d-bb9e-4949d6abfea1",
   "metadata": {
    "tags": []
   },
   "outputs": [],
   "source": []
  }
 ],
 "metadata": {
  "kernelspec": {
   "display_name": "Python 3 (ipykernel)",
   "language": "python",
   "name": "python3"
  }
 },
 "nbformat": 4,
 "nbformat_minor": 5
}

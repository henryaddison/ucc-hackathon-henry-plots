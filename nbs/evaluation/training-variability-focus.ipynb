{
 "cells": [
  {
   "cell_type": "markdown",
   "id": "345a1b27-1df4-40e8-a2f9-0ff817ad8241",
   "metadata": {
    "tags": []
   },
   "source": [
    "# Evaluation of a selection of models on 60km -> 2.2km-4x over Birmingham"
   ]
  },
  {
   "cell_type": "code",
   "execution_count": null,
   "id": "48718f5d-f1f8-4ccc-8089-a90b8e505b7c",
   "metadata": {
    "tags": []
   },
   "outputs": [],
   "source": [
    "%reload_ext autoreload\n",
    "\n",
    "%autoreload 2\n",
    "\n",
    "import math\n",
    "import os\n",
    "\n",
    "import iris\n",
    "import iris.analysis.cartography\n",
    "import IPython\n",
    "import matplotlib\n",
    "import matplotlib.pyplot as plt\n",
    "import numpy as np\n",
    "import pandas as pd\n",
    "import pysteps\n",
    "import seaborn as sns\n",
    "import xarray as xr\n",
    "\n",
    "from mlde_utils.utils import cp_model_rotated_pole, plot_grid, prep_eval_data, show_samples, distribution_figure, plot_mean_bias, plot_std_bias, plot_psd, scatter_plots, seasonal_distribution_figure\n",
    "from mlde_utils.plotting import qq_plot"
   ]
  },
  {
   "cell_type": "code",
   "execution_count": null,
   "id": "5c95dccf-7cf2-43bb-be44-d9a6d7865d4b",
   "metadata": {
    "tags": [
     "parameters"
    ]
   },
   "outputs": [],
   "source": [
    "split = \"val\"\n",
    "samples_per_run = 3\n",
    "data_config = [\n",
    "    {\n",
    "        \"datasets\": {\n",
    "            \"CPM\": \"bham_gcmx-4x_pr_random\",\n",
    "            \"GCM\": \"bham_60km-4x_pr_random\",\n",
    "        },\n",
    "        \"runs\": [\n",
    "            (\"id-pr\", \"epoch-0\", \"LR precip\"),\n",
    "        ],\n",
    "    }\n",
    "    \n",
    "]\n",
    "desc = \"\"\"\n",
    "Describe in more detail the models being compared\n",
    "\"\"\""
   ]
  },
  {
   "cell_type": "code",
   "execution_count": null,
   "id": "778a28b3-8483-4b83-895c-0253b499f36b",
   "metadata": {
    "tags": []
   },
   "outputs": [],
   "source": [
    "IPython.display.Markdown(desc)"
   ]
  },
  {
   "cell_type": "code",
   "execution_count": null,
   "id": "4df16b68-4c4d-42fb-9134-72f81d23b70b",
   "metadata": {
    "tags": []
   },
   "outputs": [],
   "source": [
    "merged_ds = xr.merge([ prep_eval_data(c[\"datasets\"], c[\"runs\"], split, samples_per_run=samples_per_run) for c in data_config ])\n",
    "merged_ds"
   ]
  },
  {
   "cell_type": "markdown",
   "id": "1104e57b-f3c0-4a56-831a-ba99d91f05a4",
   "metadata": {
    "tags": []
   },
   "source": [
    "## Frequency distribution"
   ]
  },
  {
   "cell_type": "markdown",
   "id": "13dc9a74-e90b-493f-a31b-0056c4ccc8e3",
   "metadata": {
    "tags": []
   },
   "source": [
    "### Pixel"
   ]
  },
  {
   "cell_type": "code",
   "execution_count": null,
   "id": "4c5b48a3-1412-4af2-b6ed-58bd6c836703",
   "metadata": {
    "tags": []
   },
   "outputs": [],
   "source": [
    "quantiles = np.concatenate([np.linspace((1-10**(i+1))+(10**i), (1-10**i), 9) for i in range(-1, -8, -1)])\n",
    "\n",
    "target_pr = merged_ds.sel(source=\"CPM\")[\"target_pr\"]"
   ]
  },
  {
   "cell_type": "code",
   "execution_count": null,
   "id": "67504a35-1ab2-40c8-b23d-2fee8ad6b272",
   "metadata": {
    "tags": []
   },
   "outputs": [],
   "source": [
    "fig, axes = plt.subplot_mosaic(\n",
    "    [[f\"{source} Quantiles\" for source in merged_ds[\"source\"].values]], figsize=(16.5, 5.5), constrained_layout=True\n",
    ")\n",
    "\n",
    "target_quantiles = target_pr.quantile(quantiles)\n",
    "\n",
    "for source in merged_ds[\"source\"].values:\n",
    "    qq_plot(axes[f\"{source} Quantiles\"], target_pr, merged_ds.sel(source=source), quantiles)\n",
    "\n",
    "fig, axes = plt.subplot_mosaic(\n",
    "    [[f\"{source} Quantiles\" for source in merged_ds[\"source\"].values]], figsize=(16.5, 5.5), constrained_layout=True\n",
    ")\n",
    "\n",
    "ymin=0\n",
    "ymax=0\n",
    "\n",
    "for source in merged_ds[\"source\"].values:\n",
    "    qdiff = merged_ds[\"pred_pr\"].sel(source=source).quantile(quantiles, dim=[\"grid_longitude\", \"grid_latitude\", \"time\", \"sample_id\"]) - target_quantiles\n",
    "\n",
    "    ymin=min(ymin, qdiff.min()-5)\n",
    "    ymax=max(ymax, qdiff.max()+5)\n",
    "\n",
    "    axes[f\"{source} Quantiles\"].plot(target_quantiles, qdiff)\n",
    "\n",
    "for source in merged_ds[\"source\"].values:\n",
    "    axes[f\"{source} Quantiles\"].set_ylim(ymin, ymax)\n"
   ]
  },
  {
   "cell_type": "markdown",
   "id": "00876c02-31ff-4a37-8053-6624b1b23973",
   "metadata": {
    "tags": []
   },
   "source": [
    "#### Quantile error"
   ]
  },
  {
   "cell_type": "code",
   "execution_count": null,
   "id": "af1891ed-d5dc-4cb7-a441-bb77a2d124f4",
   "metadata": {
    "tags": []
   },
   "outputs": [],
   "source": [
    "fig, axes = plt.subplot_mosaic(\n",
    "    [[\"Quantile Diffs\"]], figsize=(16.5, 5.5), constrained_layout=True\n",
    ")\n",
    "\n",
    "sample_quantiles = merged_ds[\"pred_pr\"].quantile(quantiles, dim=[\"grid_longitude\", \"grid_latitude\", \"time\", \"sample_id\"])\n",
    "qdiff = sample_quantiles - target_quantiles\n",
    "\n",
    "ax = axes[\"Quantile Diffs\"]\n",
    "\n",
    "ax.axhline(0, c=\"black\", linestyle=\"--\")\n",
    "\n",
    "for source in merged_ds[\"source\"].values:\n",
    "\n",
    "    data = qdiff.sel(source=source).to_pandas().reset_index().melt(id_vars='quantile', value_vars=list(qdiff.model.values)).merge(target_quantiles.to_pandas().rename('cpm_quantile').reset_index())\n",
    "    sns.lineplot(data=data, x=\"cpm_quantile\", y=\"value\", errorbar=\"sd\", ax=ax)\n",
    "    # sns.lineplot(data=data, x=\"cpm_quantile\", y=\"value\", hue=\"model\", alpha=0.25, marker=\"X\", ax=axes[\"CPM Quantiles\"])"
   ]
  },
  {
   "cell_type": "markdown",
   "id": "20b39d9f-f7b1-4781-9a68-8f2ac8479d49",
   "metadata": {
    "tags": []
   },
   "source": [
    "#### Quantile error std dev"
   ]
  },
  {
   "cell_type": "code",
   "execution_count": null,
   "id": "8d2e425c-c0bb-4618-8189-ef8c742a2ab1",
   "metadata": {
    "tags": []
   },
   "outputs": [],
   "source": [
    "# fig, axes = plt.subplot_mosaic(\n",
    "#     [[\"Quantile stds\"]], figsize=(5.5, 5.5), constrained_layout=True\n",
    "# )\n",
    "\n",
    "# ax = axes[\"Quantile stds\"]\n",
    "quantile_std = sample_quantiles.std(dim=[\"model\"]).to_pandas().reset_index().merge(target_quantiles.to_pandas().rename('CPM pr').reset_index()).melt(id_vars='CPM pr', value_vars=merged_ds[\"source\"].values, value_name=\"Model quantile std\", var_name=\"source\")\n",
    "ax = sns.lineplot(data=quantile_std, x='CPM pr', y=\"Model quantile std\", hue=\"source\")\n",
    "ax.set(ylabel=\"Model quantile $\\sigma$\")\n",
    "# sns.barplot(data=data, x=\"cpm_quantile\", y=\"GCM\")\n",
    "for source in merged_ds[\"source\"].values:\n",
    "    ax.fill_between(quantile_std[quantile_std[\"source\"] == source][\"CPM pr\"], quantile_std[quantile_std[\"source\"] == source][\"Model quantile std\"], alpha=0.5)"
   ]
  },
  {
   "cell_type": "code",
   "execution_count": null,
   "id": "f9ef30fd-0efd-4a34-9345-37c50fafdd2f",
   "metadata": {
    "tags": []
   },
   "outputs": [],
   "source": [
    "for source in merged_ds[\"source\"].values:\n",
    "    IPython.display.display_html(f\"<h1>{source}</h1>\", raw=True)\n",
    "    seasonal_distribution_figure(merged_ds.sel(source=source), target_pr, quantiles)"
   ]
  },
  {
   "cell_type": "markdown",
   "id": "f4ba822c-b8d8-4c2a-b629-2bdf43a90bd2",
   "metadata": {
    "tags": []
   },
   "source": [
    "## Bias $\\frac{\\mu_{sample}-\\mu_{CPM}}{\\mu_{CPM}}$"
   ]
  },
  {
   "cell_type": "markdown",
   "id": "f0938323-bc33-4fb5-9a2a-9777acf6eab2",
   "metadata": {
    "tags": []
   },
   "source": [
    "### All"
   ]
  },
  {
   "cell_type": "code",
   "execution_count": null,
   "id": "f2b208f0-d33a-4c72-809e-4d992145b736",
   "metadata": {
    "tags": []
   },
   "outputs": [],
   "source": [
    "for source in merged_ds[\"source\"].values:\n",
    "    IPython.display.display_html(f\"<h3>{source}</h3>\", raw=True)\n",
    "    plot_mean_bias(merged_ds.sel(source=source), target_pr)"
   ]
  },
  {
   "cell_type": "markdown",
   "id": "1126795c-c47e-47bb-9de5-2fb7277fecde",
   "metadata": {
    "tags": []
   },
   "source": [
    "### Seasonal"
   ]
  },
  {
   "cell_type": "code",
   "execution_count": null,
   "id": "3f82a8de-cf7f-401b-8f8d-b421ca9d4b11",
   "metadata": {
    "tags": []
   },
   "outputs": [],
   "source": [
    "for season, seasonal_ds in merged_ds.groupby(\"time.season\"):\n",
    "    IPython.display.display_html(f\"<h3>{season}</h3>\", raw=True)\n",
    "    seasonal_target_pr = target_pr.sel(time=(target_pr[\"time.season\"] == season))\n",
    "    for source in merged_ds[\"source\"].values:\n",
    "        IPython.display.display_html(f\"<h4>{source}</h4>\", raw=True)\n",
    "        plot_mean_bias(seasonal_ds.sel(source=source), seasonal_target_pr)"
   ]
  },
  {
   "cell_type": "markdown",
   "id": "3691d022-0822-4799-8c0d-93224fe35783",
   "metadata": {
    "tags": []
   },
   "source": [
    "## Standard deviation $\\sigma_{sample}$/$\\sigma_{CPM}$"
   ]
  },
  {
   "cell_type": "markdown",
   "id": "bcf05044-0366-464d-bb4c-722a9ef79b70",
   "metadata": {
    "tags": []
   },
   "source": [
    "### All"
   ]
  },
  {
   "cell_type": "code",
   "execution_count": null,
   "id": "a8de95ee-f003-4c5c-ac21-5b197db39d57",
   "metadata": {
    "tags": []
   },
   "outputs": [],
   "source": [
    "for source in merged_ds[\"source\"].values:\n",
    "    IPython.display.display_html(f\"<h3>{source}</h3>\", raw=True)\n",
    "    plot_std_bias(merged_ds.sel(source=source), target_pr)"
   ]
  },
  {
   "cell_type": "markdown",
   "id": "934e1f55-e9b0-464c-b3fe-f9fa7b64e1d2",
   "metadata": {
    "tags": []
   },
   "source": [
    "### Seasonal"
   ]
  },
  {
   "cell_type": "code",
   "execution_count": null,
   "id": "606e9441-8591-4d8a-b2fa-12b8215cca7e",
   "metadata": {
    "tags": []
   },
   "outputs": [],
   "source": [
    "for season, seasonal_ds in merged_ds.groupby(\"time.season\"):\n",
    "    IPython.display.display_html(f\"<h3>{season}</h3>\", raw=True)\n",
    "    seasonal_target_pr = target_pr.sel(time=(target_pr[\"time.season\"] == season))\n",
    "    for source in merged_ds[\"source\"].values:\n",
    "        IPython.display.display_html(f\"<h4>{source}</h4>\", raw=True)\n",
    "        plot_std_bias(seasonal_ds.sel(source=source), seasonal_target_pr)"
   ]
  },
  {
   "cell_type": "markdown",
   "id": "34f88210-d8f8-4583-9474-7244f5a73c8d",
   "metadata": {
    "tags": []
   },
   "source": [
    "## PSD"
   ]
  },
  {
   "cell_type": "code",
   "execution_count": null,
   "id": "6fbfe224-fd34-4cbe-88e8-992d2410f05c",
   "metadata": {
    "tags": []
   },
   "outputs": [],
   "source": [
    "gcm_lr_lin_pr = (xr.open_dataset(\n",
    "    os.path.join(\n",
    "        os.getenv(\"MOOSE_DERIVED_DATA\"), \"nc-datasets\", \"bham_60km-4x_linpr_random\", \"val.nc\"\n",
    "    )\n",
    ")[\"linpr\"]*3600*24).assign_attrs({\"units\": \"mm day-1\"})\n",
    "\n",
    "cpm_hr_pr = (xr.open_dataset(\n",
    "    os.path.join(\n",
    "        os.getenv(\"MOOSE_DERIVED_DATA\"), \"nc-datasets\", \"bham_gcmx-4x_linpr_random\", \"val.nc\"\n",
    "    )\n",
    ")[\"target_pr\"]*3600*24).assign_attrs({\"units\": \"mm day-1\"})"
   ]
  },
  {
   "cell_type": "code",
   "execution_count": null,
   "id": "39926c4c-8cb8-4a25-8795-ff124ed2132f",
   "metadata": {
    "tags": []
   },
   "outputs": [],
   "source": [
    "simulation_data = {\"CPM pr\": cpm_hr_pr, \"GCM pr\": gcm_lr_lin_pr}\n",
    "for source in merged_ds[\"source\"].values:\n",
    "    IPython.display.display_html(f\"<h1>{source}</h1>\", raw=True)\n",
    "    ml_data = { f\"{model} Sample\": merged_ds.sel(source=source, model=model)[\"pred_pr\"] for model in merged_ds[\"model\"].values }\n",
    "    plot_psd(ml_data | simulation_data)"
   ]
  },
  {
   "cell_type": "code",
   "execution_count": null,
   "id": "8833e50c-d580-4398-ade7-8006bf7cf90c",
   "metadata": {
    "tags": []
   },
   "outputs": [],
   "source": []
  }
 ],
 "metadata": {
  "kernelspec": {
   "display_name": "Python 3 (ipykernel)",
   "language": "python",
   "name": "python3"
  }
 },
 "nbformat": 4,
 "nbformat_minor": 5
}

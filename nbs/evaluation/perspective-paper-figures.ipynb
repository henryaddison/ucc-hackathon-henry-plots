{
 "cells": [
  {
   "cell_type": "markdown",
   "id": "345a1b27-1df4-40e8-a2f9-0ff817ad8241",
   "metadata": {
    "tags": []
   },
   "source": [
    "# Figures for perspective paper\n",
    "# Evaluation of a UoB models on 60km -> 2.2km-4x over Birmingham)"
   ]
  },
  {
   "cell_type": "code",
   "execution_count": null,
   "id": "48718f5d-f1f8-4ccc-8089-a90b8e505b7c",
   "metadata": {
    "tags": []
   },
   "outputs": [],
   "source": [
    "%reload_ext autoreload\n",
    "\n",
    "%autoreload 2\n",
    "\n",
    "%reload_ext dotenv\n",
    "%dotenv\n",
    "\n",
    "import functools\n",
    "import math\n",
    "import string\n",
    "\n",
    "import IPython\n",
    "import matplotlib.pyplot as plt\n",
    "import numpy as np\n",
    "import xarray as xr\n",
    "\n",
    "from mlde_notebooks.data import prep_eval_and_model_data\n",
    "from mlde_notebooks import plot_map\n",
    "from mlde_notebooks.distribution import normalized_mean_bias, compute_fractional_contribution, plot_freq_density, plot_fractional_contribution, plot_mean_biases, rms_mean_bias\n",
    "from mlde_notebooks.ccs import compute_changes, plot_changes, plot_tp_fd, bootstrap_seasonal_mean_pr_change_samples\n",
    "from mlde_utils import cp_model_rotated_pole"
   ]
  },
  {
   "cell_type": "code",
   "execution_count": null,
   "id": "5b35aeea-2daa-4054-a01c-08dfeb362369",
   "metadata": {},
   "outputs": [],
   "source": [
    "import matplotlib\n",
    "matplotlib.rcParams['figure.dpi'] = 300"
   ]
  },
  {
   "cell_type": "markdown",
   "id": "0ea0b65f-a213-429e-8981-30d34cd53f7d",
   "metadata": {
    "tags": []
   },
   "source": [
    "## Without humidity"
   ]
  },
  {
   "cell_type": "code",
   "execution_count": null,
   "id": "361fe73f-2d52-4862-8b8c-ab7604ad6c29",
   "metadata": {
    "tags": [
     "parameters"
    ]
   },
   "outputs": [],
   "source": [
    "split = \"test\"\n",
    "ensemble_members = [\n",
    "    \"01\",\n",
    "    \"04\",\n",
    "    \"05\",\n",
    "    \"06\",\n",
    "    \"07\",\n",
    "    \"08\",\n",
    "    \"09\",\n",
    "    \"10\",\n",
    "    \"11\",\n",
    "    \"12\",\n",
    "    \"13\",\n",
    "    \"15\",\n",
    "]\n",
    "samples_per_run = 6\n",
    "data_configs = {\n",
    "    \"CPM\": [\n",
    "        {\n",
    "            \"fq_model_id\": \"score-sde/subvpsde/xarray_12em_cncsnpp_continuous/bham-4x_12em_PslS4T4V4_random-season-IstanTsqrturrecen-no-loc-spec\",\n",
    "            \"checkpoint\": \"epoch_20\",\n",
    "            \"input_xfm\": \"bham_gcmx-4x_12em_psl-sphum4th-temp4th-vort4th_eqvt_random-season-stan\",\n",
    "            \"label\": \"Diffusion (cCPM)\",\n",
    "            \"dataset\": \"bham_gcmx-4x_12em_psl-sphum4th-temp4th-vort4th_eqvt_random-season\",\n",
    "            \"deterministic\": False,\n",
    "            \"PSD\": True,\n",
    "            \"color\": \"blue\",\n",
    "            \"order\": 10,\n",
    "        },\n",
    "    ],\n",
    "    \"GCM\": [\n",
    "        {\n",
    "            \"fq_model_id\": \"score-sde/subvpsde/xarray_12em_cncsnpp_continuous/bham-4x_12em_PslS4T4V4_random-season-IstanTsqrturrecen-no-loc-spec\",\n",
    "            \"checkpoint\": \"epoch_20\",\n",
    "            \"input_xfm\": \"bham_60km-4x_12em_psl-sphum4th-temp4th-vort4th_eqvt_random-season-pixelmmsstan\",\n",
    "            \"label\": \"Diffusion (GCM)\",\n",
    "            \"dataset\": \"bham_60km-4x_12em_psl-sphum4th-temp4th-vort4th_eqvt_random-season\",\n",
    "            \"deterministic\": False,\n",
    "            \"CCS\": True,\n",
    "            \"color\": \"green\",\n",
    "            \"order\": 20,\n",
    "            \n",
    "        },\n",
    "        {\n",
    "            \"fq_model_id\": \"score-sde/subvpsde/xarray_12em_cncsnpp_continuous/bham-4x_12em_PslS4T4V4_random-season-IstanTsqrturrecen-no-loc-spec\",\n",
    "            \"checkpoint\": \"epoch_20\",\n",
    "            \"input_xfm\": \"bham_gcmx-4x_12em_psl-sphum4th-temp4th-vort4th_eqvt_random-season-stan\",\n",
    "            \"label\": \"Diff no-bc (GCM)\",\n",
    "            \"dataset\": \"bham_60km-4x_12em_psl-sphum4th-temp4th-vort4th_eqvt_random-season\",\n",
    "            \"deterministic\": False,\n",
    "            \"CCS\": True,\n",
    "            \"color\": \"red\",\n",
    "            \"order\": 21,\n",
    "        },\n",
    "        {\n",
    "            \"fq_model_id\": \"score-sde/subvpsde/xarray_12em_cncsnpp_continuous/bham-4x_12em_PslT4V4_random-season-IstanTsqrturrecen-no-loc-spec\",\n",
    "            \"checkpoint\": \"epoch_20\",\n",
    "            \"input_xfm\": \"bham_60km-4x_12em_psl-temp4th-vort4th_eqvt_random-season-pixelmmsstan\",\n",
    "            \"label\": \"Diff no-hum (GCM)\",\n",
    "            \"dataset\": \"bham_60km-4x_12em_psl-temp4th-vort4th_eqvt_random-season\",\n",
    "            \"deterministic\": False,\n",
    "            \"CCS\": True,\n",
    "            \"color\": \"orange\",\n",
    "            \"order\": 22,\n",
    "            \n",
    "        },\n",
    "    ],\n",
    "}"
   ]
  },
  {
   "cell_type": "code",
   "execution_count": null,
   "id": "4df16b68-4c4d-42fb-9134-72f81d23b70b",
   "metadata": {
    "tags": []
   },
   "outputs": [],
   "source": [
    "merged_ds, MODELS = prep_eval_and_model_data(data_configs, split, ensemble_members=ensemble_members, samples_per_run=samples_per_run)\n",
    "merged_ds"
   ]
  },
  {
   "cell_type": "code",
   "execution_count": null,
   "id": "bf53ef76-c4d5-4725-88a3-8400d30cd4eb",
   "metadata": {
    "tags": []
   },
   "outputs": [],
   "source": [
    "cpm_pr = merged_ds[\"CPM\"][\"target_pr\"]"
   ]
  },
  {
   "cell_type": "code",
   "execution_count": null,
   "id": "13fdef87-6e80-454a-b098-046f73cd917a",
   "metadata": {
    "tags": []
   },
   "outputs": [],
   "source": [
    "hist_data = [ dict(data=merged_ds[spec[\"source\"]][\"pred_pr\"].sel(model=model), label=model, color=spec[\"color\"]) for source, mconfigs in MODELS.items() for model, spec in mconfigs.items() ]\n",
    "\n",
    "mean_biases = [ dict(data=normalized_mean_bias(merged_ds[\"GCM\"][\"pred_pr\"].sel(model=model), cpm_pr), label=model) for model, spec in MODELS[\"GCM\"].items() ]\n",
    "\n",
    "ccs_seasons = [\"DJF\", \"JJA\"]\n",
    "ccs_models = {source: {model: spec for model, spec in mconfigs.items() if spec.get(\"CCS\", False)} for source, mconfigs in MODELS.items() }\n",
    "\n",
    "historical_cpm_pr = cpm_pr.where(cpm_pr[\"time_period\"]== \"historic\", drop=True)\n",
    "\n",
    "hrange=(0,250)\n",
    "bins = np.histogram_bin_edges([], bins=50, range=hrange)\n",
    "\n",
    "def frac_contrib_change(pr_da, bins, range):\n",
    "    fpr = pr_da.where(pr_da[\"time_period\"]==\"future\", drop=True)\n",
    "    ffraccontrib = compute_fractional_contribution(fpr, bins=bins, range=range)\n",
    "    \n",
    "    hpr = pr_da.where(pr_da[\"time_period\"]==\"historic\", drop=True)\n",
    "    hfraccontrib = compute_fractional_contribution(hpr, bins=bins, range=range)\n",
    "    \n",
    "    return ffraccontrib - hfraccontrib\n",
    "\n",
    "tp_key = \"future\"\n",
    "tp_cpm_pr = cpm_pr.where(cpm_pr[\"time_period\"]==tp_key, drop=True)\n",
    "tp_frcontrib_data = [ \n",
    "        dict(data=frac_contrib_change(cpm_pr, bins, hrange), label=\"CPM\", color=\"black\", source=\"CPM\")\n",
    "    ] + [ \n",
    "        dict(data=frac_contrib_change(merged_ds[source][\"pred_pr\"].sel(model=model), bins, hrange), label=model, color=spec[\"color\"], source=source) for source, mconfigs in ccs_models.items() for model, spec in mconfigs.items() \n",
    "\n",
    "    ]"
   ]
  },
  {
   "cell_type": "code",
   "execution_count": null,
   "id": "edd038a5-ad00-4499-bca4-8a8a4eea5e9d",
   "metadata": {
    "tags": []
   },
   "outputs": [],
   "source": [
    "fig = plt.figure(layout='constrained', figsize=(4.5, 6.5))\n",
    "\n",
    "meanb_axes_keys = list(map(lambda x: f\"meanb {x['label']}\", mean_biases))\n",
    "meanb_spec = np.array(meanb_axes_keys).reshape(1,-1)\n",
    "\n",
    "dist_spec = np.array([\"Density\"] * meanb_spec.shape[1]).reshape(1,-1)\n",
    "ccs_spec = np.array([tp_key] * meanb_spec.shape[1]).reshape(1,-1)\n",
    "\n",
    "spec = np.concatenate([dist_spec, meanb_spec, ccs_spec], axis=0)\n",
    "\n",
    "axd = fig.subplot_mosaic(spec, gridspec_kw=dict(height_ratios=[3, 2, 3]), per_subplot_kw={ak: {\"projection\": cp_model_rotated_pole} for ak in meanb_axes_keys})\n",
    "\n",
    "ax = axd[\"Density\"]\n",
    "\n",
    "plot_fractional_contribution(hist_data, ax=ax, target_da=cpm_pr, title=\"All periods\", linewidth=1,)\n",
    "ax.annotate(\"a.\", xy=(0.04, 1.0), xycoords=(\"figure fraction\", \"axes fraction\"), weight='bold', ha=\"left\", va=\"bottom\")\n",
    "\n",
    "axes = plot_mean_biases(mean_biases, axd, colorbar=True)\n",
    "axes[0].annotate(\"b.\", xy=(0.04, 1.0), xycoords=(\"figure fraction\", \"axes fraction\"), weight='bold', ha=\"left\", va=\"bottom\")\n",
    "\n",
    "ax = axd[tp_key]\n",
    "for pred in tp_frcontrib_data:\n",
    "    ax.stairs(\n",
    "        pred[\"data\"],\n",
    "        bins,\n",
    "        baseline=None,\n",
    "        fill=False,\n",
    "        color=pred[\"color\"],\n",
    "        alpha=pred.get(\"alpha\", 0.95),\n",
    "        linestyle=pred.get(\"linestyle\", \"-\"),\n",
    "        linewidth=1,\n",
    "        label=f\"{pred['label']}\",\n",
    "    )\n",
    "ax.set_title(f\"Change from Historic to Future\")\n",
    "ax.set_xlabel(\"Precip (mm/day)\")\n",
    "ax.set_ylabel(\"Change in frac. contrib.\")\n",
    "\n",
    "# # linthresh based on minimum value\n",
    "# linthresh = (min((map(lambda h: np.min(np.fabs(h[\"data\"][h[\"data\"].nonzero()])), tp_frcontrib_data))))\n",
    "# print(linthresh)\n",
    "# linthresh = (10 ** math.floor(math.log10(linthresh)))/2\n",
    "# print(linthresh)\n",
    "\n",
    "# # linthresh based on minimum value from CPM\n",
    "# linthresh = np.min(np.fabs(tp_frcontrib_data[0][\"data\"][tp_frcontrib_data[0][\"data\"].nonzero()]))\n",
    "# print(linthresh)\n",
    "# linthresh = (10 ** math.floor(math.log10(linthresh)))/2\n",
    "# print(linthresh)\n",
    "\n",
    "# linthreshold based on single observation at reasonably high precip\n",
    "mindensity = 1 / (np.product(cpm_pr.shape)/3) # divide by 3 as considering single time periods\n",
    "print(mindensity)\n",
    "linthresh = 10 ** (math.floor(math.log10(100*mindensity))) / 2 # multiply by 100 as frac contrib is density times intensity\n",
    "print(linthresh)\n",
    "\n",
    "ax.set_yscale(\"symlog\", linthresh=linthresh)\n",
    "ax.tick_params(axis=\"both\", which=\"major\")\n",
    "ax.legend(ncols=2, fontsize=\"small\")\n",
    "ax.annotate(\"c.\", xy=(0.04, 1.0), xycoords=(\"figure fraction\", \"axes fraction\"), weight='bold', ha=\"left\", va=\"bottom\")\n",
    "\n",
    "plt.show()\n",
    "\n",
    "rms_mean_biases = xr.concat([ merged_ds[source][\"pred_pr\"].groupby(\"model\", squeeze=False).map(lambda x: rms_mean_bias(x, cpm_pr)) for source in merged_ds.keys() ], dim=\"model\")\n",
    "\n",
    "IPython.display.display_html(rms_mean_biases.rename(\"Root Mean Square Mean Bias (mm/day)\").to_dataframe().round(2).to_html(), raw=True)"
   ]
  },
  {
   "cell_type": "markdown",
   "id": "3a7b63ea-a383-436c-946d-9bfb02d096c4",
   "metadata": {},
   "source": [
    "### CCS Figures"
   ]
  },
  {
   "cell_type": "code",
   "execution_count": null,
   "id": "a54ff7b2-ad42-498a-b597-76a05e40acaa",
   "metadata": {},
   "outputs": [],
   "source": [
    "ccs_seasons = [\"DJF\", \"JJA\"]\n",
    "ccs_models = {source: {model: spec for model, spec in mconfigs.items() if spec.get(\"CCS\", False) } for source, mconfigs in MODELS.items() }\n",
    "\n",
    "ccs_pred_pr_das = [ merged_ds[source][\"pred_pr\"].sel(model=model) for source, models in ccs_models.items() for model in models ]"
   ]
  },
  {
   "cell_type": "markdown",
   "id": "9927dd50-9748-4d11-ae94-eadd502dca0f",
   "metadata": {},
   "source": [
    "### Mean change"
   ]
  },
  {
   "cell_type": "code",
   "execution_count": null,
   "id": "ce08b700-8b3f-4dac-a41d-bee6de4a2df9",
   "metadata": {
    "tags": []
   },
   "outputs": [],
   "source": [
    "changes = compute_changes(ccs_pred_pr_das, cpm_pr, ccs_seasons, stat_func=xr.DataArray.mean)\n",
    "    \n",
    "mean_change_fig = plt.figure(figsize=(5.5, 5.5), layout=\"compressed\")\n",
    "plot_changes(changes, ccs_seasons, mean_change_fig, show_change=[ccs_pred_pr_das[0][\"model\"].data.item()])\n",
    "\n",
    "plt.show()"
   ]
  },
  {
   "cell_type": "markdown",
   "id": "2d3c586f-2741-4bb1-9fe7-727cfd057df9",
   "metadata": {},
   "source": [
    "### Quantile changes"
   ]
  },
  {
   "cell_type": "code",
   "execution_count": null,
   "id": "85bbc934-fe52-44a4-a3f9-2afc9983c979",
   "metadata": {
    "tags": []
   },
   "outputs": [],
   "source": [
    "from functools import partial\n",
    "\n",
    "for q in [0.90, 0.95, 0.99]:\n",
    "    IPython.display.display_markdown(f\"#### Quantile: {q}\", raw=True)\n",
    "\n",
    "    changes = compute_changes(ccs_pred_pr_das, cpm_pr, ccs_seasons, stat_func=partial(xr.DataArray.quantile, q=q))\n",
    "    \n",
    "    mean_change_fig = plt.figure(figsize=(5.5, 5.5), layout=\"compressed\")\n",
    "    plot_changes(changes, ccs_seasons, mean_change_fig, show_change=[ccs_pred_pr_das[0][\"model\"].data.item()])\n",
    "        \n",
    "    plt.show()"
   ]
  },
  {
   "cell_type": "code",
   "execution_count": null,
   "id": "02f45175-b618-4cc7-bdd7-c6906f207242",
   "metadata": {
    "tags": []
   },
   "outputs": [],
   "source": []
  }
 ],
 "metadata": {
  "kernelspec": {
   "display_name": "Python 3 (ipykernel)",
   "language": "python",
   "name": "python3"
  }
 },
 "nbformat": 4,
 "nbformat_minor": 5
}

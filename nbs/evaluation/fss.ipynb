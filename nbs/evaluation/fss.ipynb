{
 "cells": [
  {
   "cell_type": "markdown",
   "id": "345a1b27-1df4-40e8-a2f9-0ff817ad8241",
   "metadata": {
    "tags": []
   },
   "source": [
    "# Evaluation of a selection of models on 60km -> 2.2km-4x over Birmingham"
   ]
  },
  {
   "cell_type": "code",
   "execution_count": null,
   "id": "48718f5d-f1f8-4ccc-8089-a90b8e505b7c",
   "metadata": {
    "tags": []
   },
   "outputs": [],
   "source": [
    "%reload_ext autoreload\n",
    "\n",
    "%autoreload 2\n",
    "\n",
    "%reload_ext dotenv\n",
    "%dotenv\n",
    "    \n",
    "import math\n",
    "import os\n",
    "\n",
    "import cftime\n",
    "import iris\n",
    "import iris.analysis.cartography\n",
    "import IPython\n",
    "import matplotlib\n",
    "import matplotlib.pyplot as plt\n",
    "import numpy as np\n",
    "import pysteps\n",
    "import scipy\n",
    "import xarray as xr\n",
    "\n",
    "from mlde_notebooks import plot_map, show_samples, distribution_figure, plot_mean_bias, plot_std_bias, scatter_plots, seasonal_distribution_figure, compute_gridspec, freq_density_plot\n",
    "from mlde_notebooks import plot_psd, plot_fss\n",
    "from mlde_utils import cp_model_rotated_pole\n",
    "from mlde_utils.utils import prep_eval_data\n",
    "from mlde_notebooks import create_map_fig, qq_plot, STYLES, plot_spread_skill"
   ]
  },
  {
   "cell_type": "code",
   "execution_count": null,
   "id": "33f41588-12d6-413c-9969-017d91027b3c",
   "metadata": {
    "tags": []
   },
   "outputs": [],
   "source": [
    "def reasonable_quantiles(da):\n",
    "    limit = int(np.log10(1/da.size))\n",
    "    print(limit)\n",
    "    return np.concatenate([np.linspace((1-10**(i+1))+(10**i), (1-10**i), 9) for i in range(-1, limit-1, -1)] + [[1.0]])"
   ]
  },
  {
   "cell_type": "code",
   "execution_count": null,
   "id": "15906278-e447-4e59-87dd-b6fdd000146d",
   "metadata": {
    "tags": []
   },
   "outputs": [],
   "source": [
    "TIME_PERIODS = {\n",
    "    \"historic\": (cftime.Datetime360Day(1980, 12, 1, 12, 0, 0, 0, has_year_zero=True), cftime.Datetime360Day(2000, 11, 30, 12, 0, 0, 0, has_year_zero=True)),\n",
    "    \"present\": (cftime.Datetime360Day(2020, 12, 1, 12, 0, 0, 0, has_year_zero=True), cftime.Datetime360Day(2040, 11, 30, 12, 0, 0, 0, has_year_zero=True)),\n",
    "    \"future\": (cftime.Datetime360Day(2060, 12, 1, 12, 0, 0, 0, has_year_zero=True), cftime.Datetime360Day(2080, 11, 30, 12, 0, 0, 0, has_year_zero=True)),\n",
    "}"
   ]
  },
  {
   "cell_type": "code",
   "execution_count": null,
   "id": "361fe73f-2d52-4862-8b8c-ab7604ad6c29",
   "metadata": {
    "tags": [
     "parameters"
    ]
   },
   "outputs": [],
   "source": [
    "split = \"val\"\n",
    "ensemble_members = [\n",
    "    \"01\",\n",
    "    \"04\",\n",
    "    \"05\",\n",
    "    \"06\",\n",
    "    \"07\",\n",
    "    \"08\",\n",
    "    \"09\",\n",
    "    \"10\",\n",
    "    \"11\",\n",
    "    \"12\",\n",
    "    \"13\",\n",
    "    \"15\",\n",
    "]\n",
    "samples_per_run = 3\n",
    "data_configs = {\n",
    "    \"CPM\": [\n",
    "        # {\n",
    "        #     \"fq_model_id\": \"score-sde/subvpsde/xarray_cncsnpp_continuous/bham-4x_12em_PslT4V4_random-season-IstanTsqrturrecen\",\n",
    "        #     \"checkpoint\": \"epoch-20\",\n",
    "        #     \"input_xfm\": \"stan\",\n",
    "        #     \"label\": \"Diff\",\n",
    "        #     \"dataset\": \"bham_gcmx-4x_12em_psl-temp4th-vort4th_eqvt_random-season\",\n",
    "        #     \"deterministic\": False,\n",
    "        # },\n",
    "        {\n",
    "            \"fq_model_id\": \"score-sde/subvpsde/xarray_12em_cncsnpp_continuous/bham-4x_12em_PslT4V4_random-season-IstanTsqrturrecen-no-loc-spec\",\n",
    "            \"checkpoint\": \"epoch-20\",\n",
    "            \"input_xfm\": \"stan\",\n",
    "            \"label\": \"Diff no locspec\",\n",
    "            \"dataset\": \"bham_gcmx-4x_12em_psl-temp4th-vort4th_eqvt_random-season\",\n",
    "            \"deterministic\": False,\n",
    "        },\n",
    "        {\n",
    "            \"fq_model_id\": \"u-net/bham-4x_12em_PslT4V4_random-season-IstanTsqrturrecen\",\n",
    "            \"checkpoint\": \"epoch-100\",\n",
    "            \"input_xfm\": \"stan\",\n",
    "            \"label\": \"U-Net\",\n",
    "            \"dataset\": \"bham_gcmx-4x_12em_psl-temp4th-vort4th_eqvt_random-season\",\n",
    "            \"deterministic\": True,\n",
    "        },\n",
    "        {\n",
    "            \"fq_model_id\": \"id-linpr\",\n",
    "            \"checkpoint\": \"epoch-0\",\n",
    "            \"input_xfm\": \"none\",\n",
    "            \"label\": \"Bilinear\",\n",
    "            \"deterministic\": True,\n",
    "            \"dataset\": \"bham_gcmx-4x_12em_linpr_eqvt_random-season\",\n",
    "        },\n",
    "    ],\n",
    "    \"GCM\": [\n",
    "        {\n",
    "            \"fq_model_id\": \"score-sde/subvpsde/xarray_cncsnpp_continuous/bham-4x_12em_PslT4V4_random-season-IstanTsqrturrecen\",\n",
    "            \"checkpoint\": \"epoch-20\",\n",
    "            \"input_xfm\": \"pixelmmsstan\",\n",
    "            \"label\": \"GCM Diff bc\",\n",
    "            \"dataset\": \"bham_60km-4x_12em_psl-temp4th-vort4th_eqvt_random-season\",\n",
    "            \"deterministic\": False,\n",
    "        },\n",
    "        {\n",
    "            \"fq_model_id\": \"score-sde/subvpsde/xarray_cncsnpp_continuous/bham-4x_12em_PslT4V4_random-season-IstanTsqrturrecen\",\n",
    "            \"checkpoint\": \"epoch-20\",\n",
    "            \"input_xfm\": \"stan\",\n",
    "            \"label\": \"GCM Diff\",\n",
    "            \"dataset\": \"bham_60km-4x_12em_psl-temp4th-vort4th_eqvt_random-season\",\n",
    "            \"deterministic\": False,\n",
    "        },\n",
    "    ],\n",
    "}\n",
    "# the datasets to use for comparisons like PSD which need default datasets with CPM-based hi-res precip and GCM-based lo-res precip respectively\n",
    "simulation_pr_datasets = {\n",
    "    \"GCM\": \"bham_60km-4x_linpr_random-season\",\n",
    "    \"CPM\": \"bham_60km-4x_linpr_random-season\"\n",
    "}\n",
    "gcm_lr_lin_pr_dataset = \"bham_60km-4x_12em_linpr_eqvt_random-season\"\n",
    "cpm_hr_pr_dataset = \"bham_gcmx-4x_12em_linpr_eqvt_random-season\"\n",
    "desc = \"\"\"\n",
    "Describe in more detail the models being compared\n",
    "\"\"\""
   ]
  },
  {
   "cell_type": "code",
   "execution_count": null,
   "id": "778a28b3-8483-4b83-895c-0253b499f36b",
   "metadata": {
    "tags": []
   },
   "outputs": [],
   "source": [
    "IPython.display.Markdown(desc)"
   ]
  },
  {
   "cell_type": "code",
   "execution_count": null,
   "id": "4df16b68-4c4d-42fb-9134-72f81d23b70b",
   "metadata": {
    "tags": []
   },
   "outputs": [],
   "source": [
    "det_models = { source: [\n",
    "    run_config[\"label\"] for run_config in run_configs if run_config[\"deterministic\"]\n",
    "] for source, run_configs in data_configs.items() }\n",
    "stoch_models = { source: [\n",
    "    run_config[\"label\"]\n",
    "    for run_config in run_configs\n",
    "    if not run_config[\"deterministic\"]\n",
    "] for source, run_configs in data_configs.items() }\n",
    "merged_ds = { source: prep_eval_data(data_config, split, ensemble_members=ensemble_members, samples_per_run=samples_per_run) for source, data_config in data_configs.items() }\n",
    "cpm_pr = merged_ds[\"CPM\"][\"target_pr\"]\n",
    "merged_ds"
   ]
  },
  {
   "cell_type": "markdown",
   "id": "615cf26d-0457-4ee4-90c3-86d2217604c2",
   "metadata": {
    "tags": []
   },
   "source": [
    "### FSS"
   ]
  },
  {
   "cell_type": "code",
   "execution_count": null,
   "id": "276de6ff-7430-4809-b2f2-46bc6e60ae01",
   "metadata": {
    "tags": []
   },
   "outputs": [],
   "source": [
    "fig = plt.figure(layout=\"constrained\")\n",
    "\n",
    "ds = merged_ds[\"CPM\"]\n",
    "thresholds = cpm_pr.quantile([0.5, 0.75, 0.9, 0.99]).values\n",
    "print(thresholds)\n",
    "plot_fss(fig, ds, thresholds)"
   ]
  }
 ],
 "metadata": {
  "kernelspec": {
   "display_name": "Python 3 (ipykernel)",
   "language": "python",
   "name": "python3"
  }
 },
 "nbformat": 4,
 "nbformat_minor": 5
}

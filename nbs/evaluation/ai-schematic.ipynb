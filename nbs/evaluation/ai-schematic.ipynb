{
 "cells": [
  {
   "cell_type": "markdown",
   "id": "345a1b27-1df4-40e8-a2f9-0ff817ad8241",
   "metadata": {
    "tags": []
   },
   "source": [
    "# Emulator Schematic"
   ]
  },
  {
   "cell_type": "code",
   "execution_count": null,
   "id": "48718f5d-f1f8-4ccc-8089-a90b8e505b7c",
   "metadata": {
    "tags": []
   },
   "outputs": [],
   "source": [
    "%reload_ext autoreload\n",
    "\n",
    "%autoreload 2\n",
    "\n",
    "%reload_ext dotenv\n",
    "%dotenv\n",
    "    \n",
    "import IPython\n",
    "import matplotlib.pyplot as plt\n",
    "import math\n",
    "\n",
    "from mlde_utils import cp_model_rotated_pole\n",
    "from mlde_notebooks.data import prep_eval_and_model_data\n",
    "from mlde_notebooks import plot_map, sorted_em_time_by_mean_pr"
   ]
  },
  {
   "cell_type": "code",
   "execution_count": null,
   "id": "5a9f0156-b736-4794-ac1b-1788a4fa90e5",
   "metadata": {},
   "outputs": [],
   "source": [
    "import matplotlib\n",
    "matplotlib.rcParams['figure.dpi'] = 300"
   ]
  },
  {
   "cell_type": "code",
   "execution_count": null,
   "id": "361fe73f-2d52-4862-8b8c-ab7604ad6c29",
   "metadata": {
    "tags": [
     "parameters"
    ]
   },
   "outputs": [],
   "source": [
    "split = \"test\"\n",
    "ensemble_members = [\n",
    "    \"01\",\n",
    "    \"04\",\n",
    "    \"05\",\n",
    "    \"06\",\n",
    "    \"07\",\n",
    "    \"08\",\n",
    "    \"09\",\n",
    "    \"10\",\n",
    "    \"11\",\n",
    "    \"12\",\n",
    "    \"13\",\n",
    "    \"15\",\n",
    "]\n",
    "samples_per_run = 3\n",
    "data_configs = {\n",
    "    \"CPM\": [\n",
    "        {\n",
    "            \"fq_model_id\": \"score-sde/subvpsde/xarray_12em_cncsnpp_continuous/bham-4x_12em_PslS4T4V4_random-season-IstanTsqrturrecen-no-loc-spec\",\n",
    "            \"checkpoint\": \"epoch-20\",\n",
    "            \"input_xfm\": \"stan\",\n",
    "            \"label\": \"Diff\",\n",
    "            \"dataset\": \"bham_gcmx-4x_12em_psl-sphum4th-temp4th-vort4th_eqvt_random-season\",\n",
    "            \"deterministic\": False,\n",
    "        },\n",
    "    ]\n",
    "}\n",
    "sample_percentiles={\n",
    "    \"CPM\": [{\"label\": \"Wet\", \"percentile\": 0.8}, {\"label\": \"Wettest\", \"percentile\": 1}],\n",
    "    \"GCM\": [{\"label\": \"Wet\", \"percentile\": 0.8}, {\"label\": \"Wettest\", \"percentile\": 1}],\n",
    "}\n",
    "\n",
    "desc = \"\"\"\n",
    "Describe in more detail the models being compared\n",
    "\"\"\""
   ]
  },
  {
   "cell_type": "code",
   "execution_count": null,
   "id": "778a28b3-8483-4b83-895c-0253b499f36b",
   "metadata": {
    "tags": []
   },
   "outputs": [],
   "source": [
    "IPython.display.Markdown(desc)"
   ]
  },
  {
   "cell_type": "code",
   "execution_count": null,
   "id": "4df16b68-4c4d-42fb-9134-72f81d23b70b",
   "metadata": {
    "tags": []
   },
   "outputs": [],
   "source": [
    "EVAL_DS, MODELS = prep_eval_and_model_data(data_configs, split, ensemble_members=ensemble_members, samples_per_run=samples_per_run)\n",
    "EVAL_DS"
   ]
  },
  {
   "cell_type": "markdown",
   "id": "88878714-2083-4715-bbcf-73145d1d3c0d",
   "metadata": {
    "tags": []
   },
   "source": [
    "## Figure: Emulator Schematic"
   ]
  },
  {
   "cell_type": "code",
   "execution_count": null,
   "id": "cfd20fe4-e06c-49f8-89d0-a790e7236d24",
   "metadata": {
    "tags": []
   },
   "outputs": [],
   "source": [
    "mean_sorted_em_time = sorted_em_time_by_mean_pr(EVAL_DS[\"CPM\"])\n",
    "idx = math.ceil(len(mean_sorted_em_time) * (1 - sample_percentiles[\"CPM\"][-1][\"percentile\"]))\n",
    "em_time = mean_sorted_em_time[idx]\n",
    "\n",
    "plot_ds = EVAL_DS[\"CPM\"].sel(time=em_time[1], ensemble_member=em_time[0]).sel(model=list(MODELS[\"CPM\"].keys())[-1])\n",
    "subplot_kw = dict(projection=cp_model_rotated_pole)\n",
    "\n",
    "nsamples = 3\n",
    "\n",
    "thetas = [850, 700, 500, 250]\n",
    "\n",
    "possible_variables = [(\"spechum\", thetas, \"Specific Humidity\\n(multi-level)\"), (\"temp\", thetas, \"Temperature\\n(multi-level)\"), (\"vorticity\", thetas, \"Vorticity\\n(multi-level)\"), (\"psl\", [\"\"], \"Sea-level pressure\")]\n",
    "variables = list(filter(lambda v: any([k.startswith(v[0]) for k in plot_ds.variables.keys()]), possible_variables))\n",
    "\n",
    "full_variable_set = [f\"{varclass}{level}\" for varclass, levels, _title in variables for level in levels]\n",
    "\n",
    "\n",
    "awidth = 0.12\n",
    "offset_width = 0.009\n",
    "stacked_awidth = (awidth + offset_width *3)\n",
    "gap = (1 - stacked_awidth * 4)/(len(variables) - 1)\n",
    "print(stacked_awidth*4 + gap*3)\n",
    "\n",
    "fig = plt.figure(figsize=(5.5, 5.5), layout=\"constrained\")\n",
    "\n",
    "axd = fig.subplot_mosaic([full_variable_set + [f\"pred_pr {i}\" for i in range(nsamples)] + [\"AI\"]], subplot_kw=subplot_kw)\n",
    "\n",
    "ax = axd[\"AI\"]\n",
    "# ax.axis(\"off\")\n",
    "ax.set_facecolor('black')\n",
    "ax.text(0.5, 0.5, \"Diffusion\", \n",
    "        ha='center', va='center', color=\"white\", weight='bold', transform=ax.transAxes)\n",
    "ax.set_position([0.43, awidth+0.15, 0.15, 0.15])\n",
    "\n",
    "output_arrows = [\n",
    "    dict(\n",
    "        xy=(1, 1),\n",
    "        xytext=(0.5, 0),\n",
    "        arrowprops=dict(facecolor='black', shrinkB=5, arrowstyle=\"fancy\", connectionstyle=\"arc3,rad=-0.2\"),\n",
    "    ),\n",
    "    dict(\n",
    "        xy=(0.5, 1),\n",
    "        xytext=(0.5, 0),\n",
    "        arrowprops=dict(facecolor='black', shrinkB=5, arrowstyle=\"fancy\"),\n",
    "    ),\n",
    "    dict(\n",
    "        xy=(0, 1),\n",
    "        xytext=(0.5, 0),\n",
    "        arrowprops=dict(facecolor='black', shrinkB=5, arrowstyle=\"fancy\", connectionstyle=\"arc3,rad=0.2\"),\n",
    "    ),\n",
    "]\n",
    "for sampleidx in range(nsamples):\n",
    "    ax = axd[f\"pred_pr {sampleidx}\"]\n",
    "    plot_map(plot_ds[\"pred_pr\"].isel(sample_id=sampleidx), ax=ax, style=\"precip\")\n",
    "    ax.set_position([(0.505-awidth/2)+(sampleidx-1)*(awidth+0.03), awidth/2, awidth, awidth])\n",
    "\n",
    "    if sampleidx == 1:\n",
    "        ax.text(0.5, -0.15, \"High-resolution precipitation\", fontsize=\"small\", ha='center', va='center',transform=ax.transAxes)\n",
    "\n",
    "    axd[\"AI\"].annotate(\n",
    "            '',\n",
    "            xycoords=ax.transAxes,\n",
    "            textcoords=axd[\"AI\"].transAxes,\n",
    "            **output_arrows[sampleidx],\n",
    "        )\n",
    "arrows = [\n",
    "    dict(\n",
    "        xy=(0.5, 0.5),\n",
    "        xytext=(0.5, 0.5),\n",
    "        arrowprops=dict(facecolor='black', shrinkA=38, shrinkB=33, arrowstyle=\"simple\"),#, connectionstyle=\"arc3,rad=0.2\"),\n",
    "    ),\n",
    "    dict(\n",
    "        xy=(0.5, 0.5),\n",
    "        xytext=(0.85, -0.25),\n",
    "        arrowprops=dict(facecolor='black', shrinkB=24, arrowstyle=\"simple\"),#, connectionstyle=\"arc3,rad=0.2\"),\n",
    "    ),\n",
    "    dict(\n",
    "        xy=(0.5, 0.5),\n",
    "        xytext=(0.5, -0.25),\n",
    "        arrowprops=dict(facecolor='black', shrinkB=24, arrowstyle=\"simple\"),#, connectionstyle=\"arc3,rad=-0.2\"),\n",
    "    ),\n",
    "    dict(\n",
    "        xy=(0.5, 0.5),\n",
    "        xytext=(0.5, 0.5),\n",
    "        arrowprops=dict(facecolor='black', shrinkA=27, shrinkB=33, arrowstyle=\"simple\"),#, connectionstyle=\"arc3,rad=-0.2\"),\n",
    "    ),\n",
    "]\n",
    "\n",
    "for vi, (varclass, levels, vartitle) in enumerate(variables):\n",
    "    variable_set = [f\"{varclass}{level}\" for level in levels]\n",
    "    \n",
    "    for i, var in enumerate(variable_set):\n",
    "        ax = axd[var]\n",
    "        var_plot_kwargs = {}\n",
    "        if varclass in [\"vorticity\"]:\n",
    "            var_plot_kwargs = {\"center\": 0}\n",
    "        plot_map(plot_ds[var], ax=ax, style=None, **var_plot_kwargs)\n",
    "        left = (stacked_awidth + gap) * vi + offset_width*i\n",
    "        top = 0.5-offset_width*i\n",
    "        if vi == 0 or vi == len(variables) - 1:\n",
    "            top = top - 0.1\n",
    "        ax.set_position([left, top, awidth, awidth]) \n",
    "        if i == 0:\n",
    "            ax.set_title(vartitle, fontsize=\"small\")\n",
    "        if i == 0:#len(variable_set)-1:\n",
    "            axd[\"AI\"].annotate(\n",
    "                '',\n",
    "                xycoords=axd[\"AI\"].transAxes,\n",
    "                textcoords=ax.transAxes,\n",
    "                **arrows[vi],\n",
    "            )"
   ]
  },
  {
   "cell_type": "code",
   "execution_count": null,
   "id": "c4fbc8f0-9e34-487d-a903-2d4546d984be",
   "metadata": {},
   "outputs": [],
   "source": []
  }
 ],
 "metadata": {
  "kernelspec": {
   "display_name": "Python 3 (ipykernel)",
   "language": "python",
   "name": "python3"
  }
 },
 "nbformat": 4,
 "nbformat_minor": 5
}

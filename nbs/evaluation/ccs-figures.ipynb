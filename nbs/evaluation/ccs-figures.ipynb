{
 "cells": [
  {
   "cell_type": "markdown",
   "id": "345a1b27-1df4-40e8-a2f9-0ff817ad8241",
   "metadata": {
    "tags": []
   },
   "source": [
    "# Evaluation of a selection of models on 60km -> 2.2km-4x over Birmingham"
   ]
  },
  {
   "cell_type": "code",
   "execution_count": null,
   "id": "48718f5d-f1f8-4ccc-8089-a90b8e505b7c",
   "metadata": {
    "tags": []
   },
   "outputs": [],
   "source": [
    "%reload_ext autoreload\n",
    "\n",
    "%autoreload 2\n",
    "\n",
    "%reload_ext dotenv\n",
    "%dotenv\n",
    "\n",
    "import functools\n",
    "import math\n",
    "import string\n",
    "\n",
    "import IPython\n",
    "import matplotlib.pyplot as plt\n",
    "import numpy as np\n",
    "import xarray as xr\n",
    "\n",
    "from mlde_notebooks.data import prep_eval_and_model_data\n",
    "from mlde_notebooks import plot_map\n",
    "from mlde_notebooks.ccs import compute_changes, plot_changes, plot_tp_fd, bootstrap_seasonal_mean_pr_change_samples\n",
    "from mlde_utils import cp_model_rotated_pole, TIME_PERIODS"
   ]
  },
  {
   "cell_type": "code",
   "execution_count": null,
   "id": "0de6eaf3-b4fb-4b6c-af4f-2a8aa40cf2d4",
   "metadata": {},
   "outputs": [],
   "source": [
    "import matplotlib\n",
    "matplotlib.rcParams['figure.dpi'] = 300"
   ]
  },
  {
   "cell_type": "code",
   "execution_count": null,
   "id": "361fe73f-2d52-4862-8b8c-ab7604ad6c29",
   "metadata": {
    "tags": [
     "parameters"
    ]
   },
   "outputs": [],
   "source": [
    "split = \"val\"\n",
    "ensemble_members = [\n",
    "    \"01\",\n",
    "    \"04\",\n",
    "    \"05\",\n",
    "    \"06\",\n",
    "    \"07\",\n",
    "    \"08\",\n",
    "    \"09\",\n",
    "    \"10\",\n",
    "    \"11\",\n",
    "    \"12\",\n",
    "    \"13\",\n",
    "    \"15\",\n",
    "]\n",
    "samples_per_run = 3\n",
    "data_configs = {\n",
    "    \"CPM\": [\n",
    "        {\n",
    "            \"fq_model_id\": \"score-sde/subvpsde/xarray_12em_cncsnpp_continuous/bham-4x_12em_PslS4T4V4_random-season-IstanTsqrturrecen-no-loc-spec\",\n",
    "            \"checkpoint\": \"epoch-20\",\n",
    "            \"input_xfm\": \"bham_gcmx-4x_12em_psl-sphum4th-temp4th-vort4th_eqvt_random-season-stan\",\n",
    "            \"label\": \"Diffusion (cCPM)\",\n",
    "            \"dataset\": \"bham_gcmx-4x_12em_psl-sphum4th-temp4th-vort4th_eqvt_random-season\",\n",
    "            \"deterministic\": False,\n",
    "            \"PSD\": True,\n",
    "            \"CCS\": True,\n",
    "            \"color\": \"blue\",\n",
    "            \"order\": 10,\n",
    "        },\n",
    "        {\n",
    "            \"fq_model_id\": \"u-net/bham-4x_12em_PslS4T4V4_random-season-IstanTsqrturrecen\",\n",
    "            \"checkpoint\": \"epoch-100\",\n",
    "            \"input_xfm\": \"stan\",\n",
    "            \"label\": \"U-Net (cCPM)\",\n",
    "            \"dataset\": \"bham_gcmx-4x_12em_psl-sphum4th-temp4th-vort4th_eqvt_random-season\",\n",
    "            \"deterministic\": True,\n",
    "            \"PSD\": True,\n",
    "            \"color\": \"orange\",\n",
    "            \"order\": 1,\n",
    "        },\n",
    "        {\n",
    "            \"fq_model_id\": \"id-linpr\",\n",
    "            \"checkpoint\": \"epoch-0\",\n",
    "            \"input_xfm\": \"none\",\n",
    "            \"label\": \"Bilinear cCPM\",\n",
    "            \"deterministic\": True,\n",
    "            \"dataset\": \"bham_gcmx-4x_12em_linpr_eqvt_random-season\",\n",
    "            \"color\": \"red\",\n",
    "            \"order\": 0,\n",
    "        },\n",
    "    ],\n",
    "    \"GCM\": [\n",
    "        {\n",
    "            \"fq_model_id\": \"score-sde/subvpsde/xarray_12em_cncsnpp_continuous/bham-4x_12em_PslS4T4V4_random-season-IstanTsqrturrecen-no-loc-spec\",\n",
    "            \"checkpoint\": \"epoch-20\",\n",
    "            \"input_xfm\": \"bham_60km-4x_12em_psl-sphum4th-temp4th-vort4th_eqvt_random-season-pixelmmsstan\",\n",
    "            \"label\": \"Diffusion (GCM)\",\n",
    "            \"dataset\": \"bham_60km-4x_12em_psl-sphum4th-temp4th-vort4th_eqvt_random-season\",\n",
    "            \"deterministic\": False,\n",
    "            \"CCS\": True,\n",
    "            \"color\": \"green\",\n",
    "            \"order\": 20,\n",
    "            \n",
    "        },\n",
    "    ],\n",
    "}\n",
    "\n",
    "desc = \"\"\"\n",
    "Describe in more detail the models being compared\n",
    "\"\"\""
   ]
  },
  {
   "cell_type": "code",
   "execution_count": null,
   "id": "778a28b3-8483-4b83-895c-0253b499f36b",
   "metadata": {
    "tags": []
   },
   "outputs": [],
   "source": [
    "IPython.display.Markdown(desc)"
   ]
  },
  {
   "cell_type": "code",
   "execution_count": null,
   "id": "4df16b68-4c4d-42fb-9134-72f81d23b70b",
   "metadata": {
    "tags": []
   },
   "outputs": [],
   "source": [
    "merged_ds, MODELS = prep_eval_and_model_data(data_configs, split, ensemble_members=ensemble_members, samples_per_run=samples_per_run)\n",
    "merged_ds"
   ]
  },
  {
   "cell_type": "code",
   "execution_count": null,
   "id": "5d42a6f9-4512-4a90-a962-dc51a8cea484",
   "metadata": {},
   "outputs": [],
   "source": [
    "cpm_pr = merged_ds[\"CPM\"][\"target_pr\"]"
   ]
  },
  {
   "cell_type": "markdown",
   "id": "e661a9bb-15f6-4ff8-b89a-237b1024d98e",
   "metadata": {
    "tags": []
   },
   "source": [
    "## Figure: Climate change signal\n",
    "\n",
    "* Per time period freq density histogram\n",
    "* Mean change diff: $(\\mu_{{ML}}^{{future}} - \\mu_{{ML}}^{{hist}})/\\mu_{{ML}}^{{hist}} - (\\mu_{{CPM}}^{{future}} - \\mu_{{CPM}}^{{hist}})/\\mu_{{CPM}}^{{hist}}$"
   ]
  },
  {
   "cell_type": "code",
   "execution_count": null,
   "id": "e2649809-2cf5-445e-ba2f-011b6ae0d822",
   "metadata": {},
   "outputs": [],
   "source": [
    "ccs_models = {source: {model: spec for model, spec in mconfigs.items() if spec.get(\"CCS\", False)} for source, mconfigs in MODELS.items() }\n",
    "\n",
    "ccs_pred_pr_das = [ merged_ds[source][\"pred_pr\"].sel(model=model) for source, models in ccs_models.items() for model in models ]\n",
    "\n",
    "ccs_ds = xr.combine_by_coords([cpm_pr, xr.concat(ccs_pred_pr_das, dim=\"model\")])"
   ]
  },
  {
   "cell_type": "code",
   "execution_count": null,
   "id": "12d05e88-e7b7-4b4f-b315-e72505e164da",
   "metadata": {
    "tags": []
   },
   "outputs": [],
   "source": [
    "for source, mconfigs in ccs_models.items():\n",
    "    for model, spec in mconfigs.items():\n",
    "        IPython.display.display_markdown(f\"#### {model}\", raw=True)\n",
    "\n",
    "        fd_fig = plt.figure(figsize=(5.5, 5.5), layout=\"compressed\")\n",
    "        pred_pr = merged_ds[source][\"pred_pr\"].sel(model=model)\n",
    "        \n",
    "        plot_tp_fd(pred_pr, cpm_pr, fd_fig, source, model, spec)\n",
    "\n",
    "        plt.show()"
   ]
  },
  {
   "cell_type": "markdown",
   "id": "e3fdd073-8a1a-430b-bed1-4bc82f039bad",
   "metadata": {},
   "source": [
    "### Seasonal domain mean changes"
   ]
  },
  {
   "cell_type": "code",
   "execution_count": null,
   "id": "bac6e431-ff1f-4498-9dcd-5c528ec2a229",
   "metadata": {},
   "outputs": [],
   "source": [
    "def mean_change(ds):\n",
    "    hist_stat = ds.where(ds[\"time_period\"] == \"historic\", drop=True).mean(dim=...)\n",
    "    fut_stat = ds.where(ds[\"time_period\"] == \"future\", drop=True).mean(dim=...)\n",
    "    return fut_stat - hist_stat\n",
    "\n",
    "def per_model_change(ds):\n",
    "    return ds.groupby(\"model\").map(functools.partial(mean_change))\n",
    "                                   \n",
    "hist_cpm_means = ccs_ds[\"target_pr\"].where(ccs_ds[\"target_pr\"][\"time_period\"] == \"historic\", drop=True).groupby(\"time.season\").mean(dim=...)\n",
    "    \n",
    "cpm_change = ccs_ds[\"target_pr\"].groupby(\"time.season\").map(mean_change)\n",
    "\n",
    "emu_change = ccs_ds[\"pred_pr\"].groupby(\"time.season\").map(per_model_change)\n",
    "\n",
    "table_ds = xr.merge([\n",
    "    (100*cpm_change/np.abs(hist_cpm_means)).rename(\"CPM change (% of CPM historic)\"),\n",
    "    (100*emu_change/np.abs(hist_cpm_means)).rename(\"Emulator change (% of CPM historic)\"),\n",
    "    (100*(emu_change-cpm_change)/np.abs(cpm_change)).rename(f\"Difference (% of CPM change)\"),\n",
    "    (100*(emu_change-cpm_change)/np.abs(hist_cpm_means)).rename(f\"Difference (% of CPM historic)\"),\n",
    "])\n",
    "\n",
    "IPython.display.display_html(table_ds.round(1).to_dataframe().to_html(), raw=True)"
   ]
  },
  {
   "cell_type": "markdown",
   "id": "723f7a84-bee8-469d-8aaf-142d34d9fb70",
   "metadata": {},
   "source": [
    "#### Significance testing on seasonal domain mean changes\n",
    "\n",
    "With bootstrapped distribution and CIs"
   ]
  },
  {
   "cell_type": "code",
   "execution_count": null,
   "id": "b9db1ff7-140d-4641-bff1-027684b2c11d",
   "metadata": {},
   "outputs": [],
   "source": [
    "CCS_SEASONS = [\"DJF\", \"MAM\", \"JJA\", \"SON\"]\n",
    "for source, mconfigs in ccs_models.items():\n",
    "    for model in mconfigs.keys():    \n",
    "        pred_pr = merged_ds[source][\"pred_pr\"].sel(model=model)\n",
    "\n",
    "        IPython.display.display_markdown(f\"#### {model}\", raw=True)\n",
    "        fig, axd = plt.subplot_mosaic([[\"model\", \"cpm\", \"difference\"], [\"clim model\", \"clim cpm\", \"clim difference\"]], figsize=(9, 6), constrained_layout=True)\n",
    "        \n",
    "        seasonal_changes = {}\n",
    "        for season in CCS_SEASONS:\n",
    "            season_cpm_pr = cpm_pr.where(cpm_pr[\"time.season\"] == season, drop=True)\n",
    "            season_pred_pr = pred_pr.where(cpm_pr[\"time.season\"] == season, drop=True)\n",
    "            \n",
    "            hist_season_cpm_pr_mean = (\n",
    "                season_cpm_pr.where(season_cpm_pr[\"time_period\"] == \"historic\", drop=True)\n",
    "                .mean(dim=[\"grid_latitude\", \"grid_longitude\", \"time\", \"ensemble_member\"])\n",
    "            )\n",
    "        \n",
    "            fut_season_cpm_pr_mean = (\n",
    "                season_cpm_pr.where(season_cpm_pr[\"time_period\"] == \"future\", drop=True)\n",
    "                .mean(dim=[\"grid_latitude\", \"grid_longitude\", \"time\", \"ensemble_member\"])\n",
    "            )\n",
    "        \n",
    "            season_cpm_pr_mean_change = fut_season_cpm_pr_mean-hist_season_cpm_pr_mean\n",
    "            \n",
    "            hist_mean_samples, fut_mean_samples = bootstrap_seasonal_mean_pr_change_samples(season_cpm_pr, season_pred_pr, nsamples=100_000)\n",
    "\n",
    "            mean_cpm_change_samples = (100*(fut_mean_samples[\"target_pr\"] - hist_mean_samples[\"target_pr\"])/np.abs(season_cpm_pr_mean_change)).rename(\"cpm\")\n",
    "            mean_emu_change_samples = (100*(fut_mean_samples[\"pred_pr\"] - hist_mean_samples[\"pred_pr\"])/np.abs(season_cpm_pr_mean_change)).rename(\"emu\")\n",
    "            differences = (mean_emu_change_samples - mean_cpm_change_samples).rename(\"difference\")            \n",
    "\n",
    "            clim_mean_cpm_change_samples = (100*(fut_mean_samples[\"target_pr\"] - hist_mean_samples[\"target_pr\"])/np.abs(hist_season_cpm_pr_mean)).rename(\"clim_cpm\")\n",
    "            clim_mean_emu_change_samples = (100*(fut_mean_samples[\"pred_pr\"] - hist_mean_samples[\"pred_pr\"])/np.abs(hist_season_cpm_pr_mean)).rename(\"clim_emu\")\n",
    "            clim_differences = (clim_mean_emu_change_samples - clim_mean_cpm_change_samples).rename(\"clim_difference\")            \n",
    "            \n",
    "            seasonal_changes[season] = xr.merge([mean_cpm_change_samples, mean_emu_change_samples, differences, clim_mean_cpm_change_samples, clim_mean_emu_change_samples, clim_differences])\n",
    "            # print(seasonal_changes[season])\n",
    "\n",
    "        for season in CCS_SEASONS:\n",
    "            IPython.display.display_markdown(f\"##### {season}\", raw=True)\n",
    "\n",
    "            ax = axd[\"model\"]\n",
    "            seasonal_changes[season][\"emu\"].plot.hist(bins=50, ax=ax, label=season, alpha=0.75, histtype=\"step\", linewidth=1, density=True)\n",
    "            ax.legend()\n",
    "            ax.set_title(f\"{model}\")\n",
    "            \n",
    "            ax = axd[\"cpm\"]\n",
    "            seasonal_changes[season][\"cpm\"].plot.hist(bins=50, ax=ax, label=season, alpha=0.75, histtype=\"step\", linewidth=1, density=True)\n",
    "            # ax.legend()\n",
    "            ax.set_title(f\"CPM\")\n",
    "\n",
    "            ax = axd[\"difference\"]\n",
    "            seasonal_changes[season][\"difference\"].plot.hist(bins=50, ax=ax, label=season, alpha=0.75, histtype=\"step\", linewidth=1, density=True)\n",
    "            # ax.legend()\n",
    "            ax.set_title(f\"Differences {model}\")\n",
    "            \n",
    "            ax = axd[\"clim difference\"]\n",
    "            seasonal_changes[season][\"clim_difference\"].plot.hist(bins=50, ax=ax, label=season, alpha=0.75, histtype=\"step\", linewidth=1, density=True)\n",
    "            # ax.legend()\n",
    "            ax.set_title(f\"Differences {model} relative to hist clim\")\n",
    "\n",
    "            ax = axd[\"clim model\"]\n",
    "            seasonal_changes[season][\"clim_emu\"].plot.hist(bins=50, ax=ax, label=season, alpha=0.75, histtype=\"step\", linewidth=1, density=True)\n",
    "            # ax.legend()\n",
    "            ax.set_title(f\"{model} relative to hist clim\")\n",
    "            \n",
    "            ax = axd[\"clim cpm\"]\n",
    "            seasonal_changes[season][\"clim_cpm\"].plot.hist(bins=50, ax=ax, label=season, alpha=0.75, histtype=\"step\", linewidth=1, density=True)\n",
    "            # ax.legend()\n",
    "            ax.set_title(f\"CPM relative to hist clim\")\n",
    "        \n",
    "            alpha = 0.05\n",
    "            IPython.display.display_html(seasonal_changes[season].quantile([alpha/2, 1-(alpha/2)]).to_dataframe().round(2).to_html(), raw=True)\n",
    "\n",
    "        plt.show()"
   ]
  },
  {
   "cell_type": "code",
   "execution_count": null,
   "id": "a9ba5b49-4c49-4068-840c-4b3cef652916",
   "metadata": {},
   "outputs": [],
   "source": [
    "from mlde_notebooks import significance\n",
    "\n",
    "# CCS_SEASONS = [\"DJF\", \"JJA\"]\n",
    "# for season, season_ds in merged_ds[\"GCM\"].isel(model=[0]).groupby(\"time.season\"):\n",
    "#     if season not in CCS_SEASONS:\n",
    "#         continue\n",
    "#     fig = plt.figure(figsize=(5.5, 2.5), layout=\"compressed\")\n",
    "#     axd = fig.subplot_mosaic(np.array(list(TIME_PERIODS.keys())).reshape(1, -1), sharex=True, subplot_kw=dict(projection=cp_model_rotated_pole))\n",
    "    \n",
    "#     for tp_idx, tp_key in enumerate(TIME_PERIODS.keys()):\n",
    "#         tp_season_ds = season_ds.where(season_ds[\"time_period\"] == tp_key, drop=True)\n",
    "\n",
    "#         for model, ds in tp_season_ds.groupby(\"model\"):\n",
    "#             ttest_result = significance.significance_test(ds.squeeze())\n",
    "#             ds[\"pvalue\"] = xr.Variable([\"grid_latitude\", \"grid_longitude\"], ttest_result.pvalue)\n",
    "    \n",
    "#             N = len(ds[\"grid_longitude\"]) * len(ds[\"grid_latitude\"])\n",
    "#             alpha_fdr = 0.1\n",
    "#             pvalue_threshold = alpha_fdr*np.arange(1, N+1, step=1)/N        \n",
    "#             sorted_pvalues = np.sort(np.ravel(ds[\"pvalue\"]))\n",
    "#             p_values_less_than_alpha_fdr_frac = np.nonzero(np.cumprod(sorted_pvalues <= pvalue_threshold))[0]\n",
    "#             if len(p_values_less_than_alpha_fdr_frac) == 0:\n",
    "#                 # no local tests are below the controlled FDR\n",
    "#                 p_fdr_star = 0. \n",
    "#             else:\n",
    "#                 idx_star = p_values_less_than_alpha_fdr_frac.max()\n",
    "#                 p_fdr_star = sorted_pvalues[idx_star]\n",
    "            \n",
    "#             ax=axd[tp_key]\n",
    "#             # plot_map(ds[\"pvalue\"], ax=ax, add_colorbar=True, style=None)\n",
    "#             plot_map(ds[\"pvalue\"] <= p_fdr_star, ax=ax, add_colorbar=True, style=None, vmin=0, vmax=1)\n",
    "#             ax.set_title(f\"{tp_key}\")\n",
    "#             fig.suptitle(f\"{season} {model}\")\n",
    "#     plt.show()"
   ]
  },
  {
   "cell_type": "markdown",
   "id": "33c5fda8-b408-4b67-910a-e505461f1f57",
   "metadata": {},
   "source": [
    "### Mean change maps"
   ]
  },
  {
   "cell_type": "code",
   "execution_count": null,
   "id": "cf8b142c-3043-4fdd-bf63-637606a55b17",
   "metadata": {
    "tags": []
   },
   "outputs": [],
   "source": [
    "for ccs_pred_pr_da in ccs_pred_pr_das:\n",
    "    changes = compute_changes([ccs_pred_pr_da], cpm_pr, [\"DJF\", \"JJA\"], stat_func=xr.DataArray.mean)\n",
    "    mean_change_fig = plt.figure(figsize=(5.5, 4.5), layout=\"compressed\")\n",
    "    plot_changes(changes, [\"DJF\", \"JJA\"], mean_change_fig, show_change=[ccs_pred_pr_da[\"model\"].data.item()])\n",
    "    \n",
    "    plt.show()"
   ]
  },
  {
   "cell_type": "markdown",
   "id": "3ba0c262-9da1-400f-acec-88fce30671d0",
   "metadata": {},
   "source": [
    "### Q99 change maps"
   ]
  },
  {
   "cell_type": "code",
   "execution_count": null,
   "id": "8e614074-5371-44c7-8bb1-d7554213c148",
   "metadata": {
    "tags": []
   },
   "outputs": [],
   "source": [
    "for q in [0.99]:\n",
    "    IPython.display.display_markdown(f\"#### Quantile: {q}\", raw=True)\n",
    "\n",
    "    for ccs_pred_pr_da in ccs_pred_pr_das:\n",
    "        changes = compute_changes([ccs_pred_pr_da], cpm_pr, [\"DJF\", \"JJA\"], stat_func=functools.partial(xr.DataArray.quantile, q=q))\n",
    "        \n",
    "        mean_change_fig = plt.figure(figsize=(5.5, 4.5), layout=\"compressed\")\n",
    "        plot_changes(changes, [\"DJF\", \"JJA\"], mean_change_fig, show_change=[ccs_pred_pr_da[\"model\"].data.item()])\n",
    "        \n",
    "        plt.show()"
   ]
  },
  {
   "cell_type": "markdown",
   "id": "bdd2d0c7-48cc-473d-8494-30809a196edc",
   "metadata": {},
   "source": [
    "### CCS mean Variablity"
   ]
  },
  {
   "cell_type": "code",
   "execution_count": null,
   "id": "30d97149-6c31-428a-b0fc-6112307de745",
   "metadata": {},
   "outputs": [],
   "source": [
    "time_da = merged_ds[\"CPM\"][\"time\"]\n",
    "\n",
    "df = time_da.to_dataframe().drop_duplicates([\"stratum\", \"dec_adjusted_year\"])\n",
    "\n",
    "from sklearn.model_selection import StratifiedKFold\n",
    "\n",
    "skf = StratifiedKFold(n_splits=3, shuffle=True, random_state=42)\n",
    "\n",
    "for ccs_pred_pr_da in ccs_pred_pr_das:\n",
    "    for subsample_idx, (_, test_idx) in enumerate(skf.split(df[[\"dec_adjusted_year\"]], df[\"stratum\"])):\n",
    "        fold_df = df.iloc[test_idx]\n",
    "        fold_time_da = time_da.where(time_da[\"tp_season_year\"].isin(fold_df[\"stratum\"].str.cat(fold_df[\"dec_adjusted_year\"].astype(\"str\"), sep=' ').values), drop=True)\n",
    "        \n",
    "        ccs_pred_pr_da_subsamples = ccs_pred_pr_da.sel(time=fold_time_da.data)\n",
    "        \n",
    "        mean_changes = compute_changes([ccs_pred_pr_da_subsamples], merged_ds[\"CPM\"][\"target_pr\"].sel(time=fold_time_da), CCS_SEASONS, stat_func=xr.DataArray.mean)\n",
    "    \n",
    "        mean_change_fig = plt.figure(figsize=(5.5, 5.5), layout=\"compressed\")\n",
    "        \n",
    "        plot_changes(mean_changes, CCS_SEASONS, mean_change_fig, show_change=[ccs_pred_pr_da_subsamples[\"model\"].data.item()])\n",
    "    \n",
    "        plt.show()"
   ]
  },
  {
   "cell_type": "code",
   "execution_count": null,
   "id": "44839908-10e3-4a08-b549-22d4f6515751",
   "metadata": {},
   "outputs": [],
   "source": []
  }
 ],
 "metadata": {
  "kernelspec": {
   "display_name": "Python 3 (ipykernel)",
   "language": "python",
   "name": "python3"
  }
 },
 "nbformat": 4,
 "nbformat_minor": 5
}

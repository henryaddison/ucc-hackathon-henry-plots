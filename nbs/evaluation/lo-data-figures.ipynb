{
 "cells": [
  {
   "cell_type": "markdown",
   "id": "345a1b27-1df4-40e8-a2f9-0ff817ad8241",
   "metadata": {
    "tags": []
   },
   "source": [
    "# Evaluation of a selection of models on 60km -> 2.2km-4x over Birmingham in a low data scenario"
   ]
  },
  {
   "cell_type": "code",
   "execution_count": null,
   "id": "48718f5d-f1f8-4ccc-8089-a90b8e505b7c",
   "metadata": {
    "tags": []
   },
   "outputs": [],
   "source": [
    "%reload_ext autoreload\n",
    "\n",
    "%autoreload 2\n",
    "\n",
    "%reload_ext dotenv\n",
    "%dotenv\n",
    "\n",
    "import functools\n",
    "import math\n",
    "import string\n",
    "\n",
    "import cftime\n",
    "import IPython\n",
    "import matplotlib.pyplot as plt\n",
    "import numpy as np\n",
    "import xarray as xr\n",
    "\n",
    "from mlde_notebooks.data import prep_eval_and_model_data\n",
    "from mlde_notebooks import plot_map, precip_cmap, precip_norm\n",
    "from mlde_notebooks.psd import plot_psd, pysteps_rapsd\n",
    "from mlde_notebooks.distribution import normalized_mean_bias, normalized_std_bias, plot_freq_density, plot_mean_biases, plot_std_biases, rms_mean_bias, rms_std_bias\n",
    "from mlde_utils import cp_model_rotated_pole"
   ]
  },
  {
   "cell_type": "code",
   "execution_count": null,
   "id": "d666cd5f-2e47-4029-88a9-569d06818a63",
   "metadata": {},
   "outputs": [],
   "source": [
    "import matplotlib\n",
    "matplotlib.rcParams['figure.dpi'] = 300"
   ]
  },
  {
   "cell_type": "code",
   "execution_count": null,
   "id": "361fe73f-2d52-4862-8b8c-ab7604ad6c29",
   "metadata": {
    "tags": [
     "parameters"
    ]
   },
   "outputs": [],
   "source": [
    "split = \"test\"\n",
    "ensemble_members = [\n",
    "    \"01\",\n",
    "]\n",
    "samples_per_run = 3\n",
    "data_configs = {\n",
    "    \"CPM\": [\n",
    "        {\n",
    "            \"fq_model_id\": \"score-sde/subvpsde/xarray_12em_cncsnpp_continuous/bham-4x_12em_PslS4T4V4_random-season-IstanTsqrturrecen-no-loc-spec\",\n",
    "            \"checkpoint\": \"epoch-20\",\n",
    "            \"input_xfm\": \"stan\",\n",
    "            \"label\": \"Diffusion-cCPM\",\n",
    "            \"dataset\": \"bham_gcmx-4x_12em_psl-sphum4th-temp4th-vort4th_eqvt_random-season-historic\",\n",
    "            \"deterministic\": False,\n",
    "            \"PSD\": True,\n",
    "            \"CCS\": False,\n",
    "            \"color\": \"blue\",\n",
    "            \"order\": 10,\n",
    "        },\n",
    "        {\n",
    "            \"fq_model_id\": \"score-sde/subvpsde/xarray_cncsnpp_continuous/bham-4x_1em_PslS4T4V4_random-season-historic-IstanTsqrturrecen-no-loc-spec\",\n",
    "            \"checkpoint\": \"epoch-300\",\n",
    "            \"input_xfm\": \"stan\",\n",
    "            \"label\": \"Diffusion_ld-cCPM\",\n",
    "            \"dataset\": \"bham_gcmx-4x_1em_psl-sphum4th-temp4th-vort4th_eqvt_random-season-historic\",\n",
    "            \"deterministic\": False,\n",
    "            \"PSD\": True,\n",
    "            \"CCS\": False,\n",
    "            \"color\": \"purple\",\n",
    "            \"order\": 11,\n",
    "        },\n",
    "    ],\n",
    "    \"GCM\": [\n",
    "        {\n",
    "            \"fq_model_id\": \"score-sde/subvpsde/xarray_cncsnpp_continuous/bham-4x_1em_PslS4T4V4_random-season-historic-IstanTsqrturrecen-no-loc-spec\",\n",
    "            \"checkpoint\": \"epoch-300\",\n",
    "            \"input_xfm\": \"pixelmmsstan\",\n",
    "            \"label\": \"Diffusion_ld-GCM\",\n",
    "            \"dataset\": \"bham_60km-4x_1em_psl-sphum4th-temp4th-vort4th_eqvt_random-season-historic\",\n",
    "            \"deterministic\": False,\n",
    "            \"PSD\": True,\n",
    "            \"CCS\": False,\n",
    "            \"color\": \"darkgreen\",\n",
    "            \"order\": 21,\n",
    "        },\n",
    "    ],\n",
    "}\n",
    "\n",
    "desc = \"\"\"\n",
    "Describe in more detail the models being compared\n",
    "\"\"\""
   ]
  },
  {
   "cell_type": "code",
   "execution_count": null,
   "id": "778a28b3-8483-4b83-895c-0253b499f36b",
   "metadata": {
    "tags": []
   },
   "outputs": [],
   "source": [
    "IPython.display.Markdown(desc)"
   ]
  },
  {
   "cell_type": "code",
   "execution_count": null,
   "id": "4df16b68-4c4d-42fb-9134-72f81d23b70b",
   "metadata": {
    "tags": []
   },
   "outputs": [],
   "source": [
    "merged_ds, MODELS = prep_eval_and_model_data(data_configs, split, ensemble_members=ensemble_members, samples_per_run=samples_per_run)\n",
    "merged_ds"
   ]
  },
  {
   "cell_type": "code",
   "execution_count": null,
   "id": "3898e2ff-06da-4674-ac7c-da13d47c83b5",
   "metadata": {},
   "outputs": [],
   "source": [
    "cpm_pr = merged_ds[\"CPM\"][\"target_pr\"]"
   ]
  },
  {
   "cell_type": "markdown",
   "id": "1104e57b-f3c0-4a56-831a-ba99d91f05a4",
   "metadata": {
    "tags": []
   },
   "source": [
    "## Figure: distribution\n",
    "\n",
    "* Frequency Density Histogram of rainfall intensities\n",
    "* Maps of Mean bias ($\\frac{\\mu_{sample}-\\mu_{CPM}}{\\mu_{CPM}}$) over all samples, time and ensemble members\n",
    "* Std Dev Bias $\\frac{\\sigma_{sample}}{\\sigma_{CPM}}$ over all samples, time and ensemble members"
   ]
  },
  {
   "cell_type": "code",
   "execution_count": null,
   "id": "830dab93-2cab-46dd-8b9e-0d1bc485d02c",
   "metadata": {
    "tags": []
   },
   "outputs": [],
   "source": [
    "hist_data = [ dict(data=merged_ds[spec[\"source\"]][\"pred_pr\"].sel(model=model), label=model, color=spec[\"color\"]) for source, mconfigs in MODELS.items() for model, spec in mconfigs.items() ]\n",
    "\n",
    "mean_biases = [ dict(data=normalized_mean_bias(sample_pr.squeeze(\"model\"), cpm_pr), label=model) for source in merged_ds.keys() for model, sample_pr in merged_ds[source][\"pred_pr\"].groupby(\"model\", squeeze=False) ]\n",
    "\n",
    "std_biases = [ dict(data=normalized_std_bias(sample_pr.squeeze(\"model\"), cpm_pr), label=model) for source in merged_ds.keys() for model, sample_pr in merged_ds[source][\"pred_pr\"].groupby(\"model\", squeeze=False) ]\n",
    "\n",
    "cpm_hr_rapsd = pysteps_rapsd(merged_ds[\"CPM\"][\"target_pr\"].stack(example=[\"ensemble_member\", \"time\"]).transpose(\"example\", \"grid_latitude\", \"grid_longitude\"), pixel_size=8.8).mean(dim=\"example\").drop_sel(freq=0)\n",
    "\n",
    "pred_rapsds = [\n",
    "    {\n",
    "        \"label\": model,\n",
    "        \"color\": spec[\"color\"],\n",
    "        \"data\": pysteps_rapsd(merged_ds[spec[\"source\"]][\"pred_pr\"].sel(model=model).stack(example=[\"ensemble_member\", \"sample_id\", \"time\"]).transpose(\"example\", \"grid_latitude\", \"grid_longitude\"), pixel_size=8.8).mean(dim=\"example\").drop_sel(freq=0)\n",
    "    }\n",
    "    for source, mconfigs in MODELS.items() for model, spec in mconfigs.items()\n",
    "]"
   ]
  },
  {
   "cell_type": "code",
   "execution_count": null,
   "id": "0358938a-9187-4520-85ea-0bf1beae5b2f",
   "metadata": {
    "tags": []
   },
   "outputs": [],
   "source": [
    "fig = plt.figure(layout='constrained', figsize=(5.5, 6.5))\n",
    "\n",
    "samples_to_show = 2\n",
    "\n",
    "em_ts = {\n",
    "    # (\"01\", \"2029-12-04\"),\n",
    "    \"\": (\"01\", cftime.Datetime360Day(1993, 8, 1, 12)),\n",
    "    # \"JJA Wettest\": (\"01\", \"2073-07-30\")\n",
    "}\n",
    "\n",
    "models = [\"Diffusion_ld-cCPM\"]\n",
    "sample_axes_keys = np.array([[f\"CPM {em_ts_key}\"] + [f\"{model} {em_ts_key} sample {sidx}\" for sidx in range(samples_to_show)] for model in models for em_ts_key in (em_ts.keys())])\n",
    "sample_spec = np.array(sample_axes_keys).reshape(len(models) * len(em_ts),-1)\n",
    "\n",
    "dist_spec = np.array([\"Density\"] * sample_spec.shape[1]).reshape(1,-1)\n",
    "\n",
    "rapsd_spec = np.array([\"RAPSD\"] * sample_spec.shape[1]).reshape(1,-1)\n",
    "\n",
    "spec = np.concatenate([dist_spec, sample_spec, rapsd_spec], axis=0)\n",
    "\n",
    "axd = fig.subplot_mosaic(spec, gridspec_kw=dict(height_ratios=[3, 2, 3]), per_subplot_kw={ak: {\"projection\": cp_model_rotated_pole} for ak in sample_axes_keys.flat})\n",
    "\n",
    "ax = axd[\"Density\"]\n",
    "\n",
    "plot_freq_density(hist_data, target_da=cpm_pr, ax=ax)\n",
    "ax.annotate(\"a.\", xy=(0.04, 1.0), xycoords=(\"figure fraction\", \"axes fraction\"), weight='bold', ha=\"left\", va=\"bottom\")\n",
    "\n",
    "for model in models:\n",
    "    for tsi, (desc, ts) in enumerate(em_ts.items()):\n",
    "        pr_da = merged_ds[\"CPM\"].sel(ensemble_member=ts[0]).sel(time=ts[1], method=\"nearest\")[\"target_pr\"]\n",
    "        \n",
    "        ax = axd[f\"CPM {desc}\"]\n",
    "        plot_map(\n",
    "            pr_da,\n",
    "            ax,\n",
    "            cmap=precip_cmap,\n",
    "            norm=precip_norm,\n",
    "            add_colorbar=False,\n",
    "        )\n",
    "        ax.set_title(\"CPM\", fontsize=\"medium\")\n",
    "        # label row\n",
    "        ax.text(\n",
    "            -0.1,\n",
    "            0.5,\n",
    "            desc,\n",
    "            transform=ax.transAxes,\n",
    "            ha=\"right\",\n",
    "            va=\"center\",\n",
    "            fontsize=\"medium\",\n",
    "            rotation=90,\n",
    "        )\n",
    "        # annotate row with identifier\n",
    "        ax.annotate(\"b.\", xy=(0.04, 1.0), xycoords=(\"figure fraction\", \"axes fraction\"), weight='bold', ha=\"left\", va=\"bottom\")\n",
    "        for sidx in range(2):\n",
    "            print(f\"Precip from EM{ts[0]} on {ts[1]}\")\n",
    "        \n",
    "            ts_ds = merged_ds[\"CPM\"].sel(ensemble_member=ts[0]).sel(time=ts[1], method=\"nearest\")\n",
    "    \n",
    "            pr_da = ts_ds.sel(model=model).isel(sample_id=sidx)[\"pred_pr\"]\n",
    "            ax = axd[f\"{model} {desc} sample {sidx}\"]\n",
    "            \n",
    "            plot_map(\n",
    "                pr_da,\n",
    "                ax,\n",
    "                cmap=precip_cmap,\n",
    "                norm=precip_norm,\n",
    "                add_colorbar=False,\n",
    "            )\n",
    "            ax.set_title(f\"Sample {sidx+1}\", fontsize=\"medium\")\n",
    "\n",
    "ax = axd[\"RAPSD\"]\n",
    "plot_psd(cpm_hr_rapsd, pred_rapsds, ax=ax, legend_kwargs={\"fontsize\": \"small\"})\n",
    "ax.annotate(\"c.\", xy=(0.04, 1.0), xycoords=(\"figure fraction\", \"axes fraction\"), weight='bold', ha=\"left\", va=\"bottom\")"
   ]
  },
  {
   "cell_type": "code",
   "execution_count": null,
   "id": "ae967136-dfee-4d5e-bb46-62af8075942c",
   "metadata": {},
   "outputs": [],
   "source": [
    "def rmmb(pred_pr):\n",
    "    return rms_mean_bias(pred_pr, cpm_pr)\n",
    "def rmsb(pred_pr):\n",
    "    return rms_std_bias(pred_pr, cpm_pr)\n",
    "\n",
    "rms_mean_biases = xr.concat([ merged_ds[source][\"pred_pr\"].groupby(\"model\", squeeze=False).map(rmmb) for source in merged_ds.keys() ], dim=\"model\")\n",
    "rms_std_biases = xr.concat([ merged_ds[source][\"pred_pr\"].groupby(\"model\", squeeze=False).map(rmsb) for source in merged_ds.keys() ], dim=\"model\")\n",
    "\n",
    "IPython.display.display_html(rms_mean_biases.rename(\"Root Mean Square Mean Bias (mm/day)\").to_dataframe().round(2).to_html(), raw=True)\n",
    "IPython.display.display_html(rms_std_biases.rename(\"Root Mean Square Std Dev Bias (mm/day)\").to_dataframe().round(2).to_html(), raw=True)"
   ]
  },
  {
   "cell_type": "code",
   "execution_count": null,
   "id": "b42147cb-473d-41c0-8c15-5089ec85d37a",
   "metadata": {},
   "outputs": [],
   "source": []
  }
 ],
 "metadata": {
  "kernelspec": {
   "display_name": "Python 3 (ipykernel)",
   "language": "python",
   "name": "python3"
  }
 },
 "nbformat": 4,
 "nbformat_minor": 5
}

{
 "cells": [
  {
   "cell_type": "markdown",
   "id": "345a1b27-1df4-40e8-a2f9-0ff817ad8241",
   "metadata": {},
   "source": [
    "# Samples from models on 60km -> 2.2km-4x over Birmingham"
   ]
  },
  {
   "cell_type": "code",
   "execution_count": null,
   "id": "48718f5d-f1f8-4ccc-8089-a90b8e505b7c",
   "metadata": {},
   "outputs": [],
   "source": [
    "%reload_ext autoreload\n",
    "\n",
    "%autoreload 2\n",
    "\n",
    "%reload_ext dotenv\n",
    "%dotenv\n",
    "\n",
    "import IPython\n",
    "import matplotlib.pyplot as plt\n",
    "\n",
    "from mlde_notebooks.data import prep_eval_and_model_data\n",
    "from mlde_notebooks.samples import show_samples, em_timestamps"
   ]
  },
  {
   "cell_type": "code",
   "execution_count": null,
   "id": "47bae957-5b0f-4d49-be85-69cd29aa4acc",
   "metadata": {},
   "outputs": [],
   "source": [
    "import matplotlib\n",
    "matplotlib.rcParams['figure.dpi'] = 300"
   ]
  },
  {
   "cell_type": "code",
   "execution_count": null,
   "id": "361fe73f-2d52-4862-8b8c-ab7604ad6c29",
   "metadata": {
    "tags": [
     "parameters"
    ]
   },
   "outputs": [],
   "source": [
    "split = \"val\"\n",
    "ensemble_members = [\n",
    "    \"01\",\n",
    "    \"04\",\n",
    "    \"05\",\n",
    "    \"06\",\n",
    "    \"07\",\n",
    "    \"08\",\n",
    "    \"09\",\n",
    "    \"10\",\n",
    "    \"11\",\n",
    "    \"12\",\n",
    "    \"13\",\n",
    "    \"15\",\n",
    "]\n",
    "samples_per_run = 3\n",
    "data_configs = {\n",
    "    \"CPM\": [\n",
    "        {\n",
    "            \"fq_model_id\": \"score-sde/subvpsde/xarray_12em_cncsnpp_continuous/bham-4x_12em_PslS4T4V4_random-season-IstanTsqrturrecen-no-loc-spec\",\n",
    "            \"checkpoint\": \"epoch-20\",\n",
    "            \"input_xfm\": \"stan\",\n",
    "            \"label\": \"Diffusion (cCPM)\",\n",
    "            \"dataset\": \"bham_gcmx-4x_12em_psl-sphum4th-temp4th-vort4th_eqvt_random-season\",\n",
    "            \"deterministic\": False,\n",
    "            \"PSD\": True,\n",
    "            \"color\": \"blue\",\n",
    "            \"order\": 10,\n",
    "        },\n",
    "        {\n",
    "            \"fq_model_id\": \"u-net/bham-4x_12em_PslS4T4V4_random-season-IstanTsqrturrecen\",\n",
    "            \"checkpoint\": \"epoch-100\",\n",
    "            \"input_xfm\": \"stan\",\n",
    "            \"label\": \"U-Net (cCPM)\",\n",
    "            \"dataset\": \"bham_gcmx-4x_12em_psl-sphum4th-temp4th-vort4th_eqvt_random-season\",\n",
    "            \"deterministic\": True,\n",
    "            \"PSD\": True,\n",
    "            \"color\": \"orange\",\n",
    "            \"order\": 1,\n",
    "        },\n",
    "        {\n",
    "            \"fq_model_id\": \"id-linpr\",\n",
    "            \"checkpoint\": \"epoch-0\",\n",
    "            \"input_xfm\": \"none\",\n",
    "            \"label\": \"Bilinear cCPM\",\n",
    "            \"deterministic\": True,\n",
    "            \"dataset\": \"bham_gcmx-4x_12em_linpr_eqvt_random-season\",\n",
    "            \"color\": \"red\",\n",
    "            \"order\": 0,\n",
    "        },\n",
    "    ],\n",
    "    \"GCM\": [\n",
    "        {\n",
    "            \"fq_model_id\": \"score-sde/subvpsde/xarray_12em_cncsnpp_continuous/bham-4x_12em_PslS4T4V4_random-season-IstanTsqrturrecen-no-loc-spec\",\n",
    "            \"checkpoint\": \"epoch-20\",\n",
    "            \"input_xfm\": \"pixelmmsstan\",\n",
    "            \"label\": \"Diffusion (GCM)\",\n",
    "            \"dataset\": \"bham_60km-4x_12em_psl-sphum4th-temp4th-vort4th_eqvt_random-season\",\n",
    "            \"deterministic\": False,\n",
    "            \"CCS\": True,\n",
    "            \"color\": \"green\",\n",
    "            \"order\": 20,\n",
    "            \n",
    "        },\n",
    "    ],\n",
    "}\n",
    "\n",
    "sample_percentiles={\n",
    "    \"CPM\": [{\"label\": \"Wet\", \"percentile\": 0.8}, {\"label\": \"Wettest\", \"percentile\": 1}],\n",
    "    \"GCM\": [{\"label\": \"Wet\", \"percentile\": 0.8}, {\"label\": \"Wettest\", \"percentile\": 1}],\n",
    "}\n",
    "sample_overrides={\"CPM\": {}, \"GCM\": {}}\n",
    "\n",
    "desc = \"\"\"\n",
    "Describe in more detail the models being compared\n",
    "\"\"\""
   ]
  },
  {
   "cell_type": "code",
   "execution_count": null,
   "id": "778a28b3-8483-4b83-895c-0253b499f36b",
   "metadata": {},
   "outputs": [],
   "source": [
    "IPython.display.Markdown(desc)"
   ]
  },
  {
   "cell_type": "code",
   "execution_count": null,
   "id": "4df16b68-4c4d-42fb-9134-72f81d23b70b",
   "metadata": {},
   "outputs": [],
   "source": [
    "EVAL_DS, MODELS = prep_eval_and_model_data(data_configs, split, ensemble_members=ensemble_members, samples_per_run=samples_per_run)\n",
    "EVAL_DS"
   ]
  },
  {
   "cell_type": "code",
   "execution_count": null,
   "id": "c75dc6b3-6e0f-40fd-a1dc-2d0cad2c6b25",
   "metadata": {
    "tags": []
   },
   "outputs": [],
   "source": [
    "seasons=[\"DJF\", \"JJA\"]\n",
    "\n",
    "examples_to_plot = {}\n",
    "\n",
    "for source in EVAL_DS.keys():\n",
    "    IPython.display.display_html(f\"<h2>{source} Samples</h2>\", raw=True)\n",
    "    em_ts = em_timestamps(EVAL_DS[source], seasons=seasons, percentiles=sample_percentiles[source], overrides=sample_overrides[source])\n",
    "\n",
    "    examples_to_plot[source] = em_ts"
   ]
  },
  {
   "cell_type": "code",
   "execution_count": null,
   "id": "cfd20fe4-e06c-49f8-89d0-a790e7236d24",
   "metadata": {},
   "outputs": [],
   "source": [
    "for source in EVAL_DS.keys():\n",
    "    fig_width = min(2 + len(MODELS[source]) + 1, 5.5)\n",
    "    fig_height = len(sample_percentiles[source])*len(seasons)\n",
    "    \n",
    "    fig = plt.figure(layout=\"constrained\", figsize=(fig_width, fig_height))\n",
    "    show_samples( EVAL_DS[source], examples_to_plot[source], models=MODELS[source], fig=fig, sim_title=source)\n",
    "    plt.show()"
   ]
  }
 ],
 "metadata": {
  "kernelspec": {
   "display_name": "Python 3 (ipykernel)",
   "language": "python",
   "name": "python3"
  }
 },
 "nbformat": 4,
 "nbformat_minor": 5
}
